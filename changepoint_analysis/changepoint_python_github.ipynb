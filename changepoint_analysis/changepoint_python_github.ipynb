{
 "cells": [
  {
   "cell_type": "markdown",
   "id": "3672cb3b",
   "metadata": {},
   "source": [
    "# Changepoint analysis : python\n",
    "\n",
    "I initially made a post about changepoint analysis using Matlab.  This is a follow-up post of changepoint analysis using python tools!  When I initially coded changepoint analysis years ago in Matlab, there were no comparison methods that one could readily use.  Over the years, a bayseian inspired version of changepoint was been created, and the original changepoint analysis version is more readily available.  After reading a few blog posts on Kats (https://pypi.org/project/kats/) by Facebook's Infrastructure Strategy team, I decided to try it out and see how it compared to my handmade version.\n",
    "\n",
    "Below is a quick recode of the handmade Matlab version in python.\n",
    "\n",
    "<img src=\"main_splash_python.png\" alt=\"Drawing\" style=\"width: 700px;\"/>"
   ]
  },
  {
   "cell_type": "code",
   "execution_count": 1,
   "id": "1901bd33",
   "metadata": {},
   "outputs": [],
   "source": [
    "def make_a_properlist(vec):\n",
    "    \n",
    "    import numpy as np\n",
    "    \n",
    "    out = []\n",
    "    for i in range(len(vec)):\n",
    "        out = out + [np.ravel(vec[i])]\n",
    "    vecout = np.concatenate(out).ravel().tolist()\n",
    "    \n",
    "    return vecout"
   ]
  },
  {
   "cell_type": "code",
   "execution_count": 2,
   "id": "c35386fa",
   "metadata": {},
   "outputs": [],
   "source": [
    "def changepoint(x):\n",
    "    \n",
    "    trig = 'loop'\n",
    "    count = 0\n",
    "    \n",
    "    xdict = {}\n",
    "    xdict[count] = x\n",
    "    \n",
    "    nc = 0\n",
    "    levels = 0\n",
    "    \n",
    "    avgCon_level = []\n",
    "    change = []\n",
    "    avgm_MSE = []\n",
    "    \n",
    "    while trig == 'loop':\n",
    "        avgCon_level_cur, change_cur, avgm_MSE_cur = CP(xdict[count], count)\n",
    "        avgCon_level.append(avgCon_level_cur)\n",
    "        change.append(change_cur)\n",
    "        avgm_MSE.append(avgm_MSE_cur)\n",
    "        \n",
    "        if change_cur == 1:\n",
    "            # Split data in half: start with left side\n",
    "            print('avgm_MSE[count] : ', avgm_MSE[count])\n",
    "            xdict[int(count+1)] = xdict[count][0:int(avgm_MSE[count]-1)]\n",
    "            \n",
    "            levels = 0\n",
    "            for u in range(len(change)):\n",
    "                if change[u] == 1:\n",
    "                    levels = levels + 1\n",
    "        else:\n",
    "            if (levels - nc) == 0:\n",
    "                trig = 'brloop'\n",
    "            else:\n",
    "                if len(change) == 4:\n",
    "                    temp = [1, 0, 1, 0]\n",
    "                    out = [True if temp[i] == change[i] else False for i in change]\n",
    "                    \n",
    "                    if all(out) == True:\n",
    "                        xdict[int(count+1)] = xdict[int(count-1)][int(avgm_MSE[int(count-1)])::]\n",
    "                    else:\n",
    "                        xdict[int(count+1)] = xdict[int(levels-nc)][int(avgm_MSE[int(levels-nc)])::]\n",
    "                else:\n",
    "                    xdict[int(count+1)] = xdict[int(levels-nc)][int(avgm_MSE[int(levels-nc)])::]\n",
    "            \n",
    "            nc = nc + 1\n",
    "        count = count + 1\n",
    "\n",
    "    return avgCon_level, change, avgm_MSE"
   ]
  },
  {
   "cell_type": "code",
   "execution_count": 3,
   "id": "0ad8d2ae",
   "metadata": {},
   "outputs": [],
   "source": [
    "def CP(x, count):\n",
    "    x_avg, S, S_min, S_max, S_diff = CUMSUM_J(x)\n",
    "    Con_level, m_CUMSUM, m_MSE = procedure(x, S, S_max, S_diff, count)\n",
    "    avgm_MSE = np.mean(m_MSE)\n",
    "    avgCon_level, change = sigcheck(Con_level, avgm_MSE)\n",
    "    \n",
    "    return avgCon_level, change, avgm_MSE"
   ]
  },
  {
   "cell_type": "code",
   "execution_count": 4,
   "id": "65298300",
   "metadata": {},
   "outputs": [],
   "source": [
    "def CUMSUM_J(x):\n",
    "    x_avg = np.mean(x)\n",
    "\n",
    "    # 2: Start the cumulative sum at zero by setting S_{0} = 0\n",
    "    S = []\n",
    "    S.append(0)\n",
    "\n",
    "    # 3: Calculate the other cumulative sums by adding the difference between\n",
    "    # current value and the average to the previous sum, i.e.,S_{i}=S_{i-1} + (x_{i}-x_avg) for i = 1, 2,...,24\n",
    "    for i in range(1, len(x)):\n",
    "        S.append(S[i-1] + (x[i-1] - x_avg))\n",
    "        \n",
    "    # 4: Calculate an estimator of the magnitude of the change\n",
    "    S_min = np.min(S)\n",
    "    S_max = np.max(S)\n",
    "    S_diff = S_max - S_min\n",
    "    \n",
    "    return x_avg, S, S_min, S_max, S_diff"
   ]
  },
  {
   "cell_type": "code",
   "execution_count": 5,
   "id": "745e82e3",
   "metadata": {},
   "outputs": [],
   "source": [
    "def procedure(x, S, S_max, S_diff, count):\n",
    "\n",
    "    Con_level = []\n",
    "    m_CUMSUM = []\n",
    "    m_MSE = []\n",
    "    \n",
    "    # Repeat this bootstraping analysis 10 times to see if it is consistent\n",
    "    for j in range(10):\n",
    "        # 5: Bootstrap analysis\n",
    "        N = 1000  # N = the number of bootstrap samples performed\n",
    "        \n",
    "        x_boot = {}\n",
    "        x_avg_boot = []\n",
    "        S_boot = []\n",
    "        S_min_boot = []\n",
    "        S_max_boot = []\n",
    "        S_diff_boot = []\n",
    "        \n",
    "        for i in range(N):\n",
    "            x_boot_order = np.random.permutation(len(x))\n",
    "            \n",
    "            tmp = []\n",
    "            for k in range(len(x)):\n",
    "                tmp.append(x[x_boot_order[k]])\n",
    "            x_boot[i] = tmp\n",
    "            \n",
    "            x_avg_boot_tmp, S_boot_tmp, S_min_boot_tmp, S_max_boot_tmp, S_diff_boot_tmp = CUMSUM_J(x_boot[i])\n",
    "            S_diff_boot.append(S_diff_boot_tmp)\n",
    "\n",
    "        # A bootstrap analysis consists of performing a large number of bootstraps and counting the number of bootstraps for which S_diff_boot < S_diff.\n",
    "        # Let N be the number of bootstrap samples performed and let X be the number of bootstraps for which S_diff_boot < S_diff.  \n",
    "        X = 0\n",
    "        for i in range(N):\n",
    "            if S_diff_boot[i] < S_diff:\n",
    "                X = X + 1  # X = the number of bootstraps for which S_diff# < S_diff\n",
    "\n",
    "        Con_level.append(100*(X/N))  # Confidence level that a change occurred as a percentage\n",
    "        \n",
    "        S_diff_all = S_diff, S_diff_boot\n",
    "        S_diff_all = make_a_properlist(S_diff_all)\n",
    "        \n",
    "        # Sm = the point furthest from zeros in the CUMSUM chart\n",
    "        Sm = S_max\n",
    "\n",
    "        for i in range(len(S)):\n",
    "            if S[i] == S_max:\n",
    "                m = i  # m = the last point before the change occurred, the point m+1 estimates the first point after the change\n",
    "        m_CUMSUM.append(m)\n",
    "\n",
    "        # 7: Second estimator of when the change occurred is the mean square error\n",
    "        # (MSE) estimator.  The value of m that minimizes MSE(m) is the best\n",
    "        # estimator of the last point before the change.\n",
    "        MSE_m = []\n",
    "        for m in range(len(x)):\n",
    "            x_avg1 = np.sum(x[0:m-1])/m\n",
    "\n",
    "            x_avg2 = np.sum(x[m:len(x)])/(len(x) - m)\n",
    "\n",
    "            MSE_m.append(np.sum((x[0:m-1] - x_avg1)**2) + np.sum((x[m:len(x)] - x_avg2)**2) )\n",
    "\n",
    "        for i in range(len(x)):\n",
    "            if MSE_m[i] == np.min(MSE_m):\n",
    "                m_MSE.append(i)  # The value of m minimizing MSE(m)\n",
    "    \n",
    "    return Con_level, m_CUMSUM, m_MSE"
   ]
  },
  {
   "cell_type": "code",
   "execution_count": 6,
   "id": "e87833bc",
   "metadata": {},
   "outputs": [],
   "source": [
    "def sigcheck(Con_level, m_MSE):\n",
    "\n",
    "    avgCon_level = np.mean(Con_level)\n",
    "    if avgCon_level > 90:\n",
    "        print('Change detected: datapoint = ', m_MSE)\n",
    "        change = 1\n",
    "    else:\n",
    "        print('No change detected')\n",
    "        change = 0\n",
    "    \n",
    "    return avgCon_level, change"
   ]
  },
  {
   "cell_type": "code",
   "execution_count": 7,
   "id": "dad71830",
   "metadata": {
    "scrolled": true
   },
   "outputs": [
    {
     "name": "stderr",
     "output_type": "stream",
     "text": [
      "C:\\Users\\jamilah\\AppData\\Local\\Temp/ipykernel_5764/2220412896.py:57: RuntimeWarning: divide by zero encountered in double_scalars\n",
      "  x_avg1 = np.sum(x[0:m-1])/m\n"
     ]
    },
    {
     "name": "stdout",
     "output_type": "stream",
     "text": [
      "Change detected: datapoint =  10.0\n",
      "avgm_MSE[count] :  10.0\n",
      "No change detected\n",
      "No change detected\n",
      "avgCon_level :  [100.0, 81.57000000000001, 79.73]\n",
      "change :  [1, 0, 0]\n",
      "avgm_MSE :  [10.0, 1.0, 1.0]\n"
     ]
    }
   ],
   "source": [
    "import numpy as np\n",
    "\n",
    "x = [10.7, 13.0, 11.4, 11.5, 12.5, 14.1, 14.8, 14.1, 12.6, 16.0, 11.7, 10.6, 10.0, 11.4, 7.9, 9.5, 8.0, 11.8, 10.5, 11.2, 9.2, 10.1, 10.4, 10.5]\n",
    "avgCon_level, change, avgm_MSE = changepoint(x)\n",
    "\n",
    "print('avgCon_level : ', avgCon_level)\n",
    "print('change : ', change)\n",
    "print('avgm_MSE : ', avgm_MSE)"
   ]
  },
  {
   "cell_type": "markdown",
   "id": "3c722b18",
   "metadata": {},
   "source": [
    "# Kats"
   ]
  },
  {
   "cell_type": "code",
   "execution_count": 8,
   "id": "01f80be5",
   "metadata": {
    "scrolled": false
   },
   "outputs": [
    {
     "name": "stderr",
     "output_type": "stream",
     "text": [
      "WARNING:root:kats.utils.time_series_parameter_tuning requires ax-platform be installed\n",
      "WARNING:root:kats.models.metalearner.get_metadata requires ax-platform be installed\n"
     ]
    },
    {
     "name": "stdout",
     "output_type": "stream",
     "text": [
      "change_points :  [(TimeSeriesChangePoint(start_time: 2019-01-11 00:00:00, end_time: 2019-01-11 00:00:00, confidence: 0.9998701448915757), <kats.detectors.cusum_detection.CUSUMMetadata object at 0x000001F6435BC8E0>)]\n",
      "change_point :  TimeSeriesChangePoint(start_time: 2019-01-11 00:00:00, end_time: 2019-01-11 00:00:00, confidence: 0.9998701448915757)\n",
      "metadata.__dict__} :  {'_direction': 'decrease', '_cp_index': 10, '_mu0': 12.945454545454544, '_mu1': 10.084615384615386, '_delta': -2.8608391608391575, '_llr_int': inf, '_llr': 17.89818255932872, '_regression_detected': True, '_stable_changepoint': True, '_p_value': 0.00012985510842433712, '_p_value_int': nan}\n",
      "metadata._cp_index :  10\n"
     ]
    },
    {
     "data": {
      "image/png": "[encoded data removed]",
      "text/plain": [
       "<Figure size 432x288 with 1 Axes>"
      ]
     },
     "metadata": {
      "needs_background": "light"
     },
     "output_type": "display_data"
    }
   ],
   "source": [
    "from kats.consts import TimeSeriesData, TimeSeriesIterator\n",
    "from kats.detectors.cusum_detection import CUSUMDetector\n",
    "import matplotlib.pyplot as plt\n",
    "\n",
    "import pandas as pd\n",
    "\n",
    "df = pd.DataFrame(\n",
    "    {\n",
    "        'time': pd.date_range('2019-01-01', periods=len(x)),\n",
    "        'sig': x,\n",
    "    }\n",
    ")\n",
    "\n",
    "tsd = TimeSeriesData(df)\n",
    "detector = CUSUMDetector(tsd)\n",
    "change_points = detector.detector(change_directions=[\"decrease\", \"increase\"])\n",
    "\n",
    "print('change_points : ', change_points)\n",
    "\n",
    "change_point, metadata = change_points[0]\n",
    "print('change_point : ', change_point)\n",
    "print('metadata.__dict__} : ', metadata.__dict__)\n",
    "print('metadata._cp_index : ', metadata._cp_index)\n",
    "\n",
    "plt.xticks(rotation=45)\n",
    "detector.plot(change_points)\n",
    "plt.show()"
   ]
  },
  {
   "cell_type": "markdown",
   "id": "a606fde5",
   "metadata": {},
   "source": [
    "# Comparison graph"
   ]
  },
  {
   "cell_type": "code",
   "execution_count": 10,
   "id": "47f7be03",
   "metadata": {},
   "outputs": [
    {
     "data": {
      "text/plain": [
       "Text(0, 0.5, 'x')"
      ]
     },
     "execution_count": 10,
     "metadata": {},
     "output_type": "execute_result"
    },
    {
     "data": {
      "image/png": "[encoded data removed]",
      "text/plain": [
       "<Figure size 1008x432 with 1 Axes>"
      ]
     },
     "metadata": {},
     "output_type": "display_data"
    }
   ],
   "source": [
    "import seaborn as sns\n",
    "import matplotlib.pyplot as plt\n",
    "\n",
    "plt.figure(figsize=(14,6))  # width, height of the figure\n",
    "sns.set(style=\"whitegrid\")\n",
    "\n",
    "# Handmade : Python\n",
    "sns.lineplot(data=x, label=\"x\")\n",
    "sns.scatterplot(x=avgm_MSE[0]*np.ones((3)), y=x[int(avgm_MSE[0])]*np.ones((3)), marker=\"s\", label=\"handmade\")\n",
    "\n",
    "# Kats \n",
    "sns.scatterplot(x=metadata._cp_index*np.ones((3)), y=x[int(metadata._cp_index)]*np.ones((3)), marker=\"o\", label=\"kats\")\n",
    "\n",
    "plt.title(\"changepoint data\")\n",
    "plt.xlabel(\"data points\")\n",
    "plt.ylabel(\"x\")"
   ]
  },
  {
   "cell_type": "markdown",
   "id": "9dcf0584",
   "metadata": {},
   "source": [
    "It is reassuring to see that my handmade version, both Python and Matlab, triggers on the same point as Kats. "
   ]
  },
  {
   "cell_type": "code",
   "execution_count": null,
   "id": "40a99ee8",
   "metadata": {},
   "outputs": [],
   "source": []
  }
 ],
 "metadata": {
  "kernelspec": {
   "display_name": "Python 3 (ipykernel)",
   "language": "python",
   "name": "python3"
  },
  "language_info": {
   "codemirror_mode": {
    "name": "ipython",
    "version": 3
   },
   "file_extension": ".py",
   "mimetype": "text/x-python",
   "name": "python",
   "nbconvert_exporter": "python",
   "pygments_lexer": "ipython3",
   "version": "3.9.6"
  }
 },
 "nbformat": 4,
 "nbformat_minor": 5
}
