{
 "cells": [
  {
   "cell_type": "markdown",
   "id": "0caf1328",
   "metadata": {},
   "source": [
    "# DataFrame parser\n",
    "\n",
    "Often times you encounter a new DataFrame and may have a deadline to look at the data quickly.  It is useful to have some general automated tools already prepared such that you can spend more time doing high-level thinking about the data, instead of 'low-level' data preparation.  \n",
    "\n",
    "Often data is messy and you may need to make the data in every column a certain data type, or removed erroneous data entries (mixtures of different data types).  A general program that parsers a DataFrame to get the desired data type and format per column could be helpful!  Below, I work on making a dataframe parser using a dataset from Kaggle.\n",
    "\n",
    "<img src=\"main_splash.png\" alt=\"Drawing\" style=\"width: 300px;\"/>"
   ]
  },
  {
   "cell_type": "markdown",
   "id": "d2a0da18",
   "metadata": {},
   "source": [
    "# Load the DataFrame parser"
   ]
  },
  {
   "cell_type": "code",
   "execution_count": null,
   "id": "ae4fefb8",
   "metadata": {},
   "outputs": [],
   "source": [
    "# DataFrame_parser0 \n",
    "#<script src=\"https://gist.github.com/j622amilah/838ad3536fe3d8aec5fad70094d47880.js\"></script>\n",
    "def transform_scalar(dt_des, val):\n",
    "    if dt_des == 'int':\n",
    "        out = int(val)\n",
    "    elif  dt_des == 'float':\n",
    "        out = float(val)\n",
    "    elif  dt_des == 'str':\n",
    "        out = str(val.lower())\n",
    "    return out"
   ]
  },
  {
   "cell_type": "code",
   "execution_count": null,
   "id": "bf96a274",
   "metadata": {},
   "outputs": [],
   "source": [
    "# DataFrame_parser1\n",
    "# <script src=\"https://gist.github.com/j622amilah/631d4aab5a996eacf744d7e5a4d27a5b.js\"></script>\n",
    "def df_parcer(df, dt_desired):\n",
    "    \n",
    "    row = df.shape[0]\n",
    "    col = df.shape[1]\n",
    "\n",
    "    # loop to find the data type for each column\n",
    "    for i in range(col):\n",
    "        #print('i : ', i)\n",
    "        for j in range(row):\n",
    "            \n",
    "            # Make a string\n",
    "            df_entry = df.iloc[j,i]\n",
    "            \n",
    "            # if it is a string, convert to desired format\n",
    "            if isinstance(df_entry, str):\n",
    "                b = df_entry.strip('~#!°=*$?&|_(-)[]/\\^`@').lower()\n",
    "\n",
    "                # Check if string is a number\n",
    "                if df_entry == b:\n",
    "                    # it is a number\n",
    "                    df.iloc[j,i] = transform_scalar(dt_desired[i], df_entry)\n",
    "                else: \n",
    "                    # it is a word or it is numbers_and_letters\n",
    "                    if any([k.isnumeric() for k in df_entry]) == False:\n",
    "                        # it is a word\n",
    "                        df.iloc[j,i] = transform_scalar(dt_desired[i], df_entry)\n",
    "                    else:\n",
    "                        # it is numbers_and_letters : poor/unreliable measure :  make nan\n",
    "                        df.iloc[j,i] = np.nan\n",
    "            else: \n",
    "                # If not a string, it is either a number or a nan\n",
    "                # Want only entries that are NOT nan\n",
    "                if np.isnan(df_entry) == False:\n",
    "                    b = str(df_entry).lower()\n",
    "\n",
    "                    if str(df_entry) == b:\n",
    "                        # it is a number\n",
    "                        df.iloc[j,i] = transform_scalar(dt_desired[i], df_entry)\n",
    "                    else: \n",
    "                        # it is numbers_and_letters : poor/unreliable measure :  make nan\n",
    "                        df.iloc[j,i] = np.nan\n",
    "                        \n",
    "    return df"
   ]
  },
  {
   "cell_type": "markdown",
   "id": "dabc705d",
   "metadata": {},
   "source": [
    "# Load the DataFrame"
   ]
  },
  {
   "cell_type": "code",
   "execution_count": null,
   "id": "39bf28bc",
   "metadata": {},
   "outputs": [],
   "source": [
    "df = pd.read_csv(\"/kaggle/input/global-food-prices-dataset/global_food_prices.csv\")"
   ]
  },
  {
   "cell_type": "code",
   "execution_count": null,
   "id": "55d5f0cf",
   "metadata": {},
   "outputs": [],
   "source": [
    "df_short = df.iloc[0:100,7:10]"
   ]
  },
  {
   "cell_type": "code",
   "execution_count": null,
   "id": "2b1b97aa",
   "metadata": {},
   "outputs": [],
   "source": [
    "dt_desired = ['str', 'int', 'str']  # desired data types per column\n",
    "df_parced = df_parcer(df_short, dt_desired)"
   ]
  }
 ],
 "metadata": {
  "kernelspec": {
   "display_name": "Python 3 (ipykernel)",
   "language": "python",
   "name": "python3"
  },
  "language_info": {
   "codemirror_mode": {
    "name": "ipython",
    "version": 3
   },
   "file_extension": ".py",
   "mimetype": "text/x-python",
   "name": "python",
   "nbconvert_exporter": "python",
   "pygments_lexer": "ipython3",
   "version": "3.9.6"
  }
 },
 "nbformat": 4,
 "nbformat_minor": 5
}
