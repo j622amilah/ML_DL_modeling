{
 "cells": [
  {
   "cell_type": "markdown",
   "id": "74d29b99",
   "metadata": {},
   "source": [
    "# HackerRank Tests: Python\n",
    "\n",
    "I read that HackerRank tests are used by many companies as an evaluation method to select potential employees.  As much as I try to approach tests in a positive manner, I find it hard to show my true ability when take tests.  I either run out of time or panic, if I have not over practiced the test material.  The HackerRank tests are a good way to practice moderately challenging problems.  Many coding platforms that I tried like CodinGame, Kaggle, Mito python android app are too easy.  But, HackerRank gives more challenging problems.  Below are three problems that I tried.  \n",
    "\n",
    "You can take a practice test before you take the two main test questions.  Each main test question is 60 mins long.  After you code the answer, it is best to check your output by clicking on \"Test Results\" as the platform needs the answer to be in a specific format.\n",
    "\n",
    "As you can see in the pictures, they give example of how the algorithm should work and the expected output.  This is very helpful because the question can be difficult to understand, as in the dominant cells example below.  \n",
    "\n",
    "Once you click on \"Submit\" for both test, they email you if you pass or not.  If you do not pass you have to wait a month before you can try again.  Good luck!"
   ]
  },
  {
   "cell_type": "markdown",
   "id": "e5f4dd8b",
   "metadata": {},
   "source": [
    "## Question 1 : practice test\n",
    "Output the FizzBuzz, Fizz, Buzz, or the value for values that are multiples of 3 and/or 5."
   ]
  },
  {
   "cell_type": "code",
   "execution_count": 3,
   "id": "cde330f9",
   "metadata": {},
   "outputs": [],
   "source": [
    "def fizzBuzz(n):\n",
    "\n",
    "    #print('n: ', n)\n",
    "    for i in range(1,n+1):\n",
    "        #print('i: ', i)\n",
    "        if i % 3 == 0 and i % 5 == 0:  # multiple of both 3 and 5\n",
    "            output = 'FizzBuzz'\n",
    "        elif i % 3 == 0 and i % 5 != 0:  # multiple of 3 only\n",
    "            output = 'Fizz'\n",
    "        elif i % 3 != 0 and i % 5 == 0:  # multiple of 5 only\n",
    "            output = 'Buzz'\n",
    "        elif i % 3 != 0 or i % 5 != 0:  # not multiple of 3 or 5\n",
    "            output = i\n",
    "        print(output)\n",
    "\n",
    "    return"
   ]
  },
  {
   "cell_type": "code",
   "execution_count": 4,
   "id": "d227ad1c",
   "metadata": {},
   "outputs": [
    {
     "name": "stdout",
     "output_type": "stream",
     "text": [
      "1\n",
      "2\n",
      "Fizz\n",
      "4\n",
      "Buzz\n",
      "Fizz\n",
      "7\n",
      "8\n",
      "Fizz\n",
      "Buzz\n",
      "11\n",
      "Fizz\n",
      "13\n",
      "14\n",
      "FizzBuzz\n"
     ]
    }
   ],
   "source": [
    "# Main\n",
    "n = 15\n",
    "fizzBuzz(n)"
   ]
  },
  {
   "cell_type": "markdown",
   "id": "3cde4c6b",
   "metadata": {},
   "source": [
    "## Question 2: Shopping Cart"
   ]
  },
  {
   "cell_type": "code",
   "execution_count": 5,
   "id": "c5ed00cf",
   "metadata": {},
   "outputs": [],
   "source": [
    "class Item:\n",
    "    # Define the constructor\n",
    "    def __init__(self, n='', p=0):  # initialize the parameter constructor references\n",
    "        self.name = n  # assign the parameter constructor reference n to instance name\n",
    "        self.price = p # assign the parameter constructor reference p to instance price\n",
    "        \n",
    "    # Output item name and price\n",
    "    def give_item(self, name, price):\n",
    "        return name, price"
   ]
  },
  {
   "cell_type": "code",
   "execution_count": 12,
   "id": "78263548",
   "metadata": {},
   "outputs": [],
   "source": [
    "class ShoppingCart:\n",
    "    def __init__(self, name0='', price0=0):\n",
    "        self.nameI = name0\n",
    "        self.priceI = price0\n",
    "        self.name_list = []\n",
    "        self.price_list = []\n",
    "    \n",
    "    def call_Item(self, nameI, priceI):\n",
    "        nout, pout = Item.give_item(self, nameI, priceI)\n",
    "        # print('nout: ', nout)\n",
    "        # print('pout: ', pout)\n",
    "        return nout, pout\n",
    "    \n",
    "    # Append items to the shopping cart\n",
    "    def add(self, nameI, priceI):\n",
    "        nout, pout = self.call_Item(nameI, priceI)\n",
    "        \n",
    "        self.name_list = self.name_list + [nout]\n",
    "        print('Your cart contains: ', self.name_list)\n",
    "        \n",
    "        self.price_list = self.price_list + [pout]\n",
    "        # print('Price list of items in cart: ', self.price_list)\n",
    "        return self.name_list, self.price_list\n",
    "    \n",
    "    def total(self):\n",
    "        tot_out = sum(self.price_list)\n",
    "        print('Total shopping cart: ', tot_out)\n",
    "        print(tot_out)\n",
    "        return tot_out\n",
    "        \n",
    "    def num_of_cartitems(self):\n",
    "        num_items = len(self.name_list)\n",
    "        print('Total shopping cart items: ', num_items)\n",
    "        print(num_items)\n",
    "        return num_items"
   ]
  },
  {
   "cell_type": "code",
   "execution_count": 13,
   "id": "e6050784",
   "metadata": {},
   "outputs": [
    {
     "name": "stdout",
     "output_type": "stream",
     "text": [
      "Your cart contains:  ['nuts']\n",
      "Your cart contains:  ['nuts', 'crackers']\n",
      "Your cart contains:  ['nuts', 'crackers', 'juice']\n",
      "Total shopping cart:  8\n",
      "8\n",
      "Total shopping cart items:  3\n",
      "3\n"
     ]
    },
    {
     "data": {
      "text/plain": [
       "3"
      ]
     },
     "execution_count": 13,
     "metadata": {},
     "output_type": "execute_result"
    }
   ],
   "source": [
    "# main\n",
    "obj = ShoppingCart()\n",
    "n_list, p_list = obj.add('nuts', 2)\n",
    "n_list, p_list = obj.add('crackers', 3)\n",
    "n_list, p_list = obj.add('juice', 3)\n",
    "obj.total()\n",
    "obj.num_of_cartitems()"
   ]
  },
  {
   "cell_type": "markdown",
   "id": "cb5243fa",
   "metadata": {},
   "source": [
    "## Question 3: Dominant Cells\n",
    "Given a matrix of integers called grid, find the integer/s that is greater than any of its side and corner neighbors. These integers are called dominant cells."
   ]
  },
  {
   "cell_type": "code",
   "execution_count": 14,
   "id": "54c7e6d3",
   "metadata": {},
   "outputs": [],
   "source": [
    "from collections import namedtuple\n",
    "import numpy as np\n",
    "\n",
    "def numCells(grid):\n",
    "    Grid = namedtuple(\"Grid\", \"grid\")\n",
    "    grid_fixed = Grid(grid)\n",
    "    print('grid_fixed:', grid_fixed)\n",
    "    grid_fixed.grid\n",
    "\n",
    "    r_num = len(grid)\n",
    "    c_num = len(grid[0])\n",
    "\n",
    "    loc = [-1, 0, 1]\n",
    "    # For each integer in grid list the neighbors\n",
    "    #max_val_grid = grid  # initialize shape\n",
    "    max_val_grid = np.zeros((r_num, c_num))  # initialize shape\n",
    "\n",
    "    for r in range(r_num):\n",
    "        for c in range(c_num):\n",
    "            # print('r, c:', r, c)\n",
    "            # to check : 1) (r+1,c),(r+1,c-1),(r+1,c+1)\n",
    "            # (r-1,c), (r-1,c-1),(r-1,c+1)\n",
    "            #   (r,c) ,  (r,c-1), (r,c+1)\n",
    "            vec = []\n",
    "            for i in loc:\n",
    "                for j in loc:\n",
    "                    # print('i, j:', i, j)\n",
    "                    # the value is on the grid\n",
    "                    if r+i >= 0 and c+j >= 0 and r+i < r_num and c+j < c_num:\n",
    "                        vec.append(grid_fixed.grid[r+i][c+j])\n",
    "\n",
    "            max_val_grid[r][c] = max(vec)\n",
    "\n",
    "    print('max_val_grid: ', max_val_grid)\n",
    "    \n",
    "    # Find the unique values and how many times they repeat with respect to how many\n",
    "    # times they appear in the original matrix\n",
    "    unfolded = []\n",
    "    for r in range(r_num):\n",
    "        for c in range(c_num):\n",
    "            unfolded.append(int(max_val_grid[r][c]))\n",
    "    print('unfolded: ', unfolded)\n",
    "\n",
    "    orginal = []\n",
    "    for r in range(r_num):\n",
    "        for c in range(c_num):\n",
    "            orginal.append(int(grid_fixed.grid[r][c]))\n",
    "    print('orginal: ', orginal)   \n",
    "\n",
    "    # values we are interested in\n",
    "    list2check = set(unfolded)\n",
    "    print('list2check:', list2check)\n",
    "\n",
    "    # Only count list2check values in unfolded and orginal\n",
    "    valdict = {}\n",
    "    orgdict = {}\n",
    "    domout = []\n",
    "    for i in list2check:\n",
    "        c =0\n",
    "        for j in unfolded:\n",
    "            if i == j:\n",
    "                c = c + 1\n",
    "        valdict[i] = c\n",
    "\n",
    "        c =0\n",
    "        for j in orginal:\n",
    "            if i == j:\n",
    "                c = c + 1\n",
    "        orgdict[i] = c\n",
    "\n",
    "        if valdict[i] > orgdict[i]:\n",
    "            domout.append(i)\n",
    "\n",
    "    print('domout:', domout)\n",
    "    \n",
    "    return domout"
   ]
  },
  {
   "cell_type": "code",
   "execution_count": 15,
   "id": "d8ed7b4f",
   "metadata": {},
   "outputs": [
    {
     "name": "stdout",
     "output_type": "stream",
     "text": [
      "grid_fixed: Grid(grid=[[1, 2, 7], [4, 5, 6], [8, 8, 9]])\n",
      "max_val_grid:  [[5. 7. 7.]\n",
      " [8. 9. 9.]\n",
      " [8. 9. 9.]]\n",
      "unfolded:  [5, 7, 7, 8, 9, 9, 8, 9, 9]\n",
      "orginal:  [1, 2, 7, 4, 5, 6, 8, 8, 9]\n",
      "list2check: {8, 9, 5, 7}\n",
      "domout: [9, 7]\n"
     ]
    }
   ],
   "source": [
    "grid = [[1, 2, 7],[4, 5, 6],[8, 8, 9]]\n",
    "domout = numCells(grid)"
   ]
  },
  {
   "cell_type": "code",
   "execution_count": null,
   "id": "178a26d9",
   "metadata": {},
   "outputs": [],
   "source": []
  }
 ],
 "metadata": {
  "kernelspec": {
   "display_name": "Python 3 (ipykernel)",
   "language": "python",
   "name": "python3"
  },
  "language_info": {
   "codemirror_mode": {
    "name": "ipython",
    "version": 3
   },
   "file_extension": ".py",
   "mimetype": "text/x-python",
   "name": "python",
   "nbconvert_exporter": "python",
   "pygments_lexer": "ipython3",
   "version": "3.9.6"
  }
 },
 "nbformat": 4,
 "nbformat_minor": 5
}
