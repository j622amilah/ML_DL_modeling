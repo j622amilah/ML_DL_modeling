{
 "cells": [
  {
   "cell_type": "markdown",
   "id": "f3571f34",
   "metadata": {},
   "source": [
    "# Obtaining the frequency of a signal\n",
    "\n",
    "Sometimes it is useful to evaluate the frequency, the periodic change, of a signal; signal frequency is called the natural frequency.  Two very classical techniques are to : 1) calculate the frequency using the signal in time domain, 2) calculate the frequency using the signal in frequency domain (frequency response via the fft).  \n",
    "\n",
    "Technique 1 can be accomplished in various ways, 1) counting cycles (most simplistic), 2) fitting a sinusoid to the signal and obtaining the natural frequency of the sinusoid; within this post I practice counting cycles.  Technique 2 is not often encountered in other disciplines, except control theory.  The frequency is not as precise as technique 1, however for complex signals it gives a reliable estimate of the signal's natural frequency.  Technique 2 is often used for human motor control because motor motion is often irregular in time domain and driven by frequency coordination.\n",
    "\n",
    "<img src=\"main_image.png\" alt=\"Drawing\" style=\"width: 800px;\"/>"
   ]
  },
  {
   "cell_type": "code",
   "execution_count": 3,
   "id": "daa87ce3",
   "metadata": {},
   "outputs": [],
   "source": [
    "import numpy as np\n",
    "\n",
    "# Plotting\n",
    "from plotly.subplots import make_subplots\n",
    "import plotly.graph_objects as go\n",
    "\n",
    "# Discrete time lti\n",
    "from scipy import signal\n",
    "from scipy.fft import fft, ifft\n",
    "\n",
    "# Import math Library\n",
    "import math"
   ]
  },
  {
   "cell_type": "markdown",
   "id": "38421e60",
   "metadata": {},
   "source": [
    "## Load 2 general functions"
   ]
  },
  {
   "cell_type": "code",
   "execution_count": 167,
   "id": "353d1087",
   "metadata": {},
   "outputs": [],
   "source": [
    "def make_a_properlist(vec):  # Unravel any type of nested list\n",
    "    out = []\n",
    "    for i in range(len(vec)):\n",
    "        out = out + [np.ravel(vec[i])]\n",
    "    vecout = np.concatenate(out).ravel().tolist()\n",
    "    \n",
    "    return vecout"
   ]
  },
  {
   "cell_type": "code",
   "execution_count": 168,
   "id": "eabc5b23",
   "metadata": {},
   "outputs": [],
   "source": [
    "def detect_jumps_in_data(*arg):\n",
    "\n",
    "    y = arg[0]\n",
    "    dp_jump = arg[1]\n",
    "\n",
    "    desired_break_num = len(y)\n",
    "    c = 1\n",
    "    ind_jumpPT = []\n",
    "    # Check the difference between consecutive points\n",
    "    for j in range(len(y)-1):\n",
    "        if abs(y[j] - y[j+1]) > dp_jump:\n",
    "            ind_jumpPT = ind_jumpPT + [j] # x-axis point during trial when jumped\n",
    "\n",
    "            if c == desired_break_num:\n",
    "                break\n",
    "            c = c + 1\n",
    "\n",
    "    return ind_jumpPT"
   ]
  },
  {
   "cell_type": "markdown",
   "id": "a09c8074",
   "metadata": {},
   "source": [
    "## Load the time domain cycle counting function"
   ]
  },
  {
   "cell_type": "code",
   "execution_count": 169,
   "id": "34111524",
   "metadata": {},
   "outputs": [],
   "source": [
    "def freq_from_sig_timecounting(sig, t, ts, dp_jump):\n",
    "    \n",
    "    # Ensure signal is in a single list\n",
    "    sig0 = make_a_properlist(sig)\n",
    "    \n",
    "    # Baseline shift the first point of the signal to zero\n",
    "    sig = [sig0[0] - sig0[i] for i in range(len(sig0))]\n",
    "    N = len(sig)\n",
    "\n",
    "    # Remove floating point values by rounding down\n",
    "    sig = np.round(sig, 1)\n",
    "\n",
    "    binary_sig = make_a_properlist(np.sign(sig))\n",
    "    binary_sig = np.array(binary_sig)\n",
    "    \n",
    "    plotORnot = 1\n",
    "\n",
    "    if plotORnot == 1:\n",
    "        # --------------------\n",
    "\n",
    "        fig = go.Figure()\n",
    "        config = dict({'scrollZoom': True, 'displayModeBar': True, 'editable': True})\n",
    "\n",
    "        fig.add_trace(go.Scatter(x=t, y=binary_sig, name='binary_sig', line = dict(color='red', width=2, dash='dash'), showlegend=True))\n",
    "        fig.add_trace(go.Scatter(x=t, y=sig0, name='original signal', line = dict(color='green', width=2, dash='dash'), showlegend=True))\n",
    "        fig.add_trace(go.Scatter(x=t, y=sig, name='shifted signal', line = dict(color='blue', width=2, dash='dash'), showlegend=True))\n",
    "\n",
    "        fig.update_layout(title='signals', xaxis_title='time', yaxis_title='signal')\n",
    "        fig.show(config=config)\n",
    "\n",
    "        # --------------------\n",
    "    \n",
    "    ind_jumpPT = detect_jumps_in_data(binary_sig, dp_jump)\n",
    "    ind_jumpPT = [int(x+1) for x in ind_jumpPT]\n",
    "    print('ind_jumpPT : ' + str(ind_jumpPT))\n",
    "\n",
    "    bin_chpt = np.array(binary_sig[ind_jumpPT])\n",
    "    print('bin_chpt : ' + str(bin_chpt))\n",
    "\n",
    "    if not bin_chpt.any():\n",
    "        # bin_chpt is empty\n",
    "        fc = 1/(ts*N)\n",
    "    else:\n",
    "        # bin_chpt is NOT empty\n",
    "        # initialize, if 1st bin_chpt value is never found\n",
    "        period_ind = ind_jumpPT[len(bin_chpt)-1]\n",
    "        \n",
    "        flag = 0\n",
    "        for idx, val in enumerate(bin_chpt):  # search for first part not equal to zero\n",
    "            if val == bin_chpt[0]:  # need to see the first number twice\n",
    "                if flag == 0:  # first pass\n",
    "                    flag = flag + 1\n",
    "                elif flag == 1: # 2nd pass\n",
    "                    period_ind = ind_jumpPT[idx]\n",
    "                    flag = flag + 1 # this makes flag=2, so it can never fall into the 2nd pass\n",
    "\n",
    "        per = t[period_ind]\n",
    "        fc = 1/per\n",
    "        \n",
    "    return fc"
   ]
  },
  {
   "cell_type": "markdown",
   "id": "ff096b4e",
   "metadata": {},
   "source": [
    "## Load the frequency domain frequency response functions"
   ]
  },
  {
   "cell_type": "code",
   "execution_count": 170,
   "id": "186ce8f2",
   "metadata": {},
   "outputs": [],
   "source": [
    "def get_freqresp_mag_phase(sig, t, ts):\n",
    "\n",
    "    Xn = fft(sig)\n",
    "    Xn_mag = abs(Xn.real)\n",
    "    Xn_phase = np.angle(Xn)\n",
    "\n",
    "    # Get the frequency vector\n",
    "    # freq = np.fft.fftfreq(t.size, d=ts)\n",
    "\n",
    "    # OR\n",
    "\n",
    "    # Manually change magnitude and phase: for the fourier transform only \n",
    "    # half of the signal is unique and the latter half is repeated.  Typically\n",
    "    # people mirror the latter half on the negative axis.  The function fftfreq \n",
    "    # does this automatically\n",
    "    omeg = []\n",
    "    for k in range(len(Xn_mag)):\n",
    "        omeg = omeg + [(2*np.pi*k)/len(Xn_mag)]\n",
    "\n",
    "    N = len(Xn_mag)\n",
    "    Xn_mag_man = Xn_mag[int(np.floor((N/2)+1)):N], Xn_mag[0:int(np.floor(N/2))]\n",
    "    Xn_phase_man = Xn_phase[int(np.floor((N/2)+1)):N], Xn_phase[0:int(np.floor(N/2))]\n",
    "    omg_half = np.array(omeg[0:int(np.floor(N/2))])\n",
    "    omeg_man = -omg_half[::-1], omg_half\n",
    "\n",
    "    Xn_mag_man = make_a_properlist(Xn_mag_man)\n",
    "    Xn_phase_man = make_a_properlist(Xn_phase_man)\n",
    "    omeg_man = make_a_properlist(omeg_man)\n",
    "\n",
    "    # Only look at right half side : called spectrum\n",
    "    Xn_mag_half_db = 20*np.log10(Xn_mag[0:int(np.floor(N/2))])\n",
    "    Xn_phase_half = Xn_phase[0:int(np.floor(N/2))]\n",
    "\n",
    "    # To output the mirrored spectrum, output: Xn_mag_man, Xn_phase_man, omeg_man\n",
    "    # To output one-side of the mirrored spectrum, output: Xn_mag_half_db, \n",
    "    # Xn_phase_half, omg_half\n",
    "    return Xn_mag_man, Xn_phase_man, omeg_man, Xn_mag_half_db, Xn_phase_half, omg_half"
   ]
  },
  {
   "cell_type": "code",
   "execution_count": 171,
   "id": "8f3ed156",
   "metadata": {},
   "outputs": [],
   "source": [
    "def freq_from_sig_freqresp(sig, t, ts, plotORnot):\n",
    "\n",
    "    # You need the natural frequency of the output, then make the win the number of data points per period\n",
    "    Xn_mag, Xn_phase, omeg, Xn_mag_half_db, Xn_phase_half, omg_half = get_freqresp_mag_phase(sig, t, ts)\n",
    "\n",
    "    # --------------------\n",
    "\n",
    "    # Find the frequency at which there is a significant magnitude and phase drop\n",
    "    # This frequency is the natural frequency of the signal.\n",
    "    # It could also be considered to be the 70dB drop frequency \n",
    "    # (or in other words all the frequencies above or below represent the \n",
    "    # frequency dynamics of the signal).\n",
    "    max_ind = np.argmax(Xn_mag_half_db)\n",
    "    # print('max_ind : ' + str(max_ind))\n",
    "\n",
    "    cutoff_per = 0.3  # should be 0.3 for 30 percent decibel drop\n",
    "    cut_mag = cutoff_per*Xn_mag_half_db[max_ind]\n",
    "    # print('cut_mag : ' + str(cut_mag))\n",
    "\n",
    "    # Search across the frequency magnitude to find the frequency cutoff point\n",
    "    ind_out = np.NaN  # initialize \n",
    "    for i in range(max_ind, len(Xn_mag_half_db)):\n",
    "        if Xn_mag_half_db[i] < cut_mag:\n",
    "            ind_out = i\n",
    "            break\n",
    "    \n",
    "    # --------------------\n",
    "    \n",
    "    if np.isnan(ind_out):\n",
    "        fc = np.NaN\n",
    "    else:\n",
    "        fc = omg_half[ind_out]  # Cut-off frequency; Needs to be less than fs/2\n",
    "        \n",
    "        if plotORnot == 1:\n",
    "            # Plot a spectrum \n",
    "            fig = go.Figure()\n",
    "            config = dict({'scrollZoom': True, 'displayModeBar': True, 'editable': True})\n",
    "\n",
    "            fig = make_subplots(rows=2, cols=1)\n",
    "            fig.append_trace(go.Scatter(x=omg_half, y=Xn_mag_half_db,), row=1, col=1)\n",
    "\n",
    "            ind_out = ind_out*np.ones((2)) # must double the point : can not plot a singal point\n",
    "            ind_out = [int(x) for x in ind_out] # convert to integer\n",
    "            fig.append_trace(go.Scatter(x=omg_half[ind_out], y=Xn_mag_half_db[ind_out],), row=1, col=1)\n",
    "\n",
    "            fig.append_trace(go.Scatter(x=omg_half, y=Xn_phase_half,), row=2, col=1)\n",
    "            fig.update_layout(title='toy problem : amplitude and phase', xaxis_title='frequency', yaxis_title='mag (dB)')\n",
    "            fig.show(config=config)\n",
    "\n",
    "    # --------------------\n",
    "\n",
    "    return fc"
   ]
  },
  {
   "cell_type": "markdown",
   "id": "c2db8535",
   "metadata": {},
   "source": [
    "## Load the Toy example : a sinusoid signal with respect to time (sec)\n",
    "\n",
    "### sig0 = A*sin(omega*(t - phi)) + c\n",
    "where A is the peak amplitude, omega is the natural frequency (deg/sec), t is time, phi is the phase shift/horizontal shift (deg), and c is the vertical shift."
   ]
  },
  {
   "cell_type": "code",
   "execution_count": 180,
   "id": "cd5cbbf4",
   "metadata": {},
   "outputs": [
    {
     "name": "stdout",
     "output_type": "stream",
     "text": [
      "omega for one cycle per length of t:  0.6283185307179586\n",
      "period :  2.5\n",
      "natural_freq sig :  0.4\n"
     ]
    },
    {
     "data": {
      "application/vnd.plotly.v1+json": {
       "config": {
        "displayModeBar": true,
        "editable": true,
        "plotlyServerURL": "https://plot.ly",
        "scrollZoom": true
       },
       "data": [
        {
         "line": {
          "color": "green",
          "dash": "dash",
          "width": 2
         },
         "name": "sig",
         "showlegend": true,
         "type": "scatter",
         "x": [
          0,
          0.1,
          0.2,
          0.30000000000000004,
          0.4,
          0.5,
          0.6000000000000001,
          0.7000000000000001,
          0.8,
          0.9,
          1,
          1.1,
          1.2000000000000002,
          1.3,
          1.4000000000000001,
          1.5,
          1.6,
          1.7000000000000002,
          1.8,
          1.9000000000000001,
          2,
          2.1,
          2.2,
          2.3000000000000003,
          2.4000000000000004,
          2.5,
          2.6,
          2.7,
          2.8000000000000003,
          2.9000000000000004,
          3,
          3.1,
          3.2,
          3.3000000000000003,
          3.4000000000000004,
          3.5,
          3.6,
          3.7,
          3.8000000000000003,
          3.9000000000000004,
          4,
          4.1000000000000005,
          4.2,
          4.3,
          4.4,
          4.5,
          4.6000000000000005,
          4.7,
          4.800000000000001,
          4.9,
          5,
          5.1000000000000005,
          5.2,
          5.300000000000001,
          5.4,
          5.5,
          5.6000000000000005,
          5.7,
          5.800000000000001,
          5.9,
          6,
          6.1000000000000005,
          6.2,
          6.300000000000001,
          6.4,
          6.5,
          6.6000000000000005,
          6.7,
          6.800000000000001,
          6.9,
          7,
          7.1000000000000005,
          7.2,
          7.300000000000001,
          7.4,
          7.5,
          7.6000000000000005,
          7.7,
          7.800000000000001,
          7.9,
          8,
          8.1,
          8.200000000000001,
          8.3,
          8.4,
          8.5,
          8.6,
          8.700000000000001,
          8.8,
          8.9,
          9,
          9.1,
          9.200000000000001,
          9.3,
          9.4,
          9.5,
          9.600000000000001,
          9.700000000000001,
          9.8,
          9.9
         ],
         "y": [
          0,
          0.4973797743297096,
          0.9635073482034306,
          1.3690942118573775,
          1.6886558510040302,
          1.902113032590307,
          1.9960534568565431,
          1.9645745014573772,
          1.809654104932039,
          1.5410264855515785,
          1.1755705045849465,
          0.7362491053693555,
          0.2506664671286082,
          -0.25066646712860857,
          -0.7362491053693566,
          -1.175570504584946,
          -1.5410264855515787,
          -1.8096541049320396,
          -1.9645745014573774,
          -1.9960534568565431,
          -1.9021130325903073,
          -1.68865585100403,
          -1.3690942118573766,
          -0.9635073482034291,
          -0.497379774329709,
          -4.898587196589413e-16,
          0.49737977432970976,
          0.9635073482034313,
          1.3690942118573786,
          1.6886558510040304,
          1.902113032590307,
          1.9960534568565431,
          1.9645745014573772,
          1.8096541049320385,
          1.5410264855515772,
          1.1755705045849467,
          0.736249105369356,
          0.2506664671286078,
          -0.25066646712860985,
          -0.7362491053693578,
          -1.1755705045849456,
          -1.5410264855515807,
          -1.8096541049320394,
          -1.964574501457377,
          -1.996053456856543,
          -1.9021130325903075,
          -1.6886558510040284,
          -1.369094211857377,
          -0.9635073482034295,
          -0.49737977432970776,
          -9.797174393178826e-16,
          0.49737977432971275,
          0.9635073482034309,
          1.3690942118573781,
          1.688655851004031,
          1.9021130325903068,
          1.9960534568565433,
          1.9645745014573772,
          1.8096541049320387,
          1.5410264855515774,
          1.1755705045849472,
          0.7362491053693531,
          0.2506664671286083,
          -0.2506664671286094,
          -0.7362491053693574,
          -1.1755705045849452,
          -1.5410264855515803,
          -1.8096541049320392,
          -1.964574501457378,
          -1.9960534568565431,
          -1.9021130325903075,
          -1.6886558510040286,
          -1.3690942118573772,
          -0.9635073482034269,
          -0.4973797743297082,
          -1.4695761589768238e-15,
          0.49737977432971225,
          0.9635073482034304,
          1.3690942118573803,
          1.6886558510040308,
          1.9021130325903066,
          1.996053456856543,
          1.964574501457376,
          1.8096541049320374,
          1.5410264855515776,
          1.1755705045849476,
          0.7362491053693602,
          0.25066646712860174,
          -0.2506664671286124,
          -0.736249105369357,
          -1.175570504584945,
          -1.5410264855515754,
          -1.8096541049320418,
          -1.964574501457378,
          -1.9960534568565431,
          -1.9021130325903077,
          -1.6886558510040288,
          -1.3690942118573726,
          -0.9635073482034272,
          -0.4973797743297087
         ]
        }
       ],
       "layout": {
        "template": {
         "data": {
          "bar": [
           {
            "error_x": {
             "color": "#2a3f5f"
            },
            "error_y": {
             "color": "#2a3f5f"
            },
            "marker": {
             "line": {
              "color": "#E5ECF6",
              "width": 0.5
             },
             "pattern": {
              "fillmode": "overlay",
              "size": 10,
              "solidity": 0.2
             }
            },
            "type": "bar"
           }
          ],
          "barpolar": [
           {
            "marker": {
             "line": {
              "color": "#E5ECF6",
              "width": 0.5
             },
             "pattern": {
              "fillmode": "overlay",
              "size": 10,
              "solidity": 0.2
             }
            },
            "type": "barpolar"
           }
          ],
          "carpet": [
           {
            "aaxis": {
             "endlinecolor": "#2a3f5f",
             "gridcolor": "white",
             "linecolor": "white",
             "minorgridcolor": "white",
             "startlinecolor": "#2a3f5f"
            },
            "baxis": {
             "endlinecolor": "#2a3f5f",
             "gridcolor": "white",
             "linecolor": "white",
             "minorgridcolor": "white",
             "startlinecolor": "#2a3f5f"
            },
            "type": "carpet"
           }
          ],
          "choropleth": [
           {
            "colorbar": {
             "outlinewidth": 0,
             "ticks": ""
            },
            "type": "choropleth"
           }
          ],
          "contour": [
           {
            "colorbar": {
             "outlinewidth": 0,
             "ticks": ""
            },
            "colorscale": [
             [
              0,
              "#0d0887"
             ],
             [
              0.1111111111111111,
              "#46039f"
             ],
             [
              0.2222222222222222,
              "#7201a8"
             ],
             [
              0.3333333333333333,
              "#9c179e"
             ],
             [
              0.4444444444444444,
              "#bd3786"
             ],
             [
              0.5555555555555556,
              "#d8576b"
             ],
             [
              0.6666666666666666,
              "#ed7953"
             ],
             [
              0.7777777777777778,
              "#fb9f3a"
             ],
             [
              0.8888888888888888,
              "#fdca26"
             ],
             [
              1,
              "#f0f921"
             ]
            ],
            "type": "contour"
           }
          ],
          "contourcarpet": [
           {
            "colorbar": {
             "outlinewidth": 0,
             "ticks": ""
            },
            "type": "contourcarpet"
           }
          ],
          "heatmap": [
           {
            "colorbar": {
             "outlinewidth": 0,
             "ticks": ""
            },
            "colorscale": [
             [
              0,
              "#0d0887"
             ],
             [
              0.1111111111111111,
              "#46039f"
             ],
             [
              0.2222222222222222,
              "#7201a8"
             ],
             [
              0.3333333333333333,
              "#9c179e"
             ],
             [
              0.4444444444444444,
              "#bd3786"
             ],
             [
              0.5555555555555556,
              "#d8576b"
             ],
             [
              0.6666666666666666,
              "#ed7953"
             ],
             [
              0.7777777777777778,
              "#fb9f3a"
             ],
             [
              0.8888888888888888,
              "#fdca26"
             ],
             [
              1,
              "#f0f921"
             ]
            ],
            "type": "heatmap"
           }
          ],
          "heatmapgl": [
           {
            "colorbar": {
             "outlinewidth": 0,
             "ticks": ""
            },
            "colorscale": [
             [
              0,
              "#0d0887"
             ],
             [
              0.1111111111111111,
              "#46039f"
             ],
             [
              0.2222222222222222,
              "#7201a8"
             ],
             [
              0.3333333333333333,
              "#9c179e"
             ],
             [
              0.4444444444444444,
              "#bd3786"
             ],
             [
              0.5555555555555556,
              "#d8576b"
             ],
             [
              0.6666666666666666,
              "#ed7953"
             ],
             [
              0.7777777777777778,
              "#fb9f3a"
             ],
             [
              0.8888888888888888,
              "#fdca26"
             ],
             [
              1,
              "#f0f921"
             ]
            ],
            "type": "heatmapgl"
           }
          ],
          "histogram": [
           {
            "marker": {
             "pattern": {
              "fillmode": "overlay",
              "size": 10,
              "solidity": 0.2
             }
            },
            "type": "histogram"
           }
          ],
          "histogram2d": [
           {
            "colorbar": {
             "outlinewidth": 0,
             "ticks": ""
            },
            "colorscale": [
             [
              0,
              "#0d0887"
             ],
             [
              0.1111111111111111,
              "#46039f"
             ],
             [
              0.2222222222222222,
              "#7201a8"
             ],
             [
              0.3333333333333333,
              "#9c179e"
             ],
             [
              0.4444444444444444,
              "#bd3786"
             ],
             [
              0.5555555555555556,
              "#d8576b"
             ],
             [
              0.6666666666666666,
              "#ed7953"
             ],
             [
              0.7777777777777778,
              "#fb9f3a"
             ],
             [
              0.8888888888888888,
              "#fdca26"
             ],
             [
              1,
              "#f0f921"
             ]
            ],
            "type": "histogram2d"
           }
          ],
          "histogram2dcontour": [
           {
            "colorbar": {
             "outlinewidth": 0,
             "ticks": ""
            },
            "colorscale": [
             [
              0,
              "#0d0887"
             ],
             [
              0.1111111111111111,
              "#46039f"
             ],
             [
              0.2222222222222222,
              "#7201a8"
             ],
             [
              0.3333333333333333,
              "#9c179e"
             ],
             [
              0.4444444444444444,
              "#bd3786"
             ],
             [
              0.5555555555555556,
              "#d8576b"
             ],
             [
              0.6666666666666666,
              "#ed7953"
             ],
             [
              0.7777777777777778,
              "#fb9f3a"
             ],
             [
              0.8888888888888888,
              "#fdca26"
             ],
             [
              1,
              "#f0f921"
             ]
            ],
            "type": "histogram2dcontour"
           }
          ],
          "mesh3d": [
           {
            "colorbar": {
             "outlinewidth": 0,
             "ticks": ""
            },
            "type": "mesh3d"
           }
          ],
          "parcoords": [
           {
            "line": {
             "colorbar": {
              "outlinewidth": 0,
              "ticks": ""
             }
            },
            "type": "parcoords"
           }
          ],
          "pie": [
           {
            "automargin": true,
            "type": "pie"
           }
          ],
          "scatter": [
           {
            "marker": {
             "colorbar": {
              "outlinewidth": 0,
              "ticks": ""
             }
            },
            "type": "scatter"
           }
          ],
          "scatter3d": [
           {
            "line": {
             "colorbar": {
              "outlinewidth": 0,
              "ticks": ""
             }
            },
            "marker": {
             "colorbar": {
              "outlinewidth": 0,
              "ticks": ""
             }
            },
            "type": "scatter3d"
           }
          ],
          "scattercarpet": [
           {
            "marker": {
             "colorbar": {
              "outlinewidth": 0,
              "ticks": ""
             }
            },
            "type": "scattercarpet"
           }
          ],
          "scattergeo": [
           {
            "marker": {
             "colorbar": {
              "outlinewidth": 0,
              "ticks": ""
             }
            },
            "type": "scattergeo"
           }
          ],
          "scattergl": [
           {
            "marker": {
             "colorbar": {
              "outlinewidth": 0,
              "ticks": ""
             }
            },
            "type": "scattergl"
           }
          ],
          "scattermapbox": [
           {
            "marker": {
             "colorbar": {
              "outlinewidth": 0,
              "ticks": ""
             }
            },
            "type": "scattermapbox"
           }
          ],
          "scatterpolar": [
           {
            "marker": {
             "colorbar": {
              "outlinewidth": 0,
              "ticks": ""
             }
            },
            "type": "scatterpolar"
           }
          ],
          "scatterpolargl": [
           {
            "marker": {
             "colorbar": {
              "outlinewidth": 0,
              "ticks": ""
             }
            },
            "type": "scatterpolargl"
           }
          ],
          "scatterternary": [
           {
            "marker": {
             "colorbar": {
              "outlinewidth": 0,
              "ticks": ""
             }
            },
            "type": "scatterternary"
           }
          ],
          "surface": [
           {
            "colorbar": {
             "outlinewidth": 0,
             "ticks": ""
            },
            "colorscale": [
             [
              0,
              "#0d0887"
             ],
             [
              0.1111111111111111,
              "#46039f"
             ],
             [
              0.2222222222222222,
              "#7201a8"
             ],
             [
              0.3333333333333333,
              "#9c179e"
             ],
             [
              0.4444444444444444,
              "#bd3786"
             ],
             [
              0.5555555555555556,
              "#d8576b"
             ],
             [
              0.6666666666666666,
              "#ed7953"
             ],
             [
              0.7777777777777778,
              "#fb9f3a"
             ],
             [
              0.8888888888888888,
              "#fdca26"
             ],
             [
              1,
              "#f0f921"
             ]
            ],
            "type": "surface"
           }
          ],
          "table": [
           {
            "cells": {
             "fill": {
              "color": "#EBF0F8"
             },
             "line": {
              "color": "white"
             }
            },
            "header": {
             "fill": {
              "color": "#C8D4E3"
             },
             "line": {
              "color": "white"
             }
            },
            "type": "table"
           }
          ]
         },
         "layout": {
          "annotationdefaults": {
           "arrowcolor": "#2a3f5f",
           "arrowhead": 0,
           "arrowwidth": 1
          },
          "autotypenumbers": "strict",
          "coloraxis": {
           "colorbar": {
            "outlinewidth": 0,
            "ticks": ""
           }
          },
          "colorscale": {
           "diverging": [
            [
             0,
             "#8e0152"
            ],
            [
             0.1,
             "#c51b7d"
            ],
            [
             0.2,
             "#de77ae"
            ],
            [
             0.3,
             "#f1b6da"
            ],
            [
             0.4,
             "#fde0ef"
            ],
            [
             0.5,
             "#f7f7f7"
            ],
            [
             0.6,
             "#e6f5d0"
            ],
            [
             0.7,
             "#b8e186"
            ],
            [
             0.8,
             "#7fbc41"
            ],
            [
             0.9,
             "#4d9221"
            ],
            [
             1,
             "#276419"
            ]
           ],
           "sequential": [
            [
             0,
             "#0d0887"
            ],
            [
             0.1111111111111111,
             "#46039f"
            ],
            [
             0.2222222222222222,
             "#7201a8"
            ],
            [
             0.3333333333333333,
             "#9c179e"
            ],
            [
             0.4444444444444444,
             "#bd3786"
            ],
            [
             0.5555555555555556,
             "#d8576b"
            ],
            [
             0.6666666666666666,
             "#ed7953"
            ],
            [
             0.7777777777777778,
             "#fb9f3a"
            ],
            [
             0.8888888888888888,
             "#fdca26"
            ],
            [
             1,
             "#f0f921"
            ]
           ],
           "sequentialminus": [
            [
             0,
             "#0d0887"
            ],
            [
             0.1111111111111111,
             "#46039f"
            ],
            [
             0.2222222222222222,
             "#7201a8"
            ],
            [
             0.3333333333333333,
             "#9c179e"
            ],
            [
             0.4444444444444444,
             "#bd3786"
            ],
            [
             0.5555555555555556,
             "#d8576b"
            ],
            [
             0.6666666666666666,
             "#ed7953"
            ],
            [
             0.7777777777777778,
             "#fb9f3a"
            ],
            [
             0.8888888888888888,
             "#fdca26"
            ],
            [
             1,
             "#f0f921"
            ]
           ]
          },
          "colorway": [
           "#636efa",
           "#EF553B",
           "#00cc96",
           "#ab63fa",
           "#FFA15A",
           "#19d3f3",
           "#FF6692",
           "#B6E880",
           "#FF97FF",
           "#FECB52"
          ],
          "font": {
           "color": "#2a3f5f"
          },
          "geo": {
           "bgcolor": "white",
           "lakecolor": "white",
           "landcolor": "#E5ECF6",
           "showlakes": true,
           "showland": true,
           "subunitcolor": "white"
          },
          "hoverlabel": {
           "align": "left"
          },
          "hovermode": "closest",
          "mapbox": {
           "style": "light"
          },
          "paper_bgcolor": "white",
          "plot_bgcolor": "#E5ECF6",
          "polar": {
           "angularaxis": {
            "gridcolor": "white",
            "linecolor": "white",
            "ticks": ""
           },
           "bgcolor": "#E5ECF6",
           "radialaxis": {
            "gridcolor": "white",
            "linecolor": "white",
            "ticks": ""
           }
          },
          "scene": {
           "xaxis": {
            "backgroundcolor": "#E5ECF6",
            "gridcolor": "white",
            "gridwidth": 2,
            "linecolor": "white",
            "showbackground": true,
            "ticks": "",
            "zerolinecolor": "white"
           },
           "yaxis": {
            "backgroundcolor": "#E5ECF6",
            "gridcolor": "white",
            "gridwidth": 2,
            "linecolor": "white",
            "showbackground": true,
            "ticks": "",
            "zerolinecolor": "white"
           },
           "zaxis": {
            "backgroundcolor": "#E5ECF6",
            "gridcolor": "white",
            "gridwidth": 2,
            "linecolor": "white",
            "showbackground": true,
            "ticks": "",
            "zerolinecolor": "white"
           }
          },
          "shapedefaults": {
           "line": {
            "color": "#2a3f5f"
           }
          },
          "ternary": {
           "aaxis": {
            "gridcolor": "white",
            "linecolor": "white",
            "ticks": ""
           },
           "baxis": {
            "gridcolor": "white",
            "linecolor": "white",
            "ticks": ""
           },
           "bgcolor": "#E5ECF6",
           "caxis": {
            "gridcolor": "white",
            "linecolor": "white",
            "ticks": ""
           }
          },
          "title": {
           "x": 0.05
          },
          "xaxis": {
           "automargin": true,
           "gridcolor": "white",
           "linecolor": "white",
           "ticks": "",
           "title": {
            "standoff": 15
           },
           "zerolinecolor": "white",
           "zerolinewidth": 2
          },
          "yaxis": {
           "automargin": true,
           "gridcolor": "white",
           "linecolor": "white",
           "ticks": "",
           "title": {
            "standoff": 15
           },
           "zerolinecolor": "white",
           "zerolinewidth": 2
          }
         }
        },
        "title": {
         "text": "toy problem"
        },
        "xaxis": {
         "title": {
          "text": "time"
         }
        },
        "yaxis": {
         "title": {
          "text": "sig"
         }
        }
       }
      },
      "text/html": [
       "<div>                            <div id=\"ecd6853c-29ba-4c6d-8c2f-2bcd86f58c06\" class=\"plotly-graph-div\" style=\"height:525px; width:100%;\"></div>            <script type=\"text/javascript\">                require([\"plotly\"], function(Plotly) {                    window.PLOTLYENV=window.PLOTLYENV || {};                                    if (document.getElementById(\"ecd6853c-29ba-4c6d-8c2f-2bcd86f58c06\")) {                    Plotly.newPlot(                        \"ecd6853c-29ba-4c6d-8c2f-2bcd86f58c06\",                        [{\"line\":{\"color\":\"green\",\"dash\":\"dash\",\"width\":2},\"name\":\"sig\",\"showlegend\":true,\"type\":\"scatter\",\"x\":[0.0,0.1,0.2,0.30000000000000004,0.4,0.5,0.6000000000000001,0.7000000000000001,0.8,0.9,1.0,1.1,1.2000000000000002,1.3,1.4000000000000001,1.5,1.6,1.7000000000000002,1.8,1.9000000000000001,2.0,2.1,2.2,2.3000000000000003,2.4000000000000004,2.5,2.6,2.7,2.8000000000000003,2.9000000000000004,3.0,3.1,3.2,3.3000000000000003,3.4000000000000004,3.5,3.6,3.7,3.8000000000000003,3.9000000000000004,4.0,4.1000000000000005,4.2,4.3,4.4,4.5,4.6000000000000005,4.7,4.800000000000001,4.9,5.0,5.1000000000000005,5.2,5.300000000000001,5.4,5.5,5.6000000000000005,5.7,5.800000000000001,5.9,6.0,6.1000000000000005,6.2,6.300000000000001,6.4,6.5,6.6000000000000005,6.7,6.800000000000001,6.9,7.0,7.1000000000000005,7.2,7.300000000000001,7.4,7.5,7.6000000000000005,7.7,7.800000000000001,7.9,8.0,8.1,8.200000000000001,8.3,8.4,8.5,8.6,8.700000000000001,8.8,8.9,9.0,9.1,9.200000000000001,9.3,9.4,9.5,9.600000000000001,9.700000000000001,9.8,9.9],\"y\":[0.0,0.4973797743297096,0.9635073482034306,1.3690942118573775,1.6886558510040302,1.902113032590307,1.9960534568565431,1.9645745014573772,1.809654104932039,1.5410264855515785,1.1755705045849465,0.7362491053693555,0.2506664671286082,-0.25066646712860857,-0.7362491053693566,-1.175570504584946,-1.5410264855515787,-1.8096541049320396,-1.9645745014573774,-1.9960534568565431,-1.9021130325903073,-1.68865585100403,-1.3690942118573766,-0.9635073482034291,-0.497379774329709,-4.898587196589413e-16,0.49737977432970976,0.9635073482034313,1.3690942118573786,1.6886558510040304,1.902113032590307,1.9960534568565431,1.9645745014573772,1.8096541049320385,1.5410264855515772,1.1755705045849467,0.736249105369356,0.2506664671286078,-0.25066646712860985,-0.7362491053693578,-1.1755705045849456,-1.5410264855515807,-1.8096541049320394,-1.964574501457377,-1.996053456856543,-1.9021130325903075,-1.6886558510040284,-1.369094211857377,-0.9635073482034295,-0.49737977432970776,-9.797174393178826e-16,0.49737977432971275,0.9635073482034309,1.3690942118573781,1.688655851004031,1.9021130325903068,1.9960534568565433,1.9645745014573772,1.8096541049320387,1.5410264855515774,1.1755705045849472,0.7362491053693531,0.2506664671286083,-0.2506664671286094,-0.7362491053693574,-1.1755705045849452,-1.5410264855515803,-1.8096541049320392,-1.964574501457378,-1.9960534568565431,-1.9021130325903075,-1.6886558510040286,-1.3690942118573772,-0.9635073482034269,-0.4973797743297082,-1.4695761589768238e-15,0.49737977432971225,0.9635073482034304,1.3690942118573803,1.6886558510040308,1.9021130325903066,1.996053456856543,1.964574501457376,1.8096541049320374,1.5410264855515776,1.1755705045849476,0.7362491053693602,0.25066646712860174,-0.2506664671286124,-0.736249105369357,-1.175570504584945,-1.5410264855515754,-1.8096541049320418,-1.964574501457378,-1.9960534568565431,-1.9021130325903077,-1.6886558510040288,-1.3690942118573726,-0.9635073482034272,-0.4973797743297087]}],                        {\"template\":{\"data\":{\"bar\":[{\"error_x\":{\"color\":\"#2a3f5f\"},\"error_y\":{\"color\":\"#2a3f5f\"},\"marker\":{\"line\":{\"color\":\"#E5ECF6\",\"width\":0.5},\"pattern\":{\"fillmode\":\"overlay\",\"size\":10,\"solidity\":0.2}},\"type\":\"bar\"}],\"barpolar\":[{\"marker\":{\"line\":{\"color\":\"#E5ECF6\",\"width\":0.5},\"pattern\":{\"fillmode\":\"overlay\",\"size\":10,\"solidity\":0.2}},\"type\":\"barpolar\"}],\"carpet\":[{\"aaxis\":{\"endlinecolor\":\"#2a3f5f\",\"gridcolor\":\"white\",\"linecolor\":\"white\",\"minorgridcolor\":\"white\",\"startlinecolor\":\"#2a3f5f\"},\"baxis\":{\"endlinecolor\":\"#2a3f5f\",\"gridcolor\":\"white\",\"linecolor\":\"white\",\"minorgridcolor\":\"white\",\"startlinecolor\":\"#2a3f5f\"},\"type\":\"carpet\"}],\"choropleth\":[{\"colorbar\":{\"outlinewidth\":0,\"ticks\":\"\"},\"type\":\"choropleth\"}],\"contour\":[{\"colorbar\":{\"outlinewidth\":0,\"ticks\":\"\"},\"colorscale\":[[0.0,\"#0d0887\"],[0.1111111111111111,\"#46039f\"],[0.2222222222222222,\"#7201a8\"],[0.3333333333333333,\"#9c179e\"],[0.4444444444444444,\"#bd3786\"],[0.5555555555555556,\"#d8576b\"],[0.6666666666666666,\"#ed7953\"],[0.7777777777777778,\"#fb9f3a\"],[0.8888888888888888,\"#fdca26\"],[1.0,\"#f0f921\"]],\"type\":\"contour\"}],\"contourcarpet\":[{\"colorbar\":{\"outlinewidth\":0,\"ticks\":\"\"},\"type\":\"contourcarpet\"}],\"heatmap\":[{\"colorbar\":{\"outlinewidth\":0,\"ticks\":\"\"},\"colorscale\":[[0.0,\"#0d0887\"],[0.1111111111111111,\"#46039f\"],[0.2222222222222222,\"#7201a8\"],[0.3333333333333333,\"#9c179e\"],[0.4444444444444444,\"#bd3786\"],[0.5555555555555556,\"#d8576b\"],[0.6666666666666666,\"#ed7953\"],[0.7777777777777778,\"#fb9f3a\"],[0.8888888888888888,\"#fdca26\"],[1.0,\"#f0f921\"]],\"type\":\"heatmap\"}],\"heatmapgl\":[{\"colorbar\":{\"outlinewidth\":0,\"ticks\":\"\"},\"colorscale\":[[0.0,\"#0d0887\"],[0.1111111111111111,\"#46039f\"],[0.2222222222222222,\"#7201a8\"],[0.3333333333333333,\"#9c179e\"],[0.4444444444444444,\"#bd3786\"],[0.5555555555555556,\"#d8576b\"],[0.6666666666666666,\"#ed7953\"],[0.7777777777777778,\"#fb9f3a\"],[0.8888888888888888,\"#fdca26\"],[1.0,\"#f0f921\"]],\"type\":\"heatmapgl\"}],\"histogram\":[{\"marker\":{\"pattern\":{\"fillmode\":\"overlay\",\"size\":10,\"solidity\":0.2}},\"type\":\"histogram\"}],\"histogram2d\":[{\"colorbar\":{\"outlinewidth\":0,\"ticks\":\"\"},\"colorscale\":[[0.0,\"#0d0887\"],[0.1111111111111111,\"#46039f\"],[0.2222222222222222,\"#7201a8\"],[0.3333333333333333,\"#9c179e\"],[0.4444444444444444,\"#bd3786\"],[0.5555555555555556,\"#d8576b\"],[0.6666666666666666,\"#ed7953\"],[0.7777777777777778,\"#fb9f3a\"],[0.8888888888888888,\"#fdca26\"],[1.0,\"#f0f921\"]],\"type\":\"histogram2d\"}],\"histogram2dcontour\":[{\"colorbar\":{\"outlinewidth\":0,\"ticks\":\"\"},\"colorscale\":[[0.0,\"#0d0887\"],[0.1111111111111111,\"#46039f\"],[0.2222222222222222,\"#7201a8\"],[0.3333333333333333,\"#9c179e\"],[0.4444444444444444,\"#bd3786\"],[0.5555555555555556,\"#d8576b\"],[0.6666666666666666,\"#ed7953\"],[0.7777777777777778,\"#fb9f3a\"],[0.8888888888888888,\"#fdca26\"],[1.0,\"#f0f921\"]],\"type\":\"histogram2dcontour\"}],\"mesh3d\":[{\"colorbar\":{\"outlinewidth\":0,\"ticks\":\"\"},\"type\":\"mesh3d\"}],\"parcoords\":[{\"line\":{\"colorbar\":{\"outlinewidth\":0,\"ticks\":\"\"}},\"type\":\"parcoords\"}],\"pie\":[{\"automargin\":true,\"type\":\"pie\"}],\"scatter\":[{\"marker\":{\"colorbar\":{\"outlinewidth\":0,\"ticks\":\"\"}},\"type\":\"scatter\"}],\"scatter3d\":[{\"line\":{\"colorbar\":{\"outlinewidth\":0,\"ticks\":\"\"}},\"marker\":{\"colorbar\":{\"outlinewidth\":0,\"ticks\":\"\"}},\"type\":\"scatter3d\"}],\"scattercarpet\":[{\"marker\":{\"colorbar\":{\"outlinewidth\":0,\"ticks\":\"\"}},\"type\":\"scattercarpet\"}],\"scattergeo\":[{\"marker\":{\"colorbar\":{\"outlinewidth\":0,\"ticks\":\"\"}},\"type\":\"scattergeo\"}],\"scattergl\":[{\"marker\":{\"colorbar\":{\"outlinewidth\":0,\"ticks\":\"\"}},\"type\":\"scattergl\"}],\"scattermapbox\":[{\"marker\":{\"colorbar\":{\"outlinewidth\":0,\"ticks\":\"\"}},\"type\":\"scattermapbox\"}],\"scatterpolar\":[{\"marker\":{\"colorbar\":{\"outlinewidth\":0,\"ticks\":\"\"}},\"type\":\"scatterpolar\"}],\"scatterpolargl\":[{\"marker\":{\"colorbar\":{\"outlinewidth\":0,\"ticks\":\"\"}},\"type\":\"scatterpolargl\"}],\"scatterternary\":[{\"marker\":{\"colorbar\":{\"outlinewidth\":0,\"ticks\":\"\"}},\"type\":\"scatterternary\"}],\"surface\":[{\"colorbar\":{\"outlinewidth\":0,\"ticks\":\"\"},\"colorscale\":[[0.0,\"#0d0887\"],[0.1111111111111111,\"#46039f\"],[0.2222222222222222,\"#7201a8\"],[0.3333333333333333,\"#9c179e\"],[0.4444444444444444,\"#bd3786\"],[0.5555555555555556,\"#d8576b\"],[0.6666666666666666,\"#ed7953\"],[0.7777777777777778,\"#fb9f3a\"],[0.8888888888888888,\"#fdca26\"],[1.0,\"#f0f921\"]],\"type\":\"surface\"}],\"table\":[{\"cells\":{\"fill\":{\"color\":\"#EBF0F8\"},\"line\":{\"color\":\"white\"}},\"header\":{\"fill\":{\"color\":\"#C8D4E3\"},\"line\":{\"color\":\"white\"}},\"type\":\"table\"}]},\"layout\":{\"annotationdefaults\":{\"arrowcolor\":\"#2a3f5f\",\"arrowhead\":0,\"arrowwidth\":1},\"autotypenumbers\":\"strict\",\"coloraxis\":{\"colorbar\":{\"outlinewidth\":0,\"ticks\":\"\"}},\"colorscale\":{\"diverging\":[[0,\"#8e0152\"],[0.1,\"#c51b7d\"],[0.2,\"#de77ae\"],[0.3,\"#f1b6da\"],[0.4,\"#fde0ef\"],[0.5,\"#f7f7f7\"],[0.6,\"#e6f5d0\"],[0.7,\"#b8e186\"],[0.8,\"#7fbc41\"],[0.9,\"#4d9221\"],[1,\"#276419\"]],\"sequential\":[[0.0,\"#0d0887\"],[0.1111111111111111,\"#46039f\"],[0.2222222222222222,\"#7201a8\"],[0.3333333333333333,\"#9c179e\"],[0.4444444444444444,\"#bd3786\"],[0.5555555555555556,\"#d8576b\"],[0.6666666666666666,\"#ed7953\"],[0.7777777777777778,\"#fb9f3a\"],[0.8888888888888888,\"#fdca26\"],[1.0,\"#f0f921\"]],\"sequentialminus\":[[0.0,\"#0d0887\"],[0.1111111111111111,\"#46039f\"],[0.2222222222222222,\"#7201a8\"],[0.3333333333333333,\"#9c179e\"],[0.4444444444444444,\"#bd3786\"],[0.5555555555555556,\"#d8576b\"],[0.6666666666666666,\"#ed7953\"],[0.7777777777777778,\"#fb9f3a\"],[0.8888888888888888,\"#fdca26\"],[1.0,\"#f0f921\"]]},\"colorway\":[\"#636efa\",\"#EF553B\",\"#00cc96\",\"#ab63fa\",\"#FFA15A\",\"#19d3f3\",\"#FF6692\",\"#B6E880\",\"#FF97FF\",\"#FECB52\"],\"font\":{\"color\":\"#2a3f5f\"},\"geo\":{\"bgcolor\":\"white\",\"lakecolor\":\"white\",\"landcolor\":\"#E5ECF6\",\"showlakes\":true,\"showland\":true,\"subunitcolor\":\"white\"},\"hoverlabel\":{\"align\":\"left\"},\"hovermode\":\"closest\",\"mapbox\":{\"style\":\"light\"},\"paper_bgcolor\":\"white\",\"plot_bgcolor\":\"#E5ECF6\",\"polar\":{\"angularaxis\":{\"gridcolor\":\"white\",\"linecolor\":\"white\",\"ticks\":\"\"},\"bgcolor\":\"#E5ECF6\",\"radialaxis\":{\"gridcolor\":\"white\",\"linecolor\":\"white\",\"ticks\":\"\"}},\"scene\":{\"xaxis\":{\"backgroundcolor\":\"#E5ECF6\",\"gridcolor\":\"white\",\"gridwidth\":2,\"linecolor\":\"white\",\"showbackground\":true,\"ticks\":\"\",\"zerolinecolor\":\"white\"},\"yaxis\":{\"backgroundcolor\":\"#E5ECF6\",\"gridcolor\":\"white\",\"gridwidth\":2,\"linecolor\":\"white\",\"showbackground\":true,\"ticks\":\"\",\"zerolinecolor\":\"white\"},\"zaxis\":{\"backgroundcolor\":\"#E5ECF6\",\"gridcolor\":\"white\",\"gridwidth\":2,\"linecolor\":\"white\",\"showbackground\":true,\"ticks\":\"\",\"zerolinecolor\":\"white\"}},\"shapedefaults\":{\"line\":{\"color\":\"#2a3f5f\"}},\"ternary\":{\"aaxis\":{\"gridcolor\":\"white\",\"linecolor\":\"white\",\"ticks\":\"\"},\"baxis\":{\"gridcolor\":\"white\",\"linecolor\":\"white\",\"ticks\":\"\"},\"bgcolor\":\"#E5ECF6\",\"caxis\":{\"gridcolor\":\"white\",\"linecolor\":\"white\",\"ticks\":\"\"}},\"title\":{\"x\":0.05},\"xaxis\":{\"automargin\":true,\"gridcolor\":\"white\",\"linecolor\":\"white\",\"ticks\":\"\",\"title\":{\"standoff\":15},\"zerolinecolor\":\"white\",\"zerolinewidth\":2},\"yaxis\":{\"automargin\":true,\"gridcolor\":\"white\",\"linecolor\":\"white\",\"ticks\":\"\",\"title\":{\"standoff\":15},\"zerolinecolor\":\"white\",\"zerolinewidth\":2}}},\"title\":{\"text\":\"toy problem\"},\"xaxis\":{\"title\":{\"text\":\"time\"}},\"yaxis\":{\"title\":{\"text\":\"sig\"}}},                        {\"scrollZoom\": true, \"displayModeBar\": true, \"editable\": true, \"responsive\": true}                    ).then(function(){\n",
       "                            \n",
       "var gd = document.getElementById('ecd6853c-29ba-4c6d-8c2f-2bcd86f58c06');\n",
       "var x = new MutationObserver(function (mutations, observer) {{\n",
       "        var display = window.getComputedStyle(gd).display;\n",
       "        if (!display || display === 'none') {{\n",
       "            console.log([gd, 'removed!']);\n",
       "            Plotly.purge(gd);\n",
       "            observer.disconnect();\n",
       "        }}\n",
       "}});\n",
       "\n",
       "// Listen for the removal of the full notebook cells\n",
       "var notebookContainer = gd.closest('#notebook-container');\n",
       "if (notebookContainer) {{\n",
       "    x.observe(notebookContainer, {childList: true});\n",
       "}}\n",
       "\n",
       "// Listen for the clearing of the current output cell\n",
       "var outputEl = gd.closest('.output');\n",
       "if (outputEl) {{\n",
       "    x.observe(outputEl, {childList: true});\n",
       "}}\n",
       "\n",
       "                        })                };                });            </script>        </div>"
      ]
     },
     "metadata": {},
     "output_type": "display_data"
    }
   ],
   "source": [
    "# --------------------\n",
    "# More realistic outline : usually you know start and ending time and NOT the number of data points\n",
    "# --------------------\n",
    "fs = 10  # sampling frequency\n",
    "ts = 1/fs  # sampling time\n",
    "\n",
    "start_val = 0  # secs\n",
    "stop_val = 10  # secs\n",
    "\n",
    "N = int(fs*stop_val)  # number of sample points\n",
    "t = np.multiply(range(start_val, N), ts)\n",
    "\n",
    "A = 2  # peak amplitude\n",
    "\n",
    "# The larger omega the more waves\n",
    "# Find omega per cycle\n",
    "omega = (2*math.pi)/fs  # carrier frequency OR natural frequency (degrees)\n",
    "print('omega for one cycle per length of t: ', omega)\n",
    "\n",
    "# Choose how many cycles you want per time t\n",
    "num_of_cycles = 4\n",
    "omega = num_of_cycles*omega\n",
    "\n",
    "phi = 0  # degrees\n",
    "c = 0  # vertical shift\n",
    "sig0 = A * np.sin(omega*(t - phi)) + c\n",
    "sig0 = make_a_properlist(sig)\n",
    "\n",
    "period = (2*math.pi)/omega\n",
    "print('period : ', period)\n",
    "\n",
    "natural_freq = 1/period\n",
    "print('natural_freq sig : ', natural_freq)\n",
    "# --------------------\n",
    "\n",
    "# --------------------\n",
    "fig = go.Figure()\n",
    "config = dict({'scrollZoom': True, 'displayModeBar': True, 'editable': True})\n",
    "fig.add_trace(go.Scatter(x=t, y=sig0, name='sig', line = dict(color='green', width=2, dash='dash'), showlegend=True))\n",
    "fig.update_layout(title='toy problem', xaxis_title='time', yaxis_title='signal')\n",
    "fig.show(config=config)\n",
    "# --------------------"
   ]
  },
  {
   "cell_type": "markdown",
   "id": "22f2c82a",
   "metadata": {},
   "source": [
    "## Transform the Toy example : signal with respect to angle\n",
    "\n",
    "### sig1 = A*sin(k*(theta - phi)) + c\n",
    "where A is the peak amplitude, k is the wave number (rad/sec), t is time, phi is the phase shift/horizontal shift (rad), and c is the vertical shift."
   ]
  },
  {
   "cell_type": "code",
   "execution_count": 184,
   "id": "13e7fa32",
   "metadata": {},
   "outputs": [
    {
     "name": "stdout",
     "output_type": "stream",
     "text": [
      "omega for one cycle per length of t:  2.5132741228718345\n",
      "period :  0.17453292519943295\n",
      "natural_freq sig :  5.729577951308232\n"
     ]
    },
    {
     "data": {
      "application/vnd.plotly.v1+json": {
       "config": {
        "displayModeBar": true,
        "editable": true,
        "plotlyServerURL": "https://plot.ly",
        "scrollZoom": true
       },
       "data": [
        {
         "line": {
          "color": "green",
          "dash": "dash",
          "width": 2
         },
         "name": "sig1",
         "showlegend": true,
         "type": "scatter",
         "x": [
          0,
          0.1,
          0.2,
          0.30000000000000004,
          0.4,
          0.5,
          0.6000000000000001,
          0.7000000000000001,
          0.8,
          0.9,
          1,
          1.1,
          1.2000000000000002,
          1.3,
          1.4000000000000001,
          1.5,
          1.6,
          1.7000000000000002,
          1.8,
          1.9000000000000001,
          2,
          2.1,
          2.2,
          2.3000000000000003,
          2.4000000000000004,
          2.5,
          2.6,
          2.7,
          2.8000000000000003,
          2.9000000000000004,
          3,
          3.1,
          3.2,
          3.3000000000000003,
          3.4000000000000004,
          3.5,
          3.6,
          3.7,
          3.8000000000000003,
          3.9000000000000004,
          4,
          4.1000000000000005,
          4.2,
          4.3,
          4.4,
          4.5,
          4.6000000000000005,
          4.7,
          4.800000000000001,
          4.9,
          5,
          5.1000000000000005,
          5.2,
          5.300000000000001,
          5.4,
          5.5,
          5.6000000000000005,
          5.7,
          5.800000000000001,
          5.9,
          6,
          6.1000000000000005,
          6.2,
          6.300000000000001,
          6.4,
          6.5,
          6.6000000000000005,
          6.7,
          6.800000000000001,
          6.9,
          7,
          7.1000000000000005,
          7.2,
          7.300000000000001,
          7.4,
          7.5,
          7.6000000000000005,
          7.7,
          7.800000000000001,
          7.9,
          8,
          8.1,
          8.200000000000001,
          8.3,
          8.4,
          8.5,
          8.6,
          8.700000000000001,
          8.8,
          8.9,
          9,
          9.1,
          9.200000000000001,
          9.3,
          9.4,
          9.5,
          9.600000000000001,
          9.700000000000001,
          9.8,
          9.9
         ],
         "y": [
          -4.408728476930472e-15,
          -0.12558110273173748,
          -0.2506669734981659,
          -0.37476432125165,
          -0.49738372926743457,
          -0.6180415735526184,
          -0.7362619188317517,
          -0.8515783847673799,
          -0.96353597518678,
          -1.0716928632268867,
          -1.1756221254762316,
          -1.2749134183877884,
          -1.3691745904545727,
          -1.4580332238855147,
          -1.5411380997862572,
          -1.6181605811410908,
          -1.6887959082052282,
          -1.7527644012497483,
          -1.8098125659551012,
          -1.859714097119526,
          -1.9022707767373852,
          -1.9373132629047398,
          -1.9647017664270197,
          -1.9843266124326013,
          -1.9961086847358365,
          -1.9999997511421033,
          -1.9959826683433763,
          -1.984071465514672,
          -1.9643113061873116,
          -1.9367783284427167,
          -1.901579363938584,
          -1.858851536746026,
          -1.8087617434399854,
          -1.7515060163437595,
          -1.6873087722808835,
          -1.616421949630982,
          -1.5391240369205097,
          -1.455718996600716,
          -1.366535088074646,
          -1.271923594428293,
          -1.1722574576994005,
          -1.0679298278761575,
          -0.959352531159815,
          -0.8469544633443162,
          -0.7311799144647855,
          -0.6124868311422187,
          -0.49134502330237995,
          -0.36823432217415625,
          -0.24364269667182945,
          -0.11806433544031467,
          0.00800229801223019,
          0.13405642955171373,
          0.2595969503931561,
          0.38412439712133,
          0.5071429280335701,
          0.6281622880796368,
          0.7466997547022084,
          0.8622820569387557,
          0.9744472602328644,
          1.0827466095193146,
          1.1867463232928446,
          1.2860293315431517,
          1.3801969506410783,
          1.46887048848861,
          1.5516927735004664,
          1.6283296012651907,
          1.6984710930385494,
          1.761832960549739,
          1.8181576719517327,
          1.8672155141178828,
          1.9088055468781695,
          1.9427564451973125,
          1.9689272257228738,
          1.9872078545723297,
          1.9975197336825665,
          1.9998160635114908,
          1.9940820803577644,
          1.9803351670493745,
          1.9586248362428385,
          1.9290325860706727,
          1.8916716283732593,
          1.8466864902506022,
          1.7942524901680017,
          1.734575090344736,
          1.667889127645774,
          1.5944579256798452,
          1.5145722912828075,
          1.428549399029237,
          1.3367315678679441,
          1.2394849344147387,
          1.1371980278584046,
          1.0302802518400718,
          0.9191602790515636,
          0.8042843646635678,
          0.6861145850353897,
          0.5651270084782253,
          0.4418098051359715,
          0.31666130331564096,
          0.1901879998386976,
          0.0629025321956958
         ]
        }
       ],
       "layout": {
        "template": {
         "data": {
          "bar": [
           {
            "error_x": {
             "color": "#2a3f5f"
            },
            "error_y": {
             "color": "#2a3f5f"
            },
            "marker": {
             "line": {
              "color": "#E5ECF6",
              "width": 0.5
             },
             "pattern": {
              "fillmode": "overlay",
              "size": 10,
              "solidity": 0.2
             }
            },
            "type": "bar"
           }
          ],
          "barpolar": [
           {
            "marker": {
             "line": {
              "color": "#E5ECF6",
              "width": 0.5
             },
             "pattern": {
              "fillmode": "overlay",
              "size": 10,
              "solidity": 0.2
             }
            },
            "type": "barpolar"
           }
          ],
          "carpet": [
           {
            "aaxis": {
             "endlinecolor": "#2a3f5f",
             "gridcolor": "white",
             "linecolor": "white",
             "minorgridcolor": "white",
             "startlinecolor": "#2a3f5f"
            },
            "baxis": {
             "endlinecolor": "#2a3f5f",
             "gridcolor": "white",
             "linecolor": "white",
             "minorgridcolor": "white",
             "startlinecolor": "#2a3f5f"
            },
            "type": "carpet"
           }
          ],
          "choropleth": [
           {
            "colorbar": {
             "outlinewidth": 0,
             "ticks": ""
            },
            "type": "choropleth"
           }
          ],
          "contour": [
           {
            "colorbar": {
             "outlinewidth": 0,
             "ticks": ""
            },
            "colorscale": [
             [
              0,
              "#0d0887"
             ],
             [
              0.1111111111111111,
              "#46039f"
             ],
             [
              0.2222222222222222,
              "#7201a8"
             ],
             [
              0.3333333333333333,
              "#9c179e"
             ],
             [
              0.4444444444444444,
              "#bd3786"
             ],
             [
              0.5555555555555556,
              "#d8576b"
             ],
             [
              0.6666666666666666,
              "#ed7953"
             ],
             [
              0.7777777777777778,
              "#fb9f3a"
             ],
             [
              0.8888888888888888,
              "#fdca26"
             ],
             [
              1,
              "#f0f921"
             ]
            ],
            "type": "contour"
           }
          ],
          "contourcarpet": [
           {
            "colorbar": {
             "outlinewidth": 0,
             "ticks": ""
            },
            "type": "contourcarpet"
           }
          ],
          "heatmap": [
           {
            "colorbar": {
             "outlinewidth": 0,
             "ticks": ""
            },
            "colorscale": [
             [
              0,
              "#0d0887"
             ],
             [
              0.1111111111111111,
              "#46039f"
             ],
             [
              0.2222222222222222,
              "#7201a8"
             ],
             [
              0.3333333333333333,
              "#9c179e"
             ],
             [
              0.4444444444444444,
              "#bd3786"
             ],
             [
              0.5555555555555556,
              "#d8576b"
             ],
             [
              0.6666666666666666,
              "#ed7953"
             ],
             [
              0.7777777777777778,
              "#fb9f3a"
             ],
             [
              0.8888888888888888,
              "#fdca26"
             ],
             [
              1,
              "#f0f921"
             ]
            ],
            "type": "heatmap"
           }
          ],
          "heatmapgl": [
           {
            "colorbar": {
             "outlinewidth": 0,
             "ticks": ""
            },
            "colorscale": [
             [
              0,
              "#0d0887"
             ],
             [
              0.1111111111111111,
              "#46039f"
             ],
             [
              0.2222222222222222,
              "#7201a8"
             ],
             [
              0.3333333333333333,
              "#9c179e"
             ],
             [
              0.4444444444444444,
              "#bd3786"
             ],
             [
              0.5555555555555556,
              "#d8576b"
             ],
             [
              0.6666666666666666,
              "#ed7953"
             ],
             [
              0.7777777777777778,
              "#fb9f3a"
             ],
             [
              0.8888888888888888,
              "#fdca26"
             ],
             [
              1,
              "#f0f921"
             ]
            ],
            "type": "heatmapgl"
           }
          ],
          "histogram": [
           {
            "marker": {
             "pattern": {
              "fillmode": "overlay",
              "size": 10,
              "solidity": 0.2
             }
            },
            "type": "histogram"
           }
          ],
          "histogram2d": [
           {
            "colorbar": {
             "outlinewidth": 0,
             "ticks": ""
            },
            "colorscale": [
             [
              0,
              "#0d0887"
             ],
             [
              0.1111111111111111,
              "#46039f"
             ],
             [
              0.2222222222222222,
              "#7201a8"
             ],
             [
              0.3333333333333333,
              "#9c179e"
             ],
             [
              0.4444444444444444,
              "#bd3786"
             ],
             [
              0.5555555555555556,
              "#d8576b"
             ],
             [
              0.6666666666666666,
              "#ed7953"
             ],
             [
              0.7777777777777778,
              "#fb9f3a"
             ],
             [
              0.8888888888888888,
              "#fdca26"
             ],
             [
              1,
              "#f0f921"
             ]
            ],
            "type": "histogram2d"
           }
          ],
          "histogram2dcontour": [
           {
            "colorbar": {
             "outlinewidth": 0,
             "ticks": ""
            },
            "colorscale": [
             [
              0,
              "#0d0887"
             ],
             [
              0.1111111111111111,
              "#46039f"
             ],
             [
              0.2222222222222222,
              "#7201a8"
             ],
             [
              0.3333333333333333,
              "#9c179e"
             ],
             [
              0.4444444444444444,
              "#bd3786"
             ],
             [
              0.5555555555555556,
              "#d8576b"
             ],
             [
              0.6666666666666666,
              "#ed7953"
             ],
             [
              0.7777777777777778,
              "#fb9f3a"
             ],
             [
              0.8888888888888888,
              "#fdca26"
             ],
             [
              1,
              "#f0f921"
             ]
            ],
            "type": "histogram2dcontour"
           }
          ],
          "mesh3d": [
           {
            "colorbar": {
             "outlinewidth": 0,
             "ticks": ""
            },
            "type": "mesh3d"
           }
          ],
          "parcoords": [
           {
            "line": {
             "colorbar": {
              "outlinewidth": 0,
              "ticks": ""
             }
            },
            "type": "parcoords"
           }
          ],
          "pie": [
           {
            "automargin": true,
            "type": "pie"
           }
          ],
          "scatter": [
           {
            "marker": {
             "colorbar": {
              "outlinewidth": 0,
              "ticks": ""
             }
            },
            "type": "scatter"
           }
          ],
          "scatter3d": [
           {
            "line": {
             "colorbar": {
              "outlinewidth": 0,
              "ticks": ""
             }
            },
            "marker": {
             "colorbar": {
              "outlinewidth": 0,
              "ticks": ""
             }
            },
            "type": "scatter3d"
           }
          ],
          "scattercarpet": [
           {
            "marker": {
             "colorbar": {
              "outlinewidth": 0,
              "ticks": ""
             }
            },
            "type": "scattercarpet"
           }
          ],
          "scattergeo": [
           {
            "marker": {
             "colorbar": {
              "outlinewidth": 0,
              "ticks": ""
             }
            },
            "type": "scattergeo"
           }
          ],
          "scattergl": [
           {
            "marker": {
             "colorbar": {
              "outlinewidth": 0,
              "ticks": ""
             }
            },
            "type": "scattergl"
           }
          ],
          "scattermapbox": [
           {
            "marker": {
             "colorbar": {
              "outlinewidth": 0,
              "ticks": ""
             }
            },
            "type": "scattermapbox"
           }
          ],
          "scatterpolar": [
           {
            "marker": {
             "colorbar": {
              "outlinewidth": 0,
              "ticks": ""
             }
            },
            "type": "scatterpolar"
           }
          ],
          "scatterpolargl": [
           {
            "marker": {
             "colorbar": {
              "outlinewidth": 0,
              "ticks": ""
             }
            },
            "type": "scatterpolargl"
           }
          ],
          "scatterternary": [
           {
            "marker": {
             "colorbar": {
              "outlinewidth": 0,
              "ticks": ""
             }
            },
            "type": "scatterternary"
           }
          ],
          "surface": [
           {
            "colorbar": {
             "outlinewidth": 0,
             "ticks": ""
            },
            "colorscale": [
             [
              0,
              "#0d0887"
             ],
             [
              0.1111111111111111,
              "#46039f"
             ],
             [
              0.2222222222222222,
              "#7201a8"
             ],
             [
              0.3333333333333333,
              "#9c179e"
             ],
             [
              0.4444444444444444,
              "#bd3786"
             ],
             [
              0.5555555555555556,
              "#d8576b"
             ],
             [
              0.6666666666666666,
              "#ed7953"
             ],
             [
              0.7777777777777778,
              "#fb9f3a"
             ],
             [
              0.8888888888888888,
              "#fdca26"
             ],
             [
              1,
              "#f0f921"
             ]
            ],
            "type": "surface"
           }
          ],
          "table": [
           {
            "cells": {
             "fill": {
              "color": "#EBF0F8"
             },
             "line": {
              "color": "white"
             }
            },
            "header": {
             "fill": {
              "color": "#C8D4E3"
             },
             "line": {
              "color": "white"
             }
            },
            "type": "table"
           }
          ]
         },
         "layout": {
          "annotationdefaults": {
           "arrowcolor": "#2a3f5f",
           "arrowhead": 0,
           "arrowwidth": 1
          },
          "autotypenumbers": "strict",
          "coloraxis": {
           "colorbar": {
            "outlinewidth": 0,
            "ticks": ""
           }
          },
          "colorscale": {
           "diverging": [
            [
             0,
             "#8e0152"
            ],
            [
             0.1,
             "#c51b7d"
            ],
            [
             0.2,
             "#de77ae"
            ],
            [
             0.3,
             "#f1b6da"
            ],
            [
             0.4,
             "#fde0ef"
            ],
            [
             0.5,
             "#f7f7f7"
            ],
            [
             0.6,
             "#e6f5d0"
            ],
            [
             0.7,
             "#b8e186"
            ],
            [
             0.8,
             "#7fbc41"
            ],
            [
             0.9,
             "#4d9221"
            ],
            [
             1,
             "#276419"
            ]
           ],
           "sequential": [
            [
             0,
             "#0d0887"
            ],
            [
             0.1111111111111111,
             "#46039f"
            ],
            [
             0.2222222222222222,
             "#7201a8"
            ],
            [
             0.3333333333333333,
             "#9c179e"
            ],
            [
             0.4444444444444444,
             "#bd3786"
            ],
            [
             0.5555555555555556,
             "#d8576b"
            ],
            [
             0.6666666666666666,
             "#ed7953"
            ],
            [
             0.7777777777777778,
             "#fb9f3a"
            ],
            [
             0.8888888888888888,
             "#fdca26"
            ],
            [
             1,
             "#f0f921"
            ]
           ],
           "sequentialminus": [
            [
             0,
             "#0d0887"
            ],
            [
             0.1111111111111111,
             "#46039f"
            ],
            [
             0.2222222222222222,
             "#7201a8"
            ],
            [
             0.3333333333333333,
             "#9c179e"
            ],
            [
             0.4444444444444444,
             "#bd3786"
            ],
            [
             0.5555555555555556,
             "#d8576b"
            ],
            [
             0.6666666666666666,
             "#ed7953"
            ],
            [
             0.7777777777777778,
             "#fb9f3a"
            ],
            [
             0.8888888888888888,
             "#fdca26"
            ],
            [
             1,
             "#f0f921"
            ]
           ]
          },
          "colorway": [
           "#636efa",
           "#EF553B",
           "#00cc96",
           "#ab63fa",
           "#FFA15A",
           "#19d3f3",
           "#FF6692",
           "#B6E880",
           "#FF97FF",
           "#FECB52"
          ],
          "font": {
           "color": "#2a3f5f"
          },
          "geo": {
           "bgcolor": "white",
           "lakecolor": "white",
           "landcolor": "#E5ECF6",
           "showlakes": true,
           "showland": true,
           "subunitcolor": "white"
          },
          "hoverlabel": {
           "align": "left"
          },
          "hovermode": "closest",
          "mapbox": {
           "style": "light"
          },
          "paper_bgcolor": "white",
          "plot_bgcolor": "#E5ECF6",
          "polar": {
           "angularaxis": {
            "gridcolor": "white",
            "linecolor": "white",
            "ticks": ""
           },
           "bgcolor": "#E5ECF6",
           "radialaxis": {
            "gridcolor": "white",
            "linecolor": "white",
            "ticks": ""
           }
          },
          "scene": {
           "xaxis": {
            "backgroundcolor": "#E5ECF6",
            "gridcolor": "white",
            "gridwidth": 2,
            "linecolor": "white",
            "showbackground": true,
            "ticks": "",
            "zerolinecolor": "white"
           },
           "yaxis": {
            "backgroundcolor": "#E5ECF6",
            "gridcolor": "white",
            "gridwidth": 2,
            "linecolor": "white",
            "showbackground": true,
            "ticks": "",
            "zerolinecolor": "white"
           },
           "zaxis": {
            "backgroundcolor": "#E5ECF6",
            "gridcolor": "white",
            "gridwidth": 2,
            "linecolor": "white",
            "showbackground": true,
            "ticks": "",
            "zerolinecolor": "white"
           }
          },
          "shapedefaults": {
           "line": {
            "color": "#2a3f5f"
           }
          },
          "ternary": {
           "aaxis": {
            "gridcolor": "white",
            "linecolor": "white",
            "ticks": ""
           },
           "baxis": {
            "gridcolor": "white",
            "linecolor": "white",
            "ticks": ""
           },
           "bgcolor": "#E5ECF6",
           "caxis": {
            "gridcolor": "white",
            "linecolor": "white",
            "ticks": ""
           }
          },
          "title": {
           "x": 0.05
          },
          "xaxis": {
           "automargin": true,
           "gridcolor": "white",
           "linecolor": "white",
           "ticks": "",
           "title": {
            "standoff": 15
           },
           "zerolinecolor": "white",
           "zerolinewidth": 2
          },
          "yaxis": {
           "automargin": true,
           "gridcolor": "white",
           "linecolor": "white",
           "ticks": "",
           "title": {
            "standoff": 15
           },
           "zerolinecolor": "white",
           "zerolinewidth": 2
          }
         }
        },
        "title": {
         "text": "toy problem"
        },
        "xaxis": {
         "title": {
          "text": "angle"
         }
        },
        "yaxis": {
         "title": {
          "text": "signal"
         }
        }
       }
      },
      "text/html": [
       "<div>                            <div id=\"7786f626-758e-4dca-89de-bca2f08e38c7\" class=\"plotly-graph-div\" style=\"height:525px; width:100%;\"></div>            <script type=\"text/javascript\">                require([\"plotly\"], function(Plotly) {                    window.PLOTLYENV=window.PLOTLYENV || {};                                    if (document.getElementById(\"7786f626-758e-4dca-89de-bca2f08e38c7\")) {                    Plotly.newPlot(                        \"7786f626-758e-4dca-89de-bca2f08e38c7\",                        [{\"line\":{\"color\":\"green\",\"dash\":\"dash\",\"width\":2},\"name\":\"sig1\",\"showlegend\":true,\"type\":\"scatter\",\"x\":[0.0,0.1,0.2,0.30000000000000004,0.4,0.5,0.6000000000000001,0.7000000000000001,0.8,0.9,1.0,1.1,1.2000000000000002,1.3,1.4000000000000001,1.5,1.6,1.7000000000000002,1.8,1.9000000000000001,2.0,2.1,2.2,2.3000000000000003,2.4000000000000004,2.5,2.6,2.7,2.8000000000000003,2.9000000000000004,3.0,3.1,3.2,3.3000000000000003,3.4000000000000004,3.5,3.6,3.7,3.8000000000000003,3.9000000000000004,4.0,4.1000000000000005,4.2,4.3,4.4,4.5,4.6000000000000005,4.7,4.800000000000001,4.9,5.0,5.1000000000000005,5.2,5.300000000000001,5.4,5.5,5.6000000000000005,5.7,5.800000000000001,5.9,6.0,6.1000000000000005,6.2,6.300000000000001,6.4,6.5,6.6000000000000005,6.7,6.800000000000001,6.9,7.0,7.1000000000000005,7.2,7.300000000000001,7.4,7.5,7.6000000000000005,7.7,7.800000000000001,7.9,8.0,8.1,8.200000000000001,8.3,8.4,8.5,8.6,8.700000000000001,8.8,8.9,9.0,9.1,9.200000000000001,9.3,9.4,9.5,9.600000000000001,9.700000000000001,9.8,9.9],\"y\":[-4.408728476930472e-15,-0.12558110273173748,-0.2506669734981659,-0.37476432125165,-0.49738372926743457,-0.6180415735526184,-0.7362619188317517,-0.8515783847673799,-0.96353597518678,-1.0716928632268867,-1.1756221254762316,-1.2749134183877884,-1.3691745904545727,-1.4580332238855147,-1.5411380997862572,-1.6181605811410908,-1.6887959082052282,-1.7527644012497483,-1.8098125659551012,-1.859714097119526,-1.9022707767373852,-1.9373132629047398,-1.9647017664270197,-1.9843266124326013,-1.9961086847358365,-1.9999997511421033,-1.9959826683433763,-1.984071465514672,-1.9643113061873116,-1.9367783284427167,-1.901579363938584,-1.858851536746026,-1.8087617434399854,-1.7515060163437595,-1.6873087722808835,-1.616421949630982,-1.5391240369205097,-1.455718996600716,-1.366535088074646,-1.271923594428293,-1.1722574576994005,-1.0679298278761575,-0.959352531159815,-0.8469544633443162,-0.7311799144647855,-0.6124868311422187,-0.49134502330237995,-0.36823432217415625,-0.24364269667182945,-0.11806433544031467,0.00800229801223019,0.13405642955171373,0.2595969503931561,0.38412439712133,0.5071429280335701,0.6281622880796368,0.7466997547022084,0.8622820569387557,0.9744472602328644,1.0827466095193146,1.1867463232928446,1.2860293315431517,1.3801969506410783,1.46887048848861,1.5516927735004664,1.6283296012651907,1.6984710930385494,1.761832960549739,1.8181576719517327,1.8672155141178828,1.9088055468781695,1.9427564451973125,1.9689272257228738,1.9872078545723297,1.9975197336825665,1.9998160635114908,1.9940820803577644,1.9803351670493745,1.9586248362428385,1.9290325860706727,1.8916716283732593,1.8466864902506022,1.7942524901680017,1.734575090344736,1.667889127645774,1.5944579256798452,1.5145722912828075,1.428549399029237,1.3367315678679441,1.2394849344147387,1.1371980278584046,1.0302802518400718,0.9191602790515636,0.8042843646635678,0.6861145850353897,0.5651270084782253,0.4418098051359715,0.31666130331564096,0.1901879998386976,0.0629025321956958]}],                        {\"template\":{\"data\":{\"bar\":[{\"error_x\":{\"color\":\"#2a3f5f\"},\"error_y\":{\"color\":\"#2a3f5f\"},\"marker\":{\"line\":{\"color\":\"#E5ECF6\",\"width\":0.5},\"pattern\":{\"fillmode\":\"overlay\",\"size\":10,\"solidity\":0.2}},\"type\":\"bar\"}],\"barpolar\":[{\"marker\":{\"line\":{\"color\":\"#E5ECF6\",\"width\":0.5},\"pattern\":{\"fillmode\":\"overlay\",\"size\":10,\"solidity\":0.2}},\"type\":\"barpolar\"}],\"carpet\":[{\"aaxis\":{\"endlinecolor\":\"#2a3f5f\",\"gridcolor\":\"white\",\"linecolor\":\"white\",\"minorgridcolor\":\"white\",\"startlinecolor\":\"#2a3f5f\"},\"baxis\":{\"endlinecolor\":\"#2a3f5f\",\"gridcolor\":\"white\",\"linecolor\":\"white\",\"minorgridcolor\":\"white\",\"startlinecolor\":\"#2a3f5f\"},\"type\":\"carpet\"}],\"choropleth\":[{\"colorbar\":{\"outlinewidth\":0,\"ticks\":\"\"},\"type\":\"choropleth\"}],\"contour\":[{\"colorbar\":{\"outlinewidth\":0,\"ticks\":\"\"},\"colorscale\":[[0.0,\"#0d0887\"],[0.1111111111111111,\"#46039f\"],[0.2222222222222222,\"#7201a8\"],[0.3333333333333333,\"#9c179e\"],[0.4444444444444444,\"#bd3786\"],[0.5555555555555556,\"#d8576b\"],[0.6666666666666666,\"#ed7953\"],[0.7777777777777778,\"#fb9f3a\"],[0.8888888888888888,\"#fdca26\"],[1.0,\"#f0f921\"]],\"type\":\"contour\"}],\"contourcarpet\":[{\"colorbar\":{\"outlinewidth\":0,\"ticks\":\"\"},\"type\":\"contourcarpet\"}],\"heatmap\":[{\"colorbar\":{\"outlinewidth\":0,\"ticks\":\"\"},\"colorscale\":[[0.0,\"#0d0887\"],[0.1111111111111111,\"#46039f\"],[0.2222222222222222,\"#7201a8\"],[0.3333333333333333,\"#9c179e\"],[0.4444444444444444,\"#bd3786\"],[0.5555555555555556,\"#d8576b\"],[0.6666666666666666,\"#ed7953\"],[0.7777777777777778,\"#fb9f3a\"],[0.8888888888888888,\"#fdca26\"],[1.0,\"#f0f921\"]],\"type\":\"heatmap\"}],\"heatmapgl\":[{\"colorbar\":{\"outlinewidth\":0,\"ticks\":\"\"},\"colorscale\":[[0.0,\"#0d0887\"],[0.1111111111111111,\"#46039f\"],[0.2222222222222222,\"#7201a8\"],[0.3333333333333333,\"#9c179e\"],[0.4444444444444444,\"#bd3786\"],[0.5555555555555556,\"#d8576b\"],[0.6666666666666666,\"#ed7953\"],[0.7777777777777778,\"#fb9f3a\"],[0.8888888888888888,\"#fdca26\"],[1.0,\"#f0f921\"]],\"type\":\"heatmapgl\"}],\"histogram\":[{\"marker\":{\"pattern\":{\"fillmode\":\"overlay\",\"size\":10,\"solidity\":0.2}},\"type\":\"histogram\"}],\"histogram2d\":[{\"colorbar\":{\"outlinewidth\":0,\"ticks\":\"\"},\"colorscale\":[[0.0,\"#0d0887\"],[0.1111111111111111,\"#46039f\"],[0.2222222222222222,\"#7201a8\"],[0.3333333333333333,\"#9c179e\"],[0.4444444444444444,\"#bd3786\"],[0.5555555555555556,\"#d8576b\"],[0.6666666666666666,\"#ed7953\"],[0.7777777777777778,\"#fb9f3a\"],[0.8888888888888888,\"#fdca26\"],[1.0,\"#f0f921\"]],\"type\":\"histogram2d\"}],\"histogram2dcontour\":[{\"colorbar\":{\"outlinewidth\":0,\"ticks\":\"\"},\"colorscale\":[[0.0,\"#0d0887\"],[0.1111111111111111,\"#46039f\"],[0.2222222222222222,\"#7201a8\"],[0.3333333333333333,\"#9c179e\"],[0.4444444444444444,\"#bd3786\"],[0.5555555555555556,\"#d8576b\"],[0.6666666666666666,\"#ed7953\"],[0.7777777777777778,\"#fb9f3a\"],[0.8888888888888888,\"#fdca26\"],[1.0,\"#f0f921\"]],\"type\":\"histogram2dcontour\"}],\"mesh3d\":[{\"colorbar\":{\"outlinewidth\":0,\"ticks\":\"\"},\"type\":\"mesh3d\"}],\"parcoords\":[{\"line\":{\"colorbar\":{\"outlinewidth\":0,\"ticks\":\"\"}},\"type\":\"parcoords\"}],\"pie\":[{\"automargin\":true,\"type\":\"pie\"}],\"scatter\":[{\"marker\":{\"colorbar\":{\"outlinewidth\":0,\"ticks\":\"\"}},\"type\":\"scatter\"}],\"scatter3d\":[{\"line\":{\"colorbar\":{\"outlinewidth\":0,\"ticks\":\"\"}},\"marker\":{\"colorbar\":{\"outlinewidth\":0,\"ticks\":\"\"}},\"type\":\"scatter3d\"}],\"scattercarpet\":[{\"marker\":{\"colorbar\":{\"outlinewidth\":0,\"ticks\":\"\"}},\"type\":\"scattercarpet\"}],\"scattergeo\":[{\"marker\":{\"colorbar\":{\"outlinewidth\":0,\"ticks\":\"\"}},\"type\":\"scattergeo\"}],\"scattergl\":[{\"marker\":{\"colorbar\":{\"outlinewidth\":0,\"ticks\":\"\"}},\"type\":\"scattergl\"}],\"scattermapbox\":[{\"marker\":{\"colorbar\":{\"outlinewidth\":0,\"ticks\":\"\"}},\"type\":\"scattermapbox\"}],\"scatterpolar\":[{\"marker\":{\"colorbar\":{\"outlinewidth\":0,\"ticks\":\"\"}},\"type\":\"scatterpolar\"}],\"scatterpolargl\":[{\"marker\":{\"colorbar\":{\"outlinewidth\":0,\"ticks\":\"\"}},\"type\":\"scatterpolargl\"}],\"scatterternary\":[{\"marker\":{\"colorbar\":{\"outlinewidth\":0,\"ticks\":\"\"}},\"type\":\"scatterternary\"}],\"surface\":[{\"colorbar\":{\"outlinewidth\":0,\"ticks\":\"\"},\"colorscale\":[[0.0,\"#0d0887\"],[0.1111111111111111,\"#46039f\"],[0.2222222222222222,\"#7201a8\"],[0.3333333333333333,\"#9c179e\"],[0.4444444444444444,\"#bd3786\"],[0.5555555555555556,\"#d8576b\"],[0.6666666666666666,\"#ed7953\"],[0.7777777777777778,\"#fb9f3a\"],[0.8888888888888888,\"#fdca26\"],[1.0,\"#f0f921\"]],\"type\":\"surface\"}],\"table\":[{\"cells\":{\"fill\":{\"color\":\"#EBF0F8\"},\"line\":{\"color\":\"white\"}},\"header\":{\"fill\":{\"color\":\"#C8D4E3\"},\"line\":{\"color\":\"white\"}},\"type\":\"table\"}]},\"layout\":{\"annotationdefaults\":{\"arrowcolor\":\"#2a3f5f\",\"arrowhead\":0,\"arrowwidth\":1},\"autotypenumbers\":\"strict\",\"coloraxis\":{\"colorbar\":{\"outlinewidth\":0,\"ticks\":\"\"}},\"colorscale\":{\"diverging\":[[0,\"#8e0152\"],[0.1,\"#c51b7d\"],[0.2,\"#de77ae\"],[0.3,\"#f1b6da\"],[0.4,\"#fde0ef\"],[0.5,\"#f7f7f7\"],[0.6,\"#e6f5d0\"],[0.7,\"#b8e186\"],[0.8,\"#7fbc41\"],[0.9,\"#4d9221\"],[1,\"#276419\"]],\"sequential\":[[0.0,\"#0d0887\"],[0.1111111111111111,\"#46039f\"],[0.2222222222222222,\"#7201a8\"],[0.3333333333333333,\"#9c179e\"],[0.4444444444444444,\"#bd3786\"],[0.5555555555555556,\"#d8576b\"],[0.6666666666666666,\"#ed7953\"],[0.7777777777777778,\"#fb9f3a\"],[0.8888888888888888,\"#fdca26\"],[1.0,\"#f0f921\"]],\"sequentialminus\":[[0.0,\"#0d0887\"],[0.1111111111111111,\"#46039f\"],[0.2222222222222222,\"#7201a8\"],[0.3333333333333333,\"#9c179e\"],[0.4444444444444444,\"#bd3786\"],[0.5555555555555556,\"#d8576b\"],[0.6666666666666666,\"#ed7953\"],[0.7777777777777778,\"#fb9f3a\"],[0.8888888888888888,\"#fdca26\"],[1.0,\"#f0f921\"]]},\"colorway\":[\"#636efa\",\"#EF553B\",\"#00cc96\",\"#ab63fa\",\"#FFA15A\",\"#19d3f3\",\"#FF6692\",\"#B6E880\",\"#FF97FF\",\"#FECB52\"],\"font\":{\"color\":\"#2a3f5f\"},\"geo\":{\"bgcolor\":\"white\",\"lakecolor\":\"white\",\"landcolor\":\"#E5ECF6\",\"showlakes\":true,\"showland\":true,\"subunitcolor\":\"white\"},\"hoverlabel\":{\"align\":\"left\"},\"hovermode\":\"closest\",\"mapbox\":{\"style\":\"light\"},\"paper_bgcolor\":\"white\",\"plot_bgcolor\":\"#E5ECF6\",\"polar\":{\"angularaxis\":{\"gridcolor\":\"white\",\"linecolor\":\"white\",\"ticks\":\"\"},\"bgcolor\":\"#E5ECF6\",\"radialaxis\":{\"gridcolor\":\"white\",\"linecolor\":\"white\",\"ticks\":\"\"}},\"scene\":{\"xaxis\":{\"backgroundcolor\":\"#E5ECF6\",\"gridcolor\":\"white\",\"gridwidth\":2,\"linecolor\":\"white\",\"showbackground\":true,\"ticks\":\"\",\"zerolinecolor\":\"white\"},\"yaxis\":{\"backgroundcolor\":\"#E5ECF6\",\"gridcolor\":\"white\",\"gridwidth\":2,\"linecolor\":\"white\",\"showbackground\":true,\"ticks\":\"\",\"zerolinecolor\":\"white\"},\"zaxis\":{\"backgroundcolor\":\"#E5ECF6\",\"gridcolor\":\"white\",\"gridwidth\":2,\"linecolor\":\"white\",\"showbackground\":true,\"ticks\":\"\",\"zerolinecolor\":\"white\"}},\"shapedefaults\":{\"line\":{\"color\":\"#2a3f5f\"}},\"ternary\":{\"aaxis\":{\"gridcolor\":\"white\",\"linecolor\":\"white\",\"ticks\":\"\"},\"baxis\":{\"gridcolor\":\"white\",\"linecolor\":\"white\",\"ticks\":\"\"},\"bgcolor\":\"#E5ECF6\",\"caxis\":{\"gridcolor\":\"white\",\"linecolor\":\"white\",\"ticks\":\"\"}},\"title\":{\"x\":0.05},\"xaxis\":{\"automargin\":true,\"gridcolor\":\"white\",\"linecolor\":\"white\",\"ticks\":\"\",\"title\":{\"standoff\":15},\"zerolinecolor\":\"white\",\"zerolinewidth\":2},\"yaxis\":{\"automargin\":true,\"gridcolor\":\"white\",\"linecolor\":\"white\",\"ticks\":\"\",\"title\":{\"standoff\":15},\"zerolinecolor\":\"white\",\"zerolinewidth\":2}}},\"title\":{\"text\":\"toy problem\"},\"xaxis\":{\"title\":{\"text\":\"angle\"}},\"yaxis\":{\"title\":{\"text\":\"signal\"}}},                        {\"scrollZoom\": true, \"displayModeBar\": true, \"editable\": true, \"responsive\": true}                    ).then(function(){\n",
       "                            \n",
       "var gd = document.getElementById('7786f626-758e-4dca-89de-bca2f08e38c7');\n",
       "var x = new MutationObserver(function (mutations, observer) {{\n",
       "        var display = window.getComputedStyle(gd).display;\n",
       "        if (!display || display === 'none') {{\n",
       "            console.log([gd, 'removed!']);\n",
       "            Plotly.purge(gd);\n",
       "            observer.disconnect();\n",
       "        }}\n",
       "}});\n",
       "\n",
       "// Listen for the removal of the full notebook cells\n",
       "var notebookContainer = gd.closest('#notebook-container');\n",
       "if (notebookContainer) {{\n",
       "    x.observe(notebookContainer, {childList: true});\n",
       "}}\n",
       "\n",
       "// Listen for the clearing of the current output cell\n",
       "var outputEl = gd.closest('.output');\n",
       "if (outputEl) {{\n",
       "    x.observe(outputEl, {childList: true});\n",
       "}}\n",
       "\n",
       "                        })                };                });            </script>        </div>"
      ]
     },
     "metadata": {},
     "output_type": "display_data"
    }
   ],
   "source": [
    "# Convert t to radians\n",
    "t_rad = t*(math.pi/180)\n",
    "\n",
    "# to convert time to an angle\n",
    "# t = r*cos(angle)  let r = 1 for a unit circle\n",
    "theta = np.arccos(t_rad)\n",
    "# print('theta : ', theta)\n",
    "\n",
    "# The larger omega the more waves\n",
    "# Find omega per cycle\n",
    "k = ((2*math.pi)/fs)/(math.pi/180)  # carrier frequency OR natural frequency (degrees)\n",
    "print('omega for one cycle per length of t: ', omega)\n",
    "\n",
    "# Choose how many cycles you want per time t\n",
    "num_of_cycles = 1\n",
    "k = num_of_cycles*k\n",
    "\n",
    "sig1 = A * np.sin(k*theta)\n",
    "\n",
    "period = (2*math.pi)/k\n",
    "print('period : ', period)\n",
    "\n",
    "natural_freq = 1/period\n",
    "print('natural_freq sig : ', natural_freq)\n",
    "\n",
    "# --------------------\n",
    "fig = go.Figure()\n",
    "config = dict({'scrollZoom': True, 'displayModeBar': True, 'editable': True})\n",
    "fig.add_trace(go.Scatter(x=t, y=sig1, name='sig1', line = dict(color='green', width=2, dash='dash'), showlegend=True))\n",
    "fig.update_layout(title='toy problem', xaxis_title='angle', yaxis_title='signal')\n",
    "fig.show(config=config)\n",
    "# --------------------"
   ]
  },
  {
   "cell_type": "markdown",
   "id": "ba938c67",
   "metadata": {},
   "source": [
    "## Find the natural frequency of the sig0 toy example using time cycle counting"
   ]
  },
  {
   "cell_type": "code",
   "execution_count": 186,
   "id": "146acd06",
   "metadata": {},
   "outputs": [
    {
     "data": {
      "application/vnd.plotly.v1+json": {
       "config": {
        "displayModeBar": true,
        "editable": true,
        "plotlyServerURL": "https://plot.ly",
        "scrollZoom": true
       },
       "data": [
        {
         "line": {
          "color": "red",
          "dash": "dash",
          "width": 2
         },
         "name": "binary_sig",
         "showlegend": true,
         "type": "scatter",
         "x": [
          0,
          0.1,
          0.2,
          0.30000000000000004,
          0.4,
          0.5,
          0.6000000000000001,
          0.7000000000000001,
          0.8,
          0.9,
          1,
          1.1,
          1.2000000000000002,
          1.3,
          1.4000000000000001,
          1.5,
          1.6,
          1.7000000000000002,
          1.8,
          1.9000000000000001,
          2,
          2.1,
          2.2,
          2.3000000000000003,
          2.4000000000000004,
          2.5,
          2.6,
          2.7,
          2.8000000000000003,
          2.9000000000000004,
          3,
          3.1,
          3.2,
          3.3000000000000003,
          3.4000000000000004,
          3.5,
          3.6,
          3.7,
          3.8000000000000003,
          3.9000000000000004,
          4,
          4.1000000000000005,
          4.2,
          4.3,
          4.4,
          4.5,
          4.6000000000000005,
          4.7,
          4.800000000000001,
          4.9,
          5,
          5.1000000000000005,
          5.2,
          5.300000000000001,
          5.4,
          5.5,
          5.6000000000000005,
          5.7,
          5.800000000000001,
          5.9,
          6,
          6.1000000000000005,
          6.2,
          6.300000000000001,
          6.4,
          6.5,
          6.6000000000000005,
          6.7,
          6.800000000000001,
          6.9,
          7,
          7.1000000000000005,
          7.2,
          7.300000000000001,
          7.4,
          7.5,
          7.6000000000000005,
          7.7,
          7.800000000000001,
          7.9,
          8,
          8.1,
          8.200000000000001,
          8.3,
          8.4,
          8.5,
          8.6,
          8.700000000000001,
          8.8,
          8.9,
          9,
          9.1,
          9.200000000000001,
          9.3,
          9.4,
          9.5,
          9.600000000000001,
          9.700000000000001,
          9.8,
          9.9
         ],
         "y": [
          0,
          1,
          1,
          1,
          1,
          1,
          1,
          1,
          1,
          1,
          1,
          1,
          1,
          -1,
          -1,
          -1,
          -1,
          -1,
          -1,
          -1,
          -1,
          -1,
          -1,
          -1,
          -1,
          -1,
          1,
          1,
          1,
          1,
          1,
          1,
          1,
          1,
          1,
          1,
          1,
          1,
          -1,
          -1,
          -1,
          -1,
          -1,
          -1,
          -1,
          -1,
          -1,
          -1,
          -1,
          -1,
          -1,
          1,
          1,
          1,
          1,
          1,
          1,
          1,
          1,
          1,
          1,
          1,
          1,
          -1,
          -1,
          -1,
          -1,
          -1,
          -1,
          -1,
          -1,
          -1,
          -1,
          -1,
          -1,
          -1,
          1,
          1,
          1,
          1,
          1,
          1,
          1,
          1,
          1,
          1,
          1,
          1,
          0,
          -1,
          -1,
          -1,
          -1,
          -1,
          -1,
          -1,
          -1,
          -1,
          -1,
          -1
         ]
        },
        {
         "line": {
          "color": "green",
          "dash": "dash",
          "width": 2
         },
         "name": "original signal",
         "showlegend": true,
         "type": "scatter",
         "x": [
          0,
          0.1,
          0.2,
          0.30000000000000004,
          0.4,
          0.5,
          0.6000000000000001,
          0.7000000000000001,
          0.8,
          0.9,
          1,
          1.1,
          1.2000000000000002,
          1.3,
          1.4000000000000001,
          1.5,
          1.6,
          1.7000000000000002,
          1.8,
          1.9000000000000001,
          2,
          2.1,
          2.2,
          2.3000000000000003,
          2.4000000000000004,
          2.5,
          2.6,
          2.7,
          2.8000000000000003,
          2.9000000000000004,
          3,
          3.1,
          3.2,
          3.3000000000000003,
          3.4000000000000004,
          3.5,
          3.6,
          3.7,
          3.8000000000000003,
          3.9000000000000004,
          4,
          4.1000000000000005,
          4.2,
          4.3,
          4.4,
          4.5,
          4.6000000000000005,
          4.7,
          4.800000000000001,
          4.9,
          5,
          5.1000000000000005,
          5.2,
          5.300000000000001,
          5.4,
          5.5,
          5.6000000000000005,
          5.7,
          5.800000000000001,
          5.9,
          6,
          6.1000000000000005,
          6.2,
          6.300000000000001,
          6.4,
          6.5,
          6.6000000000000005,
          6.7,
          6.800000000000001,
          6.9,
          7,
          7.1000000000000005,
          7.2,
          7.300000000000001,
          7.4,
          7.5,
          7.6000000000000005,
          7.7,
          7.800000000000001,
          7.9,
          8,
          8.1,
          8.200000000000001,
          8.3,
          8.4,
          8.5,
          8.6,
          8.700000000000001,
          8.8,
          8.9,
          9,
          9.1,
          9.200000000000001,
          9.3,
          9.4,
          9.5,
          9.600000000000001,
          9.700000000000001,
          9.8,
          9.9
         ],
         "y": [
          0,
          -0.5,
          -1,
          -1.4,
          -1.7,
          -1.9,
          -2,
          -2,
          -1.8,
          -1.6,
          -1.2,
          -0.8,
          -0.3,
          0.2,
          0.7,
          1.1,
          1.5,
          1.8,
          2,
          2,
          1.9,
          1.7,
          1.4,
          1,
          0.6,
          0.1,
          -0.4,
          -0.9,
          -1.3,
          -1.6,
          -1.9,
          -2,
          -2,
          -1.8,
          -1.6,
          -1.2,
          -0.8,
          -0.3,
          0.2,
          0.6,
          1.1,
          1.5,
          1.8,
          1.9,
          2,
          1.9,
          1.8,
          1.5,
          1.1,
          0.6,
          0.1,
          -0.4,
          -0.8,
          -1.3,
          -1.6,
          -1.9,
          -2,
          -2,
          -1.9,
          -1.6,
          -1.3,
          -0.9,
          -0.4,
          0.1,
          0.6,
          1,
          1.4,
          1.7,
          1.9,
          2,
          2,
          1.8,
          1.5,
          1.1,
          0.7,
          0.2,
          -0.3,
          -0.8,
          -1.2,
          -1.6,
          -1.8,
          -2,
          -2,
          -1.9,
          -1.7,
          -1.4,
          -0.9,
          -0.5,
          0,
          0.5,
          1,
          1.4,
          1.7,
          1.9,
          2,
          2,
          1.8,
          1.5,
          1.2,
          0.7
         ]
        },
        {
         "line": {
          "color": "blue",
          "dash": "dash",
          "width": 2
         },
         "name": "shifted signal",
         "showlegend": true,
         "type": "scatter",
         "x": [
          0,
          0.1,
          0.2,
          0.30000000000000004,
          0.4,
          0.5,
          0.6000000000000001,
          0.7000000000000001,
          0.8,
          0.9,
          1,
          1.1,
          1.2000000000000002,
          1.3,
          1.4000000000000001,
          1.5,
          1.6,
          1.7000000000000002,
          1.8,
          1.9000000000000001,
          2,
          2.1,
          2.2,
          2.3000000000000003,
          2.4000000000000004,
          2.5,
          2.6,
          2.7,
          2.8000000000000003,
          2.9000000000000004,
          3,
          3.1,
          3.2,
          3.3000000000000003,
          3.4000000000000004,
          3.5,
          3.6,
          3.7,
          3.8000000000000003,
          3.9000000000000004,
          4,
          4.1000000000000005,
          4.2,
          4.3,
          4.4,
          4.5,
          4.6000000000000005,
          4.7,
          4.800000000000001,
          4.9,
          5,
          5.1000000000000005,
          5.2,
          5.300000000000001,
          5.4,
          5.5,
          5.6000000000000005,
          5.7,
          5.800000000000001,
          5.9,
          6,
          6.1000000000000005,
          6.2,
          6.300000000000001,
          6.4,
          6.5,
          6.6000000000000005,
          6.7,
          6.800000000000001,
          6.9,
          7,
          7.1000000000000005,
          7.2,
          7.300000000000001,
          7.4,
          7.5,
          7.6000000000000005,
          7.7,
          7.800000000000001,
          7.9,
          8,
          8.1,
          8.200000000000001,
          8.3,
          8.4,
          8.5,
          8.6,
          8.700000000000001,
          8.8,
          8.9,
          9,
          9.1,
          9.200000000000001,
          9.3,
          9.4,
          9.5,
          9.600000000000001,
          9.700000000000001,
          9.8,
          9.9
         ],
         "y": [
          0,
          0.5,
          1,
          1.4,
          1.7,
          1.9,
          2,
          2,
          1.8,
          1.6,
          1.2,
          0.8,
          0.3,
          -0.2,
          -0.7,
          -1.1,
          -1.5,
          -1.8,
          -2,
          -2,
          -1.9,
          -1.7,
          -1.4,
          -1,
          -0.6,
          -0.1,
          0.4,
          0.9,
          1.3,
          1.6,
          1.9,
          2,
          2,
          1.8,
          1.6,
          1.2,
          0.8,
          0.3,
          -0.2,
          -0.6,
          -1.1,
          -1.5,
          -1.8,
          -1.9,
          -2,
          -1.9,
          -1.8,
          -1.5,
          -1.1,
          -0.6,
          -0.1,
          0.4,
          0.8,
          1.3,
          1.6,
          1.9,
          2,
          2,
          1.9,
          1.6,
          1.3,
          0.9,
          0.4,
          -0.1,
          -0.6,
          -1,
          -1.4,
          -1.7,
          -1.9,
          -2,
          -2,
          -1.8,
          -1.5,
          -1.1,
          -0.7,
          -0.2,
          0.3,
          0.8,
          1.2,
          1.6,
          1.8,
          2,
          2,
          1.9,
          1.7,
          1.4,
          0.9,
          0.5,
          0,
          -0.5,
          -1,
          -1.4,
          -1.7,
          -1.9,
          -2,
          -2,
          -1.8,
          -1.5,
          -1.2,
          -0.7
         ]
        }
       ],
       "layout": {
        "template": {
         "data": {
          "bar": [
           {
            "error_x": {
             "color": "#2a3f5f"
            },
            "error_y": {
             "color": "#2a3f5f"
            },
            "marker": {
             "line": {
              "color": "#E5ECF6",
              "width": 0.5
             },
             "pattern": {
              "fillmode": "overlay",
              "size": 10,
              "solidity": 0.2
             }
            },
            "type": "bar"
           }
          ],
          "barpolar": [
           {
            "marker": {
             "line": {
              "color": "#E5ECF6",
              "width": 0.5
             },
             "pattern": {
              "fillmode": "overlay",
              "size": 10,
              "solidity": 0.2
             }
            },
            "type": "barpolar"
           }
          ],
          "carpet": [
           {
            "aaxis": {
             "endlinecolor": "#2a3f5f",
             "gridcolor": "white",
             "linecolor": "white",
             "minorgridcolor": "white",
             "startlinecolor": "#2a3f5f"
            },
            "baxis": {
             "endlinecolor": "#2a3f5f",
             "gridcolor": "white",
             "linecolor": "white",
             "minorgridcolor": "white",
             "startlinecolor": "#2a3f5f"
            },
            "type": "carpet"
           }
          ],
          "choropleth": [
           {
            "colorbar": {
             "outlinewidth": 0,
             "ticks": ""
            },
            "type": "choropleth"
           }
          ],
          "contour": [
           {
            "colorbar": {
             "outlinewidth": 0,
             "ticks": ""
            },
            "colorscale": [
             [
              0,
              "#0d0887"
             ],
             [
              0.1111111111111111,
              "#46039f"
             ],
             [
              0.2222222222222222,
              "#7201a8"
             ],
             [
              0.3333333333333333,
              "#9c179e"
             ],
             [
              0.4444444444444444,
              "#bd3786"
             ],
             [
              0.5555555555555556,
              "#d8576b"
             ],
             [
              0.6666666666666666,
              "#ed7953"
             ],
             [
              0.7777777777777778,
              "#fb9f3a"
             ],
             [
              0.8888888888888888,
              "#fdca26"
             ],
             [
              1,
              "#f0f921"
             ]
            ],
            "type": "contour"
           }
          ],
          "contourcarpet": [
           {
            "colorbar": {
             "outlinewidth": 0,
             "ticks": ""
            },
            "type": "contourcarpet"
           }
          ],
          "heatmap": [
           {
            "colorbar": {
             "outlinewidth": 0,
             "ticks": ""
            },
            "colorscale": [
             [
              0,
              "#0d0887"
             ],
             [
              0.1111111111111111,
              "#46039f"
             ],
             [
              0.2222222222222222,
              "#7201a8"
             ],
             [
              0.3333333333333333,
              "#9c179e"
             ],
             [
              0.4444444444444444,
              "#bd3786"
             ],
             [
              0.5555555555555556,
              "#d8576b"
             ],
             [
              0.6666666666666666,
              "#ed7953"
             ],
             [
              0.7777777777777778,
              "#fb9f3a"
             ],
             [
              0.8888888888888888,
              "#fdca26"
             ],
             [
              1,
              "#f0f921"
             ]
            ],
            "type": "heatmap"
           }
          ],
          "heatmapgl": [
           {
            "colorbar": {
             "outlinewidth": 0,
             "ticks": ""
            },
            "colorscale": [
             [
              0,
              "#0d0887"
             ],
             [
              0.1111111111111111,
              "#46039f"
             ],
             [
              0.2222222222222222,
              "#7201a8"
             ],
             [
              0.3333333333333333,
              "#9c179e"
             ],
             [
              0.4444444444444444,
              "#bd3786"
             ],
             [
              0.5555555555555556,
              "#d8576b"
             ],
             [
              0.6666666666666666,
              "#ed7953"
             ],
             [
              0.7777777777777778,
              "#fb9f3a"
             ],
             [
              0.8888888888888888,
              "#fdca26"
             ],
             [
              1,
              "#f0f921"
             ]
            ],
            "type": "heatmapgl"
           }
          ],
          "histogram": [
           {
            "marker": {
             "pattern": {
              "fillmode": "overlay",
              "size": 10,
              "solidity": 0.2
             }
            },
            "type": "histogram"
           }
          ],
          "histogram2d": [
           {
            "colorbar": {
             "outlinewidth": 0,
             "ticks": ""
            },
            "colorscale": [
             [
              0,
              "#0d0887"
             ],
             [
              0.1111111111111111,
              "#46039f"
             ],
             [
              0.2222222222222222,
              "#7201a8"
             ],
             [
              0.3333333333333333,
              "#9c179e"
             ],
             [
              0.4444444444444444,
              "#bd3786"
             ],
             [
              0.5555555555555556,
              "#d8576b"
             ],
             [
              0.6666666666666666,
              "#ed7953"
             ],
             [
              0.7777777777777778,
              "#fb9f3a"
             ],
             [
              0.8888888888888888,
              "#fdca26"
             ],
             [
              1,
              "#f0f921"
             ]
            ],
            "type": "histogram2d"
           }
          ],
          "histogram2dcontour": [
           {
            "colorbar": {
             "outlinewidth": 0,
             "ticks": ""
            },
            "colorscale": [
             [
              0,
              "#0d0887"
             ],
             [
              0.1111111111111111,
              "#46039f"
             ],
             [
              0.2222222222222222,
              "#7201a8"
             ],
             [
              0.3333333333333333,
              "#9c179e"
             ],
             [
              0.4444444444444444,
              "#bd3786"
             ],
             [
              0.5555555555555556,
              "#d8576b"
             ],
             [
              0.6666666666666666,
              "#ed7953"
             ],
             [
              0.7777777777777778,
              "#fb9f3a"
             ],
             [
              0.8888888888888888,
              "#fdca26"
             ],
             [
              1,
              "#f0f921"
             ]
            ],
            "type": "histogram2dcontour"
           }
          ],
          "mesh3d": [
           {
            "colorbar": {
             "outlinewidth": 0,
             "ticks": ""
            },
            "type": "mesh3d"
           }
          ],
          "parcoords": [
           {
            "line": {
             "colorbar": {
              "outlinewidth": 0,
              "ticks": ""
             }
            },
            "type": "parcoords"
           }
          ],
          "pie": [
           {
            "automargin": true,
            "type": "pie"
           }
          ],
          "scatter": [
           {
            "marker": {
             "colorbar": {
              "outlinewidth": 0,
              "ticks": ""
             }
            },
            "type": "scatter"
           }
          ],
          "scatter3d": [
           {
            "line": {
             "colorbar": {
              "outlinewidth": 0,
              "ticks": ""
             }
            },
            "marker": {
             "colorbar": {
              "outlinewidth": 0,
              "ticks": ""
             }
            },
            "type": "scatter3d"
           }
          ],
          "scattercarpet": [
           {
            "marker": {
             "colorbar": {
              "outlinewidth": 0,
              "ticks": ""
             }
            },
            "type": "scattercarpet"
           }
          ],
          "scattergeo": [
           {
            "marker": {
             "colorbar": {
              "outlinewidth": 0,
              "ticks": ""
             }
            },
            "type": "scattergeo"
           }
          ],
          "scattergl": [
           {
            "marker": {
             "colorbar": {
              "outlinewidth": 0,
              "ticks": ""
             }
            },
            "type": "scattergl"
           }
          ],
          "scattermapbox": [
           {
            "marker": {
             "colorbar": {
              "outlinewidth": 0,
              "ticks": ""
             }
            },
            "type": "scattermapbox"
           }
          ],
          "scatterpolar": [
           {
            "marker": {
             "colorbar": {
              "outlinewidth": 0,
              "ticks": ""
             }
            },
            "type": "scatterpolar"
           }
          ],
          "scatterpolargl": [
           {
            "marker": {
             "colorbar": {
              "outlinewidth": 0,
              "ticks": ""
             }
            },
            "type": "scatterpolargl"
           }
          ],
          "scatterternary": [
           {
            "marker": {
             "colorbar": {
              "outlinewidth": 0,
              "ticks": ""
             }
            },
            "type": "scatterternary"
           }
          ],
          "surface": [
           {
            "colorbar": {
             "outlinewidth": 0,
             "ticks": ""
            },
            "colorscale": [
             [
              0,
              "#0d0887"
             ],
             [
              0.1111111111111111,
              "#46039f"
             ],
             [
              0.2222222222222222,
              "#7201a8"
             ],
             [
              0.3333333333333333,
              "#9c179e"
             ],
             [
              0.4444444444444444,
              "#bd3786"
             ],
             [
              0.5555555555555556,
              "#d8576b"
             ],
             [
              0.6666666666666666,
              "#ed7953"
             ],
             [
              0.7777777777777778,
              "#fb9f3a"
             ],
             [
              0.8888888888888888,
              "#fdca26"
             ],
             [
              1,
              "#f0f921"
             ]
            ],
            "type": "surface"
           }
          ],
          "table": [
           {
            "cells": {
             "fill": {
              "color": "#EBF0F8"
             },
             "line": {
              "color": "white"
             }
            },
            "header": {
             "fill": {
              "color": "#C8D4E3"
             },
             "line": {
              "color": "white"
             }
            },
            "type": "table"
           }
          ]
         },
         "layout": {
          "annotationdefaults": {
           "arrowcolor": "#2a3f5f",
           "arrowhead": 0,
           "arrowwidth": 1
          },
          "autotypenumbers": "strict",
          "coloraxis": {
           "colorbar": {
            "outlinewidth": 0,
            "ticks": ""
           }
          },
          "colorscale": {
           "diverging": [
            [
             0,
             "#8e0152"
            ],
            [
             0.1,
             "#c51b7d"
            ],
            [
             0.2,
             "#de77ae"
            ],
            [
             0.3,
             "#f1b6da"
            ],
            [
             0.4,
             "#fde0ef"
            ],
            [
             0.5,
             "#f7f7f7"
            ],
            [
             0.6,
             "#e6f5d0"
            ],
            [
             0.7,
             "#b8e186"
            ],
            [
             0.8,
             "#7fbc41"
            ],
            [
             0.9,
             "#4d9221"
            ],
            [
             1,
             "#276419"
            ]
           ],
           "sequential": [
            [
             0,
             "#0d0887"
            ],
            [
             0.1111111111111111,
             "#46039f"
            ],
            [
             0.2222222222222222,
             "#7201a8"
            ],
            [
             0.3333333333333333,
             "#9c179e"
            ],
            [
             0.4444444444444444,
             "#bd3786"
            ],
            [
             0.5555555555555556,
             "#d8576b"
            ],
            [
             0.6666666666666666,
             "#ed7953"
            ],
            [
             0.7777777777777778,
             "#fb9f3a"
            ],
            [
             0.8888888888888888,
             "#fdca26"
            ],
            [
             1,
             "#f0f921"
            ]
           ],
           "sequentialminus": [
            [
             0,
             "#0d0887"
            ],
            [
             0.1111111111111111,
             "#46039f"
            ],
            [
             0.2222222222222222,
             "#7201a8"
            ],
            [
             0.3333333333333333,
             "#9c179e"
            ],
            [
             0.4444444444444444,
             "#bd3786"
            ],
            [
             0.5555555555555556,
             "#d8576b"
            ],
            [
             0.6666666666666666,
             "#ed7953"
            ],
            [
             0.7777777777777778,
             "#fb9f3a"
            ],
            [
             0.8888888888888888,
             "#fdca26"
            ],
            [
             1,
             "#f0f921"
            ]
           ]
          },
          "colorway": [
           "#636efa",
           "#EF553B",
           "#00cc96",
           "#ab63fa",
           "#FFA15A",
           "#19d3f3",
           "#FF6692",
           "#B6E880",
           "#FF97FF",
           "#FECB52"
          ],
          "font": {
           "color": "#2a3f5f"
          },
          "geo": {
           "bgcolor": "white",
           "lakecolor": "white",
           "landcolor": "#E5ECF6",
           "showlakes": true,
           "showland": true,
           "subunitcolor": "white"
          },
          "hoverlabel": {
           "align": "left"
          },
          "hovermode": "closest",
          "mapbox": {
           "style": "light"
          },
          "paper_bgcolor": "white",
          "plot_bgcolor": "#E5ECF6",
          "polar": {
           "angularaxis": {
            "gridcolor": "white",
            "linecolor": "white",
            "ticks": ""
           },
           "bgcolor": "#E5ECF6",
           "radialaxis": {
            "gridcolor": "white",
            "linecolor": "white",
            "ticks": ""
           }
          },
          "scene": {
           "xaxis": {
            "backgroundcolor": "#E5ECF6",
            "gridcolor": "white",
            "gridwidth": 2,
            "linecolor": "white",
            "showbackground": true,
            "ticks": "",
            "zerolinecolor": "white"
           },
           "yaxis": {
            "backgroundcolor": "#E5ECF6",
            "gridcolor": "white",
            "gridwidth": 2,
            "linecolor": "white",
            "showbackground": true,
            "ticks": "",
            "zerolinecolor": "white"
           },
           "zaxis": {
            "backgroundcolor": "#E5ECF6",
            "gridcolor": "white",
            "gridwidth": 2,
            "linecolor": "white",
            "showbackground": true,
            "ticks": "",
            "zerolinecolor": "white"
           }
          },
          "shapedefaults": {
           "line": {
            "color": "#2a3f5f"
           }
          },
          "ternary": {
           "aaxis": {
            "gridcolor": "white",
            "linecolor": "white",
            "ticks": ""
           },
           "baxis": {
            "gridcolor": "white",
            "linecolor": "white",
            "ticks": ""
           },
           "bgcolor": "#E5ECF6",
           "caxis": {
            "gridcolor": "white",
            "linecolor": "white",
            "ticks": ""
           }
          },
          "title": {
           "x": 0.05
          },
          "xaxis": {
           "automargin": true,
           "gridcolor": "white",
           "linecolor": "white",
           "ticks": "",
           "title": {
            "standoff": 15
           },
           "zerolinecolor": "white",
           "zerolinewidth": 2
          },
          "yaxis": {
           "automargin": true,
           "gridcolor": "white",
           "linecolor": "white",
           "ticks": "",
           "title": {
            "standoff": 15
           },
           "zerolinecolor": "white",
           "zerolinewidth": 2
          }
         }
        },
        "title": {
         "text": "signals"
        },
        "xaxis": {
         "title": {
          "text": "time"
         }
        },
        "yaxis": {
         "title": {
          "text": "signal"
         }
        }
       }
      },
      "text/html": [
       "<div>                            <div id=\"c5c5af36-a44e-4b4a-878f-0d1a8ddc732c\" class=\"plotly-graph-div\" style=\"height:525px; width:100%;\"></div>            <script type=\"text/javascript\">                require([\"plotly\"], function(Plotly) {                    window.PLOTLYENV=window.PLOTLYENV || {};                                    if (document.getElementById(\"c5c5af36-a44e-4b4a-878f-0d1a8ddc732c\")) {                    Plotly.newPlot(                        \"c5c5af36-a44e-4b4a-878f-0d1a8ddc732c\",                        [{\"line\":{\"color\":\"red\",\"dash\":\"dash\",\"width\":2},\"name\":\"binary_sig\",\"showlegend\":true,\"type\":\"scatter\",\"x\":[0.0,0.1,0.2,0.30000000000000004,0.4,0.5,0.6000000000000001,0.7000000000000001,0.8,0.9,1.0,1.1,1.2000000000000002,1.3,1.4000000000000001,1.5,1.6,1.7000000000000002,1.8,1.9000000000000001,2.0,2.1,2.2,2.3000000000000003,2.4000000000000004,2.5,2.6,2.7,2.8000000000000003,2.9000000000000004,3.0,3.1,3.2,3.3000000000000003,3.4000000000000004,3.5,3.6,3.7,3.8000000000000003,3.9000000000000004,4.0,4.1000000000000005,4.2,4.3,4.4,4.5,4.6000000000000005,4.7,4.800000000000001,4.9,5.0,5.1000000000000005,5.2,5.300000000000001,5.4,5.5,5.6000000000000005,5.7,5.800000000000001,5.9,6.0,6.1000000000000005,6.2,6.300000000000001,6.4,6.5,6.6000000000000005,6.7,6.800000000000001,6.9,7.0,7.1000000000000005,7.2,7.300000000000001,7.4,7.5,7.6000000000000005,7.7,7.800000000000001,7.9,8.0,8.1,8.200000000000001,8.3,8.4,8.5,8.6,8.700000000000001,8.8,8.9,9.0,9.1,9.200000000000001,9.3,9.4,9.5,9.600000000000001,9.700000000000001,9.8,9.9],\"y\":[0.0,1.0,1.0,1.0,1.0,1.0,1.0,1.0,1.0,1.0,1.0,1.0,1.0,-1.0,-1.0,-1.0,-1.0,-1.0,-1.0,-1.0,-1.0,-1.0,-1.0,-1.0,-1.0,-1.0,1.0,1.0,1.0,1.0,1.0,1.0,1.0,1.0,1.0,1.0,1.0,1.0,-1.0,-1.0,-1.0,-1.0,-1.0,-1.0,-1.0,-1.0,-1.0,-1.0,-1.0,-1.0,-1.0,1.0,1.0,1.0,1.0,1.0,1.0,1.0,1.0,1.0,1.0,1.0,1.0,-1.0,-1.0,-1.0,-1.0,-1.0,-1.0,-1.0,-1.0,-1.0,-1.0,-1.0,-1.0,-1.0,1.0,1.0,1.0,1.0,1.0,1.0,1.0,1.0,1.0,1.0,1.0,1.0,0.0,-1.0,-1.0,-1.0,-1.0,-1.0,-1.0,-1.0,-1.0,-1.0,-1.0,-1.0]},{\"line\":{\"color\":\"green\",\"dash\":\"dash\",\"width\":2},\"name\":\"original signal\",\"showlegend\":true,\"type\":\"scatter\",\"x\":[0.0,0.1,0.2,0.30000000000000004,0.4,0.5,0.6000000000000001,0.7000000000000001,0.8,0.9,1.0,1.1,1.2000000000000002,1.3,1.4000000000000001,1.5,1.6,1.7000000000000002,1.8,1.9000000000000001,2.0,2.1,2.2,2.3000000000000003,2.4000000000000004,2.5,2.6,2.7,2.8000000000000003,2.9000000000000004,3.0,3.1,3.2,3.3000000000000003,3.4000000000000004,3.5,3.6,3.7,3.8000000000000003,3.9000000000000004,4.0,4.1000000000000005,4.2,4.3,4.4,4.5,4.6000000000000005,4.7,4.800000000000001,4.9,5.0,5.1000000000000005,5.2,5.300000000000001,5.4,5.5,5.6000000000000005,5.7,5.800000000000001,5.9,6.0,6.1000000000000005,6.2,6.300000000000001,6.4,6.5,6.6000000000000005,6.7,6.800000000000001,6.9,7.0,7.1000000000000005,7.2,7.300000000000001,7.4,7.5,7.6000000000000005,7.7,7.800000000000001,7.9,8.0,8.1,8.200000000000001,8.3,8.4,8.5,8.6,8.700000000000001,8.8,8.9,9.0,9.1,9.200000000000001,9.3,9.4,9.5,9.600000000000001,9.700000000000001,9.8,9.9],\"y\":[0.0,-0.5,-1.0,-1.4,-1.7,-1.9,-2.0,-2.0,-1.8,-1.6,-1.2,-0.8,-0.3,0.2,0.7,1.1,1.5,1.8,2.0,2.0,1.9,1.7,1.4,1.0,0.6,0.1,-0.4,-0.9,-1.3,-1.6,-1.9,-2.0,-2.0,-1.8,-1.6,-1.2,-0.8,-0.3,0.2,0.6,1.1,1.5,1.8,1.9,2.0,1.9,1.8,1.5,1.1,0.6,0.1,-0.4,-0.8,-1.3,-1.6,-1.9,-2.0,-2.0,-1.9,-1.6,-1.3,-0.9,-0.4,0.1,0.6,1.0,1.4,1.7,1.9,2.0,2.0,1.8,1.5,1.1,0.7,0.2,-0.3,-0.8,-1.2,-1.6,-1.8,-2.0,-2.0,-1.9,-1.7,-1.4,-0.9,-0.5,0.0,0.5,1.0,1.4,1.7,1.9,2.0,2.0,1.8,1.5,1.2,0.7]},{\"line\":{\"color\":\"blue\",\"dash\":\"dash\",\"width\":2},\"name\":\"shifted signal\",\"showlegend\":true,\"type\":\"scatter\",\"x\":[0.0,0.1,0.2,0.30000000000000004,0.4,0.5,0.6000000000000001,0.7000000000000001,0.8,0.9,1.0,1.1,1.2000000000000002,1.3,1.4000000000000001,1.5,1.6,1.7000000000000002,1.8,1.9000000000000001,2.0,2.1,2.2,2.3000000000000003,2.4000000000000004,2.5,2.6,2.7,2.8000000000000003,2.9000000000000004,3.0,3.1,3.2,3.3000000000000003,3.4000000000000004,3.5,3.6,3.7,3.8000000000000003,3.9000000000000004,4.0,4.1000000000000005,4.2,4.3,4.4,4.5,4.6000000000000005,4.7,4.800000000000001,4.9,5.0,5.1000000000000005,5.2,5.300000000000001,5.4,5.5,5.6000000000000005,5.7,5.800000000000001,5.9,6.0,6.1000000000000005,6.2,6.300000000000001,6.4,6.5,6.6000000000000005,6.7,6.800000000000001,6.9,7.0,7.1000000000000005,7.2,7.300000000000001,7.4,7.5,7.6000000000000005,7.7,7.800000000000001,7.9,8.0,8.1,8.200000000000001,8.3,8.4,8.5,8.6,8.700000000000001,8.8,8.9,9.0,9.1,9.200000000000001,9.3,9.4,9.5,9.600000000000001,9.700000000000001,9.8,9.9],\"y\":[0.0,0.5,1.0,1.4,1.7,1.9,2.0,2.0,1.8,1.6,1.2,0.8,0.3,-0.2,-0.7,-1.1,-1.5,-1.8,-2.0,-2.0,-1.9,-1.7,-1.4,-1.0,-0.6,-0.1,0.4,0.9,1.3,1.6,1.9,2.0,2.0,1.8,1.6,1.2,0.8,0.3,-0.2,-0.6,-1.1,-1.5,-1.8,-1.9,-2.0,-1.9,-1.8,-1.5,-1.1,-0.6,-0.1,0.4,0.8,1.3,1.6,1.9,2.0,2.0,1.9,1.6,1.3,0.9,0.4,-0.1,-0.6,-1.0,-1.4,-1.7,-1.9,-2.0,-2.0,-1.8,-1.5,-1.1,-0.7,-0.2,0.3,0.8,1.2,1.6,1.8,2.0,2.0,1.9,1.7,1.4,0.9,0.5,0.0,-0.5,-1.0,-1.4,-1.7,-1.9,-2.0,-2.0,-1.8,-1.5,-1.2,-0.7]}],                        {\"template\":{\"data\":{\"bar\":[{\"error_x\":{\"color\":\"#2a3f5f\"},\"error_y\":{\"color\":\"#2a3f5f\"},\"marker\":{\"line\":{\"color\":\"#E5ECF6\",\"width\":0.5},\"pattern\":{\"fillmode\":\"overlay\",\"size\":10,\"solidity\":0.2}},\"type\":\"bar\"}],\"barpolar\":[{\"marker\":{\"line\":{\"color\":\"#E5ECF6\",\"width\":0.5},\"pattern\":{\"fillmode\":\"overlay\",\"size\":10,\"solidity\":0.2}},\"type\":\"barpolar\"}],\"carpet\":[{\"aaxis\":{\"endlinecolor\":\"#2a3f5f\",\"gridcolor\":\"white\",\"linecolor\":\"white\",\"minorgridcolor\":\"white\",\"startlinecolor\":\"#2a3f5f\"},\"baxis\":{\"endlinecolor\":\"#2a3f5f\",\"gridcolor\":\"white\",\"linecolor\":\"white\",\"minorgridcolor\":\"white\",\"startlinecolor\":\"#2a3f5f\"},\"type\":\"carpet\"}],\"choropleth\":[{\"colorbar\":{\"outlinewidth\":0,\"ticks\":\"\"},\"type\":\"choropleth\"}],\"contour\":[{\"colorbar\":{\"outlinewidth\":0,\"ticks\":\"\"},\"colorscale\":[[0.0,\"#0d0887\"],[0.1111111111111111,\"#46039f\"],[0.2222222222222222,\"#7201a8\"],[0.3333333333333333,\"#9c179e\"],[0.4444444444444444,\"#bd3786\"],[0.5555555555555556,\"#d8576b\"],[0.6666666666666666,\"#ed7953\"],[0.7777777777777778,\"#fb9f3a\"],[0.8888888888888888,\"#fdca26\"],[1.0,\"#f0f921\"]],\"type\":\"contour\"}],\"contourcarpet\":[{\"colorbar\":{\"outlinewidth\":0,\"ticks\":\"\"},\"type\":\"contourcarpet\"}],\"heatmap\":[{\"colorbar\":{\"outlinewidth\":0,\"ticks\":\"\"},\"colorscale\":[[0.0,\"#0d0887\"],[0.1111111111111111,\"#46039f\"],[0.2222222222222222,\"#7201a8\"],[0.3333333333333333,\"#9c179e\"],[0.4444444444444444,\"#bd3786\"],[0.5555555555555556,\"#d8576b\"],[0.6666666666666666,\"#ed7953\"],[0.7777777777777778,\"#fb9f3a\"],[0.8888888888888888,\"#fdca26\"],[1.0,\"#f0f921\"]],\"type\":\"heatmap\"}],\"heatmapgl\":[{\"colorbar\":{\"outlinewidth\":0,\"ticks\":\"\"},\"colorscale\":[[0.0,\"#0d0887\"],[0.1111111111111111,\"#46039f\"],[0.2222222222222222,\"#7201a8\"],[0.3333333333333333,\"#9c179e\"],[0.4444444444444444,\"#bd3786\"],[0.5555555555555556,\"#d8576b\"],[0.6666666666666666,\"#ed7953\"],[0.7777777777777778,\"#fb9f3a\"],[0.8888888888888888,\"#fdca26\"],[1.0,\"#f0f921\"]],\"type\":\"heatmapgl\"}],\"histogram\":[{\"marker\":{\"pattern\":{\"fillmode\":\"overlay\",\"size\":10,\"solidity\":0.2}},\"type\":\"histogram\"}],\"histogram2d\":[{\"colorbar\":{\"outlinewidth\":0,\"ticks\":\"\"},\"colorscale\":[[0.0,\"#0d0887\"],[0.1111111111111111,\"#46039f\"],[0.2222222222222222,\"#7201a8\"],[0.3333333333333333,\"#9c179e\"],[0.4444444444444444,\"#bd3786\"],[0.5555555555555556,\"#d8576b\"],[0.6666666666666666,\"#ed7953\"],[0.7777777777777778,\"#fb9f3a\"],[0.8888888888888888,\"#fdca26\"],[1.0,\"#f0f921\"]],\"type\":\"histogram2d\"}],\"histogram2dcontour\":[{\"colorbar\":{\"outlinewidth\":0,\"ticks\":\"\"},\"colorscale\":[[0.0,\"#0d0887\"],[0.1111111111111111,\"#46039f\"],[0.2222222222222222,\"#7201a8\"],[0.3333333333333333,\"#9c179e\"],[0.4444444444444444,\"#bd3786\"],[0.5555555555555556,\"#d8576b\"],[0.6666666666666666,\"#ed7953\"],[0.7777777777777778,\"#fb9f3a\"],[0.8888888888888888,\"#fdca26\"],[1.0,\"#f0f921\"]],\"type\":\"histogram2dcontour\"}],\"mesh3d\":[{\"colorbar\":{\"outlinewidth\":0,\"ticks\":\"\"},\"type\":\"mesh3d\"}],\"parcoords\":[{\"line\":{\"colorbar\":{\"outlinewidth\":0,\"ticks\":\"\"}},\"type\":\"parcoords\"}],\"pie\":[{\"automargin\":true,\"type\":\"pie\"}],\"scatter\":[{\"marker\":{\"colorbar\":{\"outlinewidth\":0,\"ticks\":\"\"}},\"type\":\"scatter\"}],\"scatter3d\":[{\"line\":{\"colorbar\":{\"outlinewidth\":0,\"ticks\":\"\"}},\"marker\":{\"colorbar\":{\"outlinewidth\":0,\"ticks\":\"\"}},\"type\":\"scatter3d\"}],\"scattercarpet\":[{\"marker\":{\"colorbar\":{\"outlinewidth\":0,\"ticks\":\"\"}},\"type\":\"scattercarpet\"}],\"scattergeo\":[{\"marker\":{\"colorbar\":{\"outlinewidth\":0,\"ticks\":\"\"}},\"type\":\"scattergeo\"}],\"scattergl\":[{\"marker\":{\"colorbar\":{\"outlinewidth\":0,\"ticks\":\"\"}},\"type\":\"scattergl\"}],\"scattermapbox\":[{\"marker\":{\"colorbar\":{\"outlinewidth\":0,\"ticks\":\"\"}},\"type\":\"scattermapbox\"}],\"scatterpolar\":[{\"marker\":{\"colorbar\":{\"outlinewidth\":0,\"ticks\":\"\"}},\"type\":\"scatterpolar\"}],\"scatterpolargl\":[{\"marker\":{\"colorbar\":{\"outlinewidth\":0,\"ticks\":\"\"}},\"type\":\"scatterpolargl\"}],\"scatterternary\":[{\"marker\":{\"colorbar\":{\"outlinewidth\":0,\"ticks\":\"\"}},\"type\":\"scatterternary\"}],\"surface\":[{\"colorbar\":{\"outlinewidth\":0,\"ticks\":\"\"},\"colorscale\":[[0.0,\"#0d0887\"],[0.1111111111111111,\"#46039f\"],[0.2222222222222222,\"#7201a8\"],[0.3333333333333333,\"#9c179e\"],[0.4444444444444444,\"#bd3786\"],[0.5555555555555556,\"#d8576b\"],[0.6666666666666666,\"#ed7953\"],[0.7777777777777778,\"#fb9f3a\"],[0.8888888888888888,\"#fdca26\"],[1.0,\"#f0f921\"]],\"type\":\"surface\"}],\"table\":[{\"cells\":{\"fill\":{\"color\":\"#EBF0F8\"},\"line\":{\"color\":\"white\"}},\"header\":{\"fill\":{\"color\":\"#C8D4E3\"},\"line\":{\"color\":\"white\"}},\"type\":\"table\"}]},\"layout\":{\"annotationdefaults\":{\"arrowcolor\":\"#2a3f5f\",\"arrowhead\":0,\"arrowwidth\":1},\"autotypenumbers\":\"strict\",\"coloraxis\":{\"colorbar\":{\"outlinewidth\":0,\"ticks\":\"\"}},\"colorscale\":{\"diverging\":[[0,\"#8e0152\"],[0.1,\"#c51b7d\"],[0.2,\"#de77ae\"],[0.3,\"#f1b6da\"],[0.4,\"#fde0ef\"],[0.5,\"#f7f7f7\"],[0.6,\"#e6f5d0\"],[0.7,\"#b8e186\"],[0.8,\"#7fbc41\"],[0.9,\"#4d9221\"],[1,\"#276419\"]],\"sequential\":[[0.0,\"#0d0887\"],[0.1111111111111111,\"#46039f\"],[0.2222222222222222,\"#7201a8\"],[0.3333333333333333,\"#9c179e\"],[0.4444444444444444,\"#bd3786\"],[0.5555555555555556,\"#d8576b\"],[0.6666666666666666,\"#ed7953\"],[0.7777777777777778,\"#fb9f3a\"],[0.8888888888888888,\"#fdca26\"],[1.0,\"#f0f921\"]],\"sequentialminus\":[[0.0,\"#0d0887\"],[0.1111111111111111,\"#46039f\"],[0.2222222222222222,\"#7201a8\"],[0.3333333333333333,\"#9c179e\"],[0.4444444444444444,\"#bd3786\"],[0.5555555555555556,\"#d8576b\"],[0.6666666666666666,\"#ed7953\"],[0.7777777777777778,\"#fb9f3a\"],[0.8888888888888888,\"#fdca26\"],[1.0,\"#f0f921\"]]},\"colorway\":[\"#636efa\",\"#EF553B\",\"#00cc96\",\"#ab63fa\",\"#FFA15A\",\"#19d3f3\",\"#FF6692\",\"#B6E880\",\"#FF97FF\",\"#FECB52\"],\"font\":{\"color\":\"#2a3f5f\"},\"geo\":{\"bgcolor\":\"white\",\"lakecolor\":\"white\",\"landcolor\":\"#E5ECF6\",\"showlakes\":true,\"showland\":true,\"subunitcolor\":\"white\"},\"hoverlabel\":{\"align\":\"left\"},\"hovermode\":\"closest\",\"mapbox\":{\"style\":\"light\"},\"paper_bgcolor\":\"white\",\"plot_bgcolor\":\"#E5ECF6\",\"polar\":{\"angularaxis\":{\"gridcolor\":\"white\",\"linecolor\":\"white\",\"ticks\":\"\"},\"bgcolor\":\"#E5ECF6\",\"radialaxis\":{\"gridcolor\":\"white\",\"linecolor\":\"white\",\"ticks\":\"\"}},\"scene\":{\"xaxis\":{\"backgroundcolor\":\"#E5ECF6\",\"gridcolor\":\"white\",\"gridwidth\":2,\"linecolor\":\"white\",\"showbackground\":true,\"ticks\":\"\",\"zerolinecolor\":\"white\"},\"yaxis\":{\"backgroundcolor\":\"#E5ECF6\",\"gridcolor\":\"white\",\"gridwidth\":2,\"linecolor\":\"white\",\"showbackground\":true,\"ticks\":\"\",\"zerolinecolor\":\"white\"},\"zaxis\":{\"backgroundcolor\":\"#E5ECF6\",\"gridcolor\":\"white\",\"gridwidth\":2,\"linecolor\":\"white\",\"showbackground\":true,\"ticks\":\"\",\"zerolinecolor\":\"white\"}},\"shapedefaults\":{\"line\":{\"color\":\"#2a3f5f\"}},\"ternary\":{\"aaxis\":{\"gridcolor\":\"white\",\"linecolor\":\"white\",\"ticks\":\"\"},\"baxis\":{\"gridcolor\":\"white\",\"linecolor\":\"white\",\"ticks\":\"\"},\"bgcolor\":\"#E5ECF6\",\"caxis\":{\"gridcolor\":\"white\",\"linecolor\":\"white\",\"ticks\":\"\"}},\"title\":{\"x\":0.05},\"xaxis\":{\"automargin\":true,\"gridcolor\":\"white\",\"linecolor\":\"white\",\"ticks\":\"\",\"title\":{\"standoff\":15},\"zerolinecolor\":\"white\",\"zerolinewidth\":2},\"yaxis\":{\"automargin\":true,\"gridcolor\":\"white\",\"linecolor\":\"white\",\"ticks\":\"\",\"title\":{\"standoff\":15},\"zerolinecolor\":\"white\",\"zerolinewidth\":2}}},\"title\":{\"text\":\"signals\"},\"xaxis\":{\"title\":{\"text\":\"time\"}},\"yaxis\":{\"title\":{\"text\":\"signal\"}}},                        {\"scrollZoom\": true, \"displayModeBar\": true, \"editable\": true, \"responsive\": true}                    ).then(function(){\n",
       "                            \n",
       "var gd = document.getElementById('c5c5af36-a44e-4b4a-878f-0d1a8ddc732c');\n",
       "var x = new MutationObserver(function (mutations, observer) {{\n",
       "        var display = window.getComputedStyle(gd).display;\n",
       "        if (!display || display === 'none') {{\n",
       "            console.log([gd, 'removed!']);\n",
       "            Plotly.purge(gd);\n",
       "            observer.disconnect();\n",
       "        }}\n",
       "}});\n",
       "\n",
       "// Listen for the removal of the full notebook cells\n",
       "var notebookContainer = gd.closest('#notebook-container');\n",
       "if (notebookContainer) {{\n",
       "    x.observe(notebookContainer, {childList: true});\n",
       "}}\n",
       "\n",
       "// Listen for the clearing of the current output cell\n",
       "var outputEl = gd.closest('.output');\n",
       "if (outputEl) {{\n",
       "    x.observe(outputEl, {childList: true});\n",
       "}}\n",
       "\n",
       "                        })                };                });            </script>        </div>"
      ]
     },
     "metadata": {},
     "output_type": "display_data"
    },
    {
     "name": "stdout",
     "output_type": "stream",
     "text": [
      "ind_jumpPT : [1, 13, 26, 38, 51, 63, 76, 88, 89]\n",
      "bin_chpt : [ 1. -1.  1. -1.  1. -1.  1.  0. -1.]\n",
      "fc :  0.3846153846153846\n"
     ]
    }
   ],
   "source": [
    "dp_jump = 0.9\n",
    "fc = freq_from_sig_timecounting(sig0, t, ts, dp_jump)\n",
    "print('fc : ', fc)"
   ]
  },
  {
   "cell_type": "markdown",
   "id": "563fa09a",
   "metadata": {},
   "source": [
    "## Find the natural frequency of the sig0 toy example using frequency technique"
   ]
  },
  {
   "cell_type": "code",
   "execution_count": 187,
   "id": "7f21f126",
   "metadata": {},
   "outputs": [
    {
     "data": {
      "application/vnd.plotly.v1+json": {
       "config": {
        "displayModeBar": true,
        "editable": true,
        "plotlyServerURL": "https://plot.ly",
        "scrollZoom": true
       },
       "data": [
        {
         "type": "scatter",
         "x": [
          0,
          0.06283185307179587,
          0.12566370614359174,
          0.18849555921538758,
          0.25132741228718347,
          0.3141592653589793,
          0.37699111843077515,
          0.43982297150257105,
          0.5026548245743669,
          0.5654866776461628,
          0.6283185307179586,
          0.6911503837897545,
          0.7539822368615503,
          0.8168140899333463,
          0.8796459430051421,
          0.9424777960769378,
          1.0053096491487339,
          1.0681415022205298,
          1.1309733552923256,
          1.1938052083641213,
          1.2566370614359172,
          1.3194689145077132,
          1.382300767579509,
          1.4451326206513047,
          1.5079644737231006,
          1.5707963267948966,
          1.6336281798666925,
          1.6964600329384882,
          1.7592918860102842,
          1.8221237390820801,
          1.8849555921538756,
          1.9477874452256716,
          2.0106192982974678,
          2.0734511513692637,
          2.1362830044410597,
          2.199114857512855,
          2.261946710584651,
          2.324778563656447,
          2.3876104167282426,
          2.4504422698000385,
          2.5132741228718345,
          2.57610597594363,
          2.6389378290154264,
          2.701769682087222,
          2.764601535159018,
          2.827433388230814,
          2.8902652413026093,
          2.9530970943744057,
          3.015928947446201,
          3.078760800517997
         ],
         "xaxis": "x",
         "y": [
          -7.958800173440772,
          -4.942953049685434,
          -5.965480703932337,
          -22.91391731716383,
          16.129660893698254,
          -26.020599913279607,
          -10.237488107172954,
          -10.418042252410292,
          -44.06000412957374,
          -7.428216371215106,
          -16.478174818886306,
          -16.172676525775863,
          -14.758285333516294,
          -30.235488366359146,
          -13.137102266171365,
          -26.020599913279412,
          -17.362459004875944,
          -7.748365235417548,
          -4.927102783497614,
          -26.405965717157493,
          -16.47817481888639,
          -15.055553199977014,
          -27.0406322749557,
          -21.822462455719492,
          -16.404462734546964,
          -10.457574905606737,
          -4.745875122065663,
          -36.79957288168786,
          -14.305333582320696,
          -22.76942665647816,
          -16.47817481888643,
          -11.958915102831147,
          -11.848152799350778,
          -7.427126827251906,
          -19.478211021306983,
          -26.02059991327951,
          -19.139967985217854,
          -18.376804671869706,
          -11.029785656714768,
          -22.30543050357892,
          -16.47817481888643,
          -25.428037132923293,
          -24.931820644687566,
          -19.302341408368427,
          -13.732977819477695,
          -26.02059991327959,
          -28.70505370883597,
          -5.572343124901838,
          -29.560772613383577,
          -21.236550049118485
         ],
         "yaxis": "y"
        },
        {
         "type": "scatter",
         "x": [
          0.3141592653589793,
          0.3141592653589793
         ],
         "xaxis": "x",
         "y": [
          -26.020599913279607,
          -26.020599913279607
         ],
         "yaxis": "y"
        },
        {
         "type": "scatter",
         "x": [
          0,
          0.06283185307179587,
          0.12566370614359174,
          0.18849555921538758,
          0.25132741228718347,
          0.3141592653589793,
          0.37699111843077515,
          0.43982297150257105,
          0.5026548245743669,
          0.5654866776461628,
          0.6283185307179586,
          0.6911503837897545,
          0.7539822368615503,
          0.8168140899333463,
          0.8796459430051421,
          0.9424777960769378,
          1.0053096491487339,
          1.0681415022205298,
          1.1309733552923256,
          1.1938052083641213,
          1.2566370614359172,
          1.3194689145077132,
          1.382300767579509,
          1.4451326206513047,
          1.5079644737231006,
          1.5707963267948966,
          1.6336281798666925,
          1.6964600329384882,
          1.7592918860102842,
          1.8221237390820801,
          1.8849555921538756,
          1.9477874452256716,
          2.0106192982974678,
          2.0734511513692637,
          2.1362830044410597,
          2.199114857512855,
          2.261946710584651,
          2.324778563656447,
          2.3876104167282426,
          2.4504422698000385,
          2.5132741228718345,
          2.57610597594363,
          2.6389378290154264,
          2.701769682087222,
          2.764601535159018,
          2.827433388230814,
          2.8902652413026093,
          2.9530970943744057,
          3.015928947446201,
          3.078760800517997
         ],
         "xaxis": "x2",
         "y": [
          -3.141592653589793,
          -2.37584633755016,
          -2.613608929327608,
          -1.6115318632261466,
          1.5069867615643149,
          1.5920877404676177,
          1.8129121409935547,
          1.962654411574521,
          1.5785696757391932,
          2.5878119886066004,
          1.796968622095817,
          1.3483127641536758,
          2.254103113007088,
          1.7802358994613265,
          1.9792006894801286,
          1.7233946764573154,
          2.0240954787101373,
          0.6220545591598173,
          3.137651095979187,
          0.9801214662242511,
          2.3434134188128253,
          1.1807571098415122,
          -0.5034119227148015,
          1.7901923798650194,
          0.941888668924705,
          2.819842099193152,
          2.9803476422123696,
          1.3868083042763195,
          2.717244407209525,
          -2.0679571328576913,
          -3.084483678711074,
          2.5009226229605788,
          -3.094792962874883,
          -3.0738041069034754,
          -2.5802419631907614,
          -1.8368599794157203,
          2.24031786571336,
          0.6885811583064383,
          3.1101554715044037,
          -1.2846996903150096,
          -2.9039866282158813,
          -1.766029500149135,
          1.2036669286959547,
          -1.902959022888231,
          2.8343042024491667,
          1.8234990989901885,
          -1.8495703226944717,
          2.6399111687076275,
          1.0711466040282964,
          -2.028060009408464
         ],
         "yaxis": "y2"
        }
       ],
       "layout": {
        "template": {
         "data": {
          "bar": [
           {
            "error_x": {
             "color": "#2a3f5f"
            },
            "error_y": {
             "color": "#2a3f5f"
            },
            "marker": {
             "line": {
              "color": "#E5ECF6",
              "width": 0.5
             },
             "pattern": {
              "fillmode": "overlay",
              "size": 10,
              "solidity": 0.2
             }
            },
            "type": "bar"
           }
          ],
          "barpolar": [
           {
            "marker": {
             "line": {
              "color": "#E5ECF6",
              "width": 0.5
             },
             "pattern": {
              "fillmode": "overlay",
              "size": 10,
              "solidity": 0.2
             }
            },
            "type": "barpolar"
           }
          ],
          "carpet": [
           {
            "aaxis": {
             "endlinecolor": "#2a3f5f",
             "gridcolor": "white",
             "linecolor": "white",
             "minorgridcolor": "white",
             "startlinecolor": "#2a3f5f"
            },
            "baxis": {
             "endlinecolor": "#2a3f5f",
             "gridcolor": "white",
             "linecolor": "white",
             "minorgridcolor": "white",
             "startlinecolor": "#2a3f5f"
            },
            "type": "carpet"
           }
          ],
          "choropleth": [
           {
            "colorbar": {
             "outlinewidth": 0,
             "ticks": ""
            },
            "type": "choropleth"
           }
          ],
          "contour": [
           {
            "colorbar": {
             "outlinewidth": 0,
             "ticks": ""
            },
            "colorscale": [
             [
              0,
              "#0d0887"
             ],
             [
              0.1111111111111111,
              "#46039f"
             ],
             [
              0.2222222222222222,
              "#7201a8"
             ],
             [
              0.3333333333333333,
              "#9c179e"
             ],
             [
              0.4444444444444444,
              "#bd3786"
             ],
             [
              0.5555555555555556,
              "#d8576b"
             ],
             [
              0.6666666666666666,
              "#ed7953"
             ],
             [
              0.7777777777777778,
              "#fb9f3a"
             ],
             [
              0.8888888888888888,
              "#fdca26"
             ],
             [
              1,
              "#f0f921"
             ]
            ],
            "type": "contour"
           }
          ],
          "contourcarpet": [
           {
            "colorbar": {
             "outlinewidth": 0,
             "ticks": ""
            },
            "type": "contourcarpet"
           }
          ],
          "heatmap": [
           {
            "colorbar": {
             "outlinewidth": 0,
             "ticks": ""
            },
            "colorscale": [
             [
              0,
              "#0d0887"
             ],
             [
              0.1111111111111111,
              "#46039f"
             ],
             [
              0.2222222222222222,
              "#7201a8"
             ],
             [
              0.3333333333333333,
              "#9c179e"
             ],
             [
              0.4444444444444444,
              "#bd3786"
             ],
             [
              0.5555555555555556,
              "#d8576b"
             ],
             [
              0.6666666666666666,
              "#ed7953"
             ],
             [
              0.7777777777777778,
              "#fb9f3a"
             ],
             [
              0.8888888888888888,
              "#fdca26"
             ],
             [
              1,
              "#f0f921"
             ]
            ],
            "type": "heatmap"
           }
          ],
          "heatmapgl": [
           {
            "colorbar": {
             "outlinewidth": 0,
             "ticks": ""
            },
            "colorscale": [
             [
              0,
              "#0d0887"
             ],
             [
              0.1111111111111111,
              "#46039f"
             ],
             [
              0.2222222222222222,
              "#7201a8"
             ],
             [
              0.3333333333333333,
              "#9c179e"
             ],
             [
              0.4444444444444444,
              "#bd3786"
             ],
             [
              0.5555555555555556,
              "#d8576b"
             ],
             [
              0.6666666666666666,
              "#ed7953"
             ],
             [
              0.7777777777777778,
              "#fb9f3a"
             ],
             [
              0.8888888888888888,
              "#fdca26"
             ],
             [
              1,
              "#f0f921"
             ]
            ],
            "type": "heatmapgl"
           }
          ],
          "histogram": [
           {
            "marker": {
             "pattern": {
              "fillmode": "overlay",
              "size": 10,
              "solidity": 0.2
             }
            },
            "type": "histogram"
           }
          ],
          "histogram2d": [
           {
            "colorbar": {
             "outlinewidth": 0,
             "ticks": ""
            },
            "colorscale": [
             [
              0,
              "#0d0887"
             ],
             [
              0.1111111111111111,
              "#46039f"
             ],
             [
              0.2222222222222222,
              "#7201a8"
             ],
             [
              0.3333333333333333,
              "#9c179e"
             ],
             [
              0.4444444444444444,
              "#bd3786"
             ],
             [
              0.5555555555555556,
              "#d8576b"
             ],
             [
              0.6666666666666666,
              "#ed7953"
             ],
             [
              0.7777777777777778,
              "#fb9f3a"
             ],
             [
              0.8888888888888888,
              "#fdca26"
             ],
             [
              1,
              "#f0f921"
             ]
            ],
            "type": "histogram2d"
           }
          ],
          "histogram2dcontour": [
           {
            "colorbar": {
             "outlinewidth": 0,
             "ticks": ""
            },
            "colorscale": [
             [
              0,
              "#0d0887"
             ],
             [
              0.1111111111111111,
              "#46039f"
             ],
             [
              0.2222222222222222,
              "#7201a8"
             ],
             [
              0.3333333333333333,
              "#9c179e"
             ],
             [
              0.4444444444444444,
              "#bd3786"
             ],
             [
              0.5555555555555556,
              "#d8576b"
             ],
             [
              0.6666666666666666,
              "#ed7953"
             ],
             [
              0.7777777777777778,
              "#fb9f3a"
             ],
             [
              0.8888888888888888,
              "#fdca26"
             ],
             [
              1,
              "#f0f921"
             ]
            ],
            "type": "histogram2dcontour"
           }
          ],
          "mesh3d": [
           {
            "colorbar": {
             "outlinewidth": 0,
             "ticks": ""
            },
            "type": "mesh3d"
           }
          ],
          "parcoords": [
           {
            "line": {
             "colorbar": {
              "outlinewidth": 0,
              "ticks": ""
             }
            },
            "type": "parcoords"
           }
          ],
          "pie": [
           {
            "automargin": true,
            "type": "pie"
           }
          ],
          "scatter": [
           {
            "marker": {
             "colorbar": {
              "outlinewidth": 0,
              "ticks": ""
             }
            },
            "type": "scatter"
           }
          ],
          "scatter3d": [
           {
            "line": {
             "colorbar": {
              "outlinewidth": 0,
              "ticks": ""
             }
            },
            "marker": {
             "colorbar": {
              "outlinewidth": 0,
              "ticks": ""
             }
            },
            "type": "scatter3d"
           }
          ],
          "scattercarpet": [
           {
            "marker": {
             "colorbar": {
              "outlinewidth": 0,
              "ticks": ""
             }
            },
            "type": "scattercarpet"
           }
          ],
          "scattergeo": [
           {
            "marker": {
             "colorbar": {
              "outlinewidth": 0,
              "ticks": ""
             }
            },
            "type": "scattergeo"
           }
          ],
          "scattergl": [
           {
            "marker": {
             "colorbar": {
              "outlinewidth": 0,
              "ticks": ""
             }
            },
            "type": "scattergl"
           }
          ],
          "scattermapbox": [
           {
            "marker": {
             "colorbar": {
              "outlinewidth": 0,
              "ticks": ""
             }
            },
            "type": "scattermapbox"
           }
          ],
          "scatterpolar": [
           {
            "marker": {
             "colorbar": {
              "outlinewidth": 0,
              "ticks": ""
             }
            },
            "type": "scatterpolar"
           }
          ],
          "scatterpolargl": [
           {
            "marker": {
             "colorbar": {
              "outlinewidth": 0,
              "ticks": ""
             }
            },
            "type": "scatterpolargl"
           }
          ],
          "scatterternary": [
           {
            "marker": {
             "colorbar": {
              "outlinewidth": 0,
              "ticks": ""
             }
            },
            "type": "scatterternary"
           }
          ],
          "surface": [
           {
            "colorbar": {
             "outlinewidth": 0,
             "ticks": ""
            },
            "colorscale": [
             [
              0,
              "#0d0887"
             ],
             [
              0.1111111111111111,
              "#46039f"
             ],
             [
              0.2222222222222222,
              "#7201a8"
             ],
             [
              0.3333333333333333,
              "#9c179e"
             ],
             [
              0.4444444444444444,
              "#bd3786"
             ],
             [
              0.5555555555555556,
              "#d8576b"
             ],
             [
              0.6666666666666666,
              "#ed7953"
             ],
             [
              0.7777777777777778,
              "#fb9f3a"
             ],
             [
              0.8888888888888888,
              "#fdca26"
             ],
             [
              1,
              "#f0f921"
             ]
            ],
            "type": "surface"
           }
          ],
          "table": [
           {
            "cells": {
             "fill": {
              "color": "#EBF0F8"
             },
             "line": {
              "color": "white"
             }
            },
            "header": {
             "fill": {
              "color": "#C8D4E3"
             },
             "line": {
              "color": "white"
             }
            },
            "type": "table"
           }
          ]
         },
         "layout": {
          "annotationdefaults": {
           "arrowcolor": "#2a3f5f",
           "arrowhead": 0,
           "arrowwidth": 1
          },
          "autotypenumbers": "strict",
          "coloraxis": {
           "colorbar": {
            "outlinewidth": 0,
            "ticks": ""
           }
          },
          "colorscale": {
           "diverging": [
            [
             0,
             "#8e0152"
            ],
            [
             0.1,
             "#c51b7d"
            ],
            [
             0.2,
             "#de77ae"
            ],
            [
             0.3,
             "#f1b6da"
            ],
            [
             0.4,
             "#fde0ef"
            ],
            [
             0.5,
             "#f7f7f7"
            ],
            [
             0.6,
             "#e6f5d0"
            ],
            [
             0.7,
             "#b8e186"
            ],
            [
             0.8,
             "#7fbc41"
            ],
            [
             0.9,
             "#4d9221"
            ],
            [
             1,
             "#276419"
            ]
           ],
           "sequential": [
            [
             0,
             "#0d0887"
            ],
            [
             0.1111111111111111,
             "#46039f"
            ],
            [
             0.2222222222222222,
             "#7201a8"
            ],
            [
             0.3333333333333333,
             "#9c179e"
            ],
            [
             0.4444444444444444,
             "#bd3786"
            ],
            [
             0.5555555555555556,
             "#d8576b"
            ],
            [
             0.6666666666666666,
             "#ed7953"
            ],
            [
             0.7777777777777778,
             "#fb9f3a"
            ],
            [
             0.8888888888888888,
             "#fdca26"
            ],
            [
             1,
             "#f0f921"
            ]
           ],
           "sequentialminus": [
            [
             0,
             "#0d0887"
            ],
            [
             0.1111111111111111,
             "#46039f"
            ],
            [
             0.2222222222222222,
             "#7201a8"
            ],
            [
             0.3333333333333333,
             "#9c179e"
            ],
            [
             0.4444444444444444,
             "#bd3786"
            ],
            [
             0.5555555555555556,
             "#d8576b"
            ],
            [
             0.6666666666666666,
             "#ed7953"
            ],
            [
             0.7777777777777778,
             "#fb9f3a"
            ],
            [
             0.8888888888888888,
             "#fdca26"
            ],
            [
             1,
             "#f0f921"
            ]
           ]
          },
          "colorway": [
           "#636efa",
           "#EF553B",
           "#00cc96",
           "#ab63fa",
           "#FFA15A",
           "#19d3f3",
           "#FF6692",
           "#B6E880",
           "#FF97FF",
           "#FECB52"
          ],
          "font": {
           "color": "#2a3f5f"
          },
          "geo": {
           "bgcolor": "white",
           "lakecolor": "white",
           "landcolor": "#E5ECF6",
           "showlakes": true,
           "showland": true,
           "subunitcolor": "white"
          },
          "hoverlabel": {
           "align": "left"
          },
          "hovermode": "closest",
          "mapbox": {
           "style": "light"
          },
          "paper_bgcolor": "white",
          "plot_bgcolor": "#E5ECF6",
          "polar": {
           "angularaxis": {
            "gridcolor": "white",
            "linecolor": "white",
            "ticks": ""
           },
           "bgcolor": "#E5ECF6",
           "radialaxis": {
            "gridcolor": "white",
            "linecolor": "white",
            "ticks": ""
           }
          },
          "scene": {
           "xaxis": {
            "backgroundcolor": "#E5ECF6",
            "gridcolor": "white",
            "gridwidth": 2,
            "linecolor": "white",
            "showbackground": true,
            "ticks": "",
            "zerolinecolor": "white"
           },
           "yaxis": {
            "backgroundcolor": "#E5ECF6",
            "gridcolor": "white",
            "gridwidth": 2,
            "linecolor": "white",
            "showbackground": true,
            "ticks": "",
            "zerolinecolor": "white"
           },
           "zaxis": {
            "backgroundcolor": "#E5ECF6",
            "gridcolor": "white",
            "gridwidth": 2,
            "linecolor": "white",
            "showbackground": true,
            "ticks": "",
            "zerolinecolor": "white"
           }
          },
          "shapedefaults": {
           "line": {
            "color": "#2a3f5f"
           }
          },
          "ternary": {
           "aaxis": {
            "gridcolor": "white",
            "linecolor": "white",
            "ticks": ""
           },
           "baxis": {
            "gridcolor": "white",
            "linecolor": "white",
            "ticks": ""
           },
           "bgcolor": "#E5ECF6",
           "caxis": {
            "gridcolor": "white",
            "linecolor": "white",
            "ticks": ""
           }
          },
          "title": {
           "x": 0.05
          },
          "xaxis": {
           "automargin": true,
           "gridcolor": "white",
           "linecolor": "white",
           "ticks": "",
           "title": {
            "standoff": 15
           },
           "zerolinecolor": "white",
           "zerolinewidth": 2
          },
          "yaxis": {
           "automargin": true,
           "gridcolor": "white",
           "linecolor": "white",
           "ticks": "",
           "title": {
            "standoff": 15
           },
           "zerolinecolor": "white",
           "zerolinewidth": 2
          }
         }
        },
        "title": {
         "text": "toy problem : amplitude and phase"
        },
        "xaxis": {
         "anchor": "y",
         "domain": [
          0,
          1
         ],
         "title": {
          "text": "frequency"
         }
        },
        "xaxis2": {
         "anchor": "y2",
         "domain": [
          0,
          1
         ]
        },
        "yaxis": {
         "anchor": "x",
         "domain": [
          0.575,
          1
         ],
         "title": {
          "text": "mag (dB)"
         }
        },
        "yaxis2": {
         "anchor": "x2",
         "domain": [
          0,
          0.425
         ]
        }
       }
      },
      "text/html": [
       "<div>                            <div id=\"51f95a4d-1f02-4ee8-bafe-9347c5c67317\" class=\"plotly-graph-div\" style=\"height:525px; width:100%;\"></div>            <script type=\"text/javascript\">                require([\"plotly\"], function(Plotly) {                    window.PLOTLYENV=window.PLOTLYENV || {};                                    if (document.getElementById(\"51f95a4d-1f02-4ee8-bafe-9347c5c67317\")) {                    Plotly.newPlot(                        \"51f95a4d-1f02-4ee8-bafe-9347c5c67317\",                        [{\"type\":\"scatter\",\"x\":[0.0,0.06283185307179587,0.12566370614359174,0.18849555921538758,0.25132741228718347,0.3141592653589793,0.37699111843077515,0.43982297150257105,0.5026548245743669,0.5654866776461628,0.6283185307179586,0.6911503837897545,0.7539822368615503,0.8168140899333463,0.8796459430051421,0.9424777960769378,1.0053096491487339,1.0681415022205298,1.1309733552923256,1.1938052083641213,1.2566370614359172,1.3194689145077132,1.382300767579509,1.4451326206513047,1.5079644737231006,1.5707963267948966,1.6336281798666925,1.6964600329384882,1.7592918860102842,1.8221237390820801,1.8849555921538756,1.9477874452256716,2.0106192982974678,2.0734511513692637,2.1362830044410597,2.199114857512855,2.261946710584651,2.324778563656447,2.3876104167282426,2.4504422698000385,2.5132741228718345,2.57610597594363,2.6389378290154264,2.701769682087222,2.764601535159018,2.827433388230814,2.8902652413026093,2.9530970943744057,3.015928947446201,3.078760800517997],\"xaxis\":\"x\",\"y\":[-7.958800173440772,-4.942953049685434,-5.965480703932337,-22.91391731716383,16.129660893698254,-26.020599913279607,-10.237488107172954,-10.418042252410292,-44.06000412957374,-7.428216371215106,-16.478174818886306,-16.172676525775863,-14.758285333516294,-30.235488366359146,-13.137102266171365,-26.020599913279412,-17.362459004875944,-7.748365235417548,-4.927102783497614,-26.405965717157493,-16.47817481888639,-15.055553199977014,-27.0406322749557,-21.822462455719492,-16.404462734546964,-10.457574905606737,-4.745875122065663,-36.79957288168786,-14.305333582320696,-22.76942665647816,-16.47817481888643,-11.958915102831147,-11.848152799350778,-7.427126827251906,-19.478211021306983,-26.02059991327951,-19.139967985217854,-18.376804671869706,-11.029785656714768,-22.30543050357892,-16.47817481888643,-25.428037132923293,-24.931820644687566,-19.302341408368427,-13.732977819477695,-26.02059991327959,-28.70505370883597,-5.572343124901838,-29.560772613383577,-21.236550049118485],\"yaxis\":\"y\"},{\"type\":\"scatter\",\"x\":[0.3141592653589793,0.3141592653589793],\"xaxis\":\"x\",\"y\":[-26.020599913279607,-26.020599913279607],\"yaxis\":\"y\"},{\"type\":\"scatter\",\"x\":[0.0,0.06283185307179587,0.12566370614359174,0.18849555921538758,0.25132741228718347,0.3141592653589793,0.37699111843077515,0.43982297150257105,0.5026548245743669,0.5654866776461628,0.6283185307179586,0.6911503837897545,0.7539822368615503,0.8168140899333463,0.8796459430051421,0.9424777960769378,1.0053096491487339,1.0681415022205298,1.1309733552923256,1.1938052083641213,1.2566370614359172,1.3194689145077132,1.382300767579509,1.4451326206513047,1.5079644737231006,1.5707963267948966,1.6336281798666925,1.6964600329384882,1.7592918860102842,1.8221237390820801,1.8849555921538756,1.9477874452256716,2.0106192982974678,2.0734511513692637,2.1362830044410597,2.199114857512855,2.261946710584651,2.324778563656447,2.3876104167282426,2.4504422698000385,2.5132741228718345,2.57610597594363,2.6389378290154264,2.701769682087222,2.764601535159018,2.827433388230814,2.8902652413026093,2.9530970943744057,3.015928947446201,3.078760800517997],\"xaxis\":\"x2\",\"y\":[-3.141592653589793,-2.37584633755016,-2.613608929327608,-1.6115318632261466,1.5069867615643149,1.5920877404676177,1.8129121409935547,1.962654411574521,1.5785696757391932,2.5878119886066004,1.796968622095817,1.3483127641536758,2.254103113007088,1.7802358994613265,1.9792006894801286,1.7233946764573154,2.0240954787101373,0.6220545591598173,3.137651095979187,0.9801214662242511,2.3434134188128253,1.1807571098415122,-0.5034119227148015,1.7901923798650194,0.941888668924705,2.819842099193152,2.9803476422123696,1.3868083042763195,2.717244407209525,-2.0679571328576913,-3.084483678711074,2.5009226229605788,-3.094792962874883,-3.0738041069034754,-2.5802419631907614,-1.8368599794157203,2.24031786571336,0.6885811583064383,3.1101554715044037,-1.2846996903150096,-2.9039866282158813,-1.766029500149135,1.2036669286959547,-1.902959022888231,2.8343042024491667,1.8234990989901885,-1.8495703226944717,2.6399111687076275,1.0711466040282964,-2.028060009408464],\"yaxis\":\"y2\"}],                        {\"template\":{\"data\":{\"bar\":[{\"error_x\":{\"color\":\"#2a3f5f\"},\"error_y\":{\"color\":\"#2a3f5f\"},\"marker\":{\"line\":{\"color\":\"#E5ECF6\",\"width\":0.5},\"pattern\":{\"fillmode\":\"overlay\",\"size\":10,\"solidity\":0.2}},\"type\":\"bar\"}],\"barpolar\":[{\"marker\":{\"line\":{\"color\":\"#E5ECF6\",\"width\":0.5},\"pattern\":{\"fillmode\":\"overlay\",\"size\":10,\"solidity\":0.2}},\"type\":\"barpolar\"}],\"carpet\":[{\"aaxis\":{\"endlinecolor\":\"#2a3f5f\",\"gridcolor\":\"white\",\"linecolor\":\"white\",\"minorgridcolor\":\"white\",\"startlinecolor\":\"#2a3f5f\"},\"baxis\":{\"endlinecolor\":\"#2a3f5f\",\"gridcolor\":\"white\",\"linecolor\":\"white\",\"minorgridcolor\":\"white\",\"startlinecolor\":\"#2a3f5f\"},\"type\":\"carpet\"}],\"choropleth\":[{\"colorbar\":{\"outlinewidth\":0,\"ticks\":\"\"},\"type\":\"choropleth\"}],\"contour\":[{\"colorbar\":{\"outlinewidth\":0,\"ticks\":\"\"},\"colorscale\":[[0.0,\"#0d0887\"],[0.1111111111111111,\"#46039f\"],[0.2222222222222222,\"#7201a8\"],[0.3333333333333333,\"#9c179e\"],[0.4444444444444444,\"#bd3786\"],[0.5555555555555556,\"#d8576b\"],[0.6666666666666666,\"#ed7953\"],[0.7777777777777778,\"#fb9f3a\"],[0.8888888888888888,\"#fdca26\"],[1.0,\"#f0f921\"]],\"type\":\"contour\"}],\"contourcarpet\":[{\"colorbar\":{\"outlinewidth\":0,\"ticks\":\"\"},\"type\":\"contourcarpet\"}],\"heatmap\":[{\"colorbar\":{\"outlinewidth\":0,\"ticks\":\"\"},\"colorscale\":[[0.0,\"#0d0887\"],[0.1111111111111111,\"#46039f\"],[0.2222222222222222,\"#7201a8\"],[0.3333333333333333,\"#9c179e\"],[0.4444444444444444,\"#bd3786\"],[0.5555555555555556,\"#d8576b\"],[0.6666666666666666,\"#ed7953\"],[0.7777777777777778,\"#fb9f3a\"],[0.8888888888888888,\"#fdca26\"],[1.0,\"#f0f921\"]],\"type\":\"heatmap\"}],\"heatmapgl\":[{\"colorbar\":{\"outlinewidth\":0,\"ticks\":\"\"},\"colorscale\":[[0.0,\"#0d0887\"],[0.1111111111111111,\"#46039f\"],[0.2222222222222222,\"#7201a8\"],[0.3333333333333333,\"#9c179e\"],[0.4444444444444444,\"#bd3786\"],[0.5555555555555556,\"#d8576b\"],[0.6666666666666666,\"#ed7953\"],[0.7777777777777778,\"#fb9f3a\"],[0.8888888888888888,\"#fdca26\"],[1.0,\"#f0f921\"]],\"type\":\"heatmapgl\"}],\"histogram\":[{\"marker\":{\"pattern\":{\"fillmode\":\"overlay\",\"size\":10,\"solidity\":0.2}},\"type\":\"histogram\"}],\"histogram2d\":[{\"colorbar\":{\"outlinewidth\":0,\"ticks\":\"\"},\"colorscale\":[[0.0,\"#0d0887\"],[0.1111111111111111,\"#46039f\"],[0.2222222222222222,\"#7201a8\"],[0.3333333333333333,\"#9c179e\"],[0.4444444444444444,\"#bd3786\"],[0.5555555555555556,\"#d8576b\"],[0.6666666666666666,\"#ed7953\"],[0.7777777777777778,\"#fb9f3a\"],[0.8888888888888888,\"#fdca26\"],[1.0,\"#f0f921\"]],\"type\":\"histogram2d\"}],\"histogram2dcontour\":[{\"colorbar\":{\"outlinewidth\":0,\"ticks\":\"\"},\"colorscale\":[[0.0,\"#0d0887\"],[0.1111111111111111,\"#46039f\"],[0.2222222222222222,\"#7201a8\"],[0.3333333333333333,\"#9c179e\"],[0.4444444444444444,\"#bd3786\"],[0.5555555555555556,\"#d8576b\"],[0.6666666666666666,\"#ed7953\"],[0.7777777777777778,\"#fb9f3a\"],[0.8888888888888888,\"#fdca26\"],[1.0,\"#f0f921\"]],\"type\":\"histogram2dcontour\"}],\"mesh3d\":[{\"colorbar\":{\"outlinewidth\":0,\"ticks\":\"\"},\"type\":\"mesh3d\"}],\"parcoords\":[{\"line\":{\"colorbar\":{\"outlinewidth\":0,\"ticks\":\"\"}},\"type\":\"parcoords\"}],\"pie\":[{\"automargin\":true,\"type\":\"pie\"}],\"scatter\":[{\"marker\":{\"colorbar\":{\"outlinewidth\":0,\"ticks\":\"\"}},\"type\":\"scatter\"}],\"scatter3d\":[{\"line\":{\"colorbar\":{\"outlinewidth\":0,\"ticks\":\"\"}},\"marker\":{\"colorbar\":{\"outlinewidth\":0,\"ticks\":\"\"}},\"type\":\"scatter3d\"}],\"scattercarpet\":[{\"marker\":{\"colorbar\":{\"outlinewidth\":0,\"ticks\":\"\"}},\"type\":\"scattercarpet\"}],\"scattergeo\":[{\"marker\":{\"colorbar\":{\"outlinewidth\":0,\"ticks\":\"\"}},\"type\":\"scattergeo\"}],\"scattergl\":[{\"marker\":{\"colorbar\":{\"outlinewidth\":0,\"ticks\":\"\"}},\"type\":\"scattergl\"}],\"scattermapbox\":[{\"marker\":{\"colorbar\":{\"outlinewidth\":0,\"ticks\":\"\"}},\"type\":\"scattermapbox\"}],\"scatterpolar\":[{\"marker\":{\"colorbar\":{\"outlinewidth\":0,\"ticks\":\"\"}},\"type\":\"scatterpolar\"}],\"scatterpolargl\":[{\"marker\":{\"colorbar\":{\"outlinewidth\":0,\"ticks\":\"\"}},\"type\":\"scatterpolargl\"}],\"scatterternary\":[{\"marker\":{\"colorbar\":{\"outlinewidth\":0,\"ticks\":\"\"}},\"type\":\"scatterternary\"}],\"surface\":[{\"colorbar\":{\"outlinewidth\":0,\"ticks\":\"\"},\"colorscale\":[[0.0,\"#0d0887\"],[0.1111111111111111,\"#46039f\"],[0.2222222222222222,\"#7201a8\"],[0.3333333333333333,\"#9c179e\"],[0.4444444444444444,\"#bd3786\"],[0.5555555555555556,\"#d8576b\"],[0.6666666666666666,\"#ed7953\"],[0.7777777777777778,\"#fb9f3a\"],[0.8888888888888888,\"#fdca26\"],[1.0,\"#f0f921\"]],\"type\":\"surface\"}],\"table\":[{\"cells\":{\"fill\":{\"color\":\"#EBF0F8\"},\"line\":{\"color\":\"white\"}},\"header\":{\"fill\":{\"color\":\"#C8D4E3\"},\"line\":{\"color\":\"white\"}},\"type\":\"table\"}]},\"layout\":{\"annotationdefaults\":{\"arrowcolor\":\"#2a3f5f\",\"arrowhead\":0,\"arrowwidth\":1},\"autotypenumbers\":\"strict\",\"coloraxis\":{\"colorbar\":{\"outlinewidth\":0,\"ticks\":\"\"}},\"colorscale\":{\"diverging\":[[0,\"#8e0152\"],[0.1,\"#c51b7d\"],[0.2,\"#de77ae\"],[0.3,\"#f1b6da\"],[0.4,\"#fde0ef\"],[0.5,\"#f7f7f7\"],[0.6,\"#e6f5d0\"],[0.7,\"#b8e186\"],[0.8,\"#7fbc41\"],[0.9,\"#4d9221\"],[1,\"#276419\"]],\"sequential\":[[0.0,\"#0d0887\"],[0.1111111111111111,\"#46039f\"],[0.2222222222222222,\"#7201a8\"],[0.3333333333333333,\"#9c179e\"],[0.4444444444444444,\"#bd3786\"],[0.5555555555555556,\"#d8576b\"],[0.6666666666666666,\"#ed7953\"],[0.7777777777777778,\"#fb9f3a\"],[0.8888888888888888,\"#fdca26\"],[1.0,\"#f0f921\"]],\"sequentialminus\":[[0.0,\"#0d0887\"],[0.1111111111111111,\"#46039f\"],[0.2222222222222222,\"#7201a8\"],[0.3333333333333333,\"#9c179e\"],[0.4444444444444444,\"#bd3786\"],[0.5555555555555556,\"#d8576b\"],[0.6666666666666666,\"#ed7953\"],[0.7777777777777778,\"#fb9f3a\"],[0.8888888888888888,\"#fdca26\"],[1.0,\"#f0f921\"]]},\"colorway\":[\"#636efa\",\"#EF553B\",\"#00cc96\",\"#ab63fa\",\"#FFA15A\",\"#19d3f3\",\"#FF6692\",\"#B6E880\",\"#FF97FF\",\"#FECB52\"],\"font\":{\"color\":\"#2a3f5f\"},\"geo\":{\"bgcolor\":\"white\",\"lakecolor\":\"white\",\"landcolor\":\"#E5ECF6\",\"showlakes\":true,\"showland\":true,\"subunitcolor\":\"white\"},\"hoverlabel\":{\"align\":\"left\"},\"hovermode\":\"closest\",\"mapbox\":{\"style\":\"light\"},\"paper_bgcolor\":\"white\",\"plot_bgcolor\":\"#E5ECF6\",\"polar\":{\"angularaxis\":{\"gridcolor\":\"white\",\"linecolor\":\"white\",\"ticks\":\"\"},\"bgcolor\":\"#E5ECF6\",\"radialaxis\":{\"gridcolor\":\"white\",\"linecolor\":\"white\",\"ticks\":\"\"}},\"scene\":{\"xaxis\":{\"backgroundcolor\":\"#E5ECF6\",\"gridcolor\":\"white\",\"gridwidth\":2,\"linecolor\":\"white\",\"showbackground\":true,\"ticks\":\"\",\"zerolinecolor\":\"white\"},\"yaxis\":{\"backgroundcolor\":\"#E5ECF6\",\"gridcolor\":\"white\",\"gridwidth\":2,\"linecolor\":\"white\",\"showbackground\":true,\"ticks\":\"\",\"zerolinecolor\":\"white\"},\"zaxis\":{\"backgroundcolor\":\"#E5ECF6\",\"gridcolor\":\"white\",\"gridwidth\":2,\"linecolor\":\"white\",\"showbackground\":true,\"ticks\":\"\",\"zerolinecolor\":\"white\"}},\"shapedefaults\":{\"line\":{\"color\":\"#2a3f5f\"}},\"ternary\":{\"aaxis\":{\"gridcolor\":\"white\",\"linecolor\":\"white\",\"ticks\":\"\"},\"baxis\":{\"gridcolor\":\"white\",\"linecolor\":\"white\",\"ticks\":\"\"},\"bgcolor\":\"#E5ECF6\",\"caxis\":{\"gridcolor\":\"white\",\"linecolor\":\"white\",\"ticks\":\"\"}},\"title\":{\"x\":0.05},\"xaxis\":{\"automargin\":true,\"gridcolor\":\"white\",\"linecolor\":\"white\",\"ticks\":\"\",\"title\":{\"standoff\":15},\"zerolinecolor\":\"white\",\"zerolinewidth\":2},\"yaxis\":{\"automargin\":true,\"gridcolor\":\"white\",\"linecolor\":\"white\",\"ticks\":\"\",\"title\":{\"standoff\":15},\"zerolinecolor\":\"white\",\"zerolinewidth\":2}}},\"title\":{\"text\":\"toy problem : amplitude and phase\"},\"xaxis\":{\"anchor\":\"y\",\"domain\":[0.0,1.0],\"title\":{\"text\":\"frequency\"}},\"xaxis2\":{\"anchor\":\"y2\",\"domain\":[0.0,1.0]},\"yaxis\":{\"anchor\":\"x\",\"domain\":[0.575,1.0],\"title\":{\"text\":\"mag (dB)\"}},\"yaxis2\":{\"anchor\":\"x2\",\"domain\":[0.0,0.425]}},                        {\"scrollZoom\": true, \"displayModeBar\": true, \"editable\": true, \"responsive\": true}                    ).then(function(){\n",
       "                            \n",
       "var gd = document.getElementById('51f95a4d-1f02-4ee8-bafe-9347c5c67317');\n",
       "var x = new MutationObserver(function (mutations, observer) {{\n",
       "        var display = window.getComputedStyle(gd).display;\n",
       "        if (!display || display === 'none') {{\n",
       "            console.log([gd, 'removed!']);\n",
       "            Plotly.purge(gd);\n",
       "            observer.disconnect();\n",
       "        }}\n",
       "}});\n",
       "\n",
       "// Listen for the removal of the full notebook cells\n",
       "var notebookContainer = gd.closest('#notebook-container');\n",
       "if (notebookContainer) {{\n",
       "    x.observe(notebookContainer, {childList: true});\n",
       "}}\n",
       "\n",
       "// Listen for the clearing of the current output cell\n",
       "var outputEl = gd.closest('.output');\n",
       "if (outputEl) {{\n",
       "    x.observe(outputEl, {childList: true});\n",
       "}}\n",
       "\n",
       "                        })                };                });            </script>        </div>"
      ]
     },
     "metadata": {},
     "output_type": "display_data"
    },
    {
     "name": "stdout",
     "output_type": "stream",
     "text": [
      "fc :  0.3141592653589793\n"
     ]
    }
   ],
   "source": [
    "plotORnot = 1\n",
    "fc = freq_from_sig_freqresp(sig0, t, ts, plotORnot)\n",
    "print('fc : ', fc)"
   ]
  },
  {
   "cell_type": "markdown",
   "id": "fce99537",
   "metadata": {},
   "source": [
    "As mentioned earlier, the time technique is more accurate than the frequency technique for simple signals such as a sinusoidal wave.  The time technique gives a natural frequency of 0.385, close to the actual natual frequency of 0.4.  Whereas the frequency technique givens a natural frequency of 0.314.\n",
    "\n",
    "Other time domain techniques like arx or wavelet sinusoidal fitting are even more accurate!"
   ]
  },
  {
   "cell_type": "code",
   "execution_count": null,
   "id": "e76d4c40",
   "metadata": {},
   "outputs": [],
   "source": []
  }
 ],
 "metadata": {
  "kernelspec": {
   "display_name": "Python 3 (ipykernel)",
   "language": "python",
   "name": "python3"
  },
  "language_info": {
   "codemirror_mode": {
    "name": "ipython",
    "version": 3
   },
   "file_extension": ".py",
   "mimetype": "text/x-python",
   "name": "python",
   "nbconvert_exporter": "python",
   "pygments_lexer": "ipython3",
   "version": "3.9.6"
  }
 },
 "nbformat": 4,
 "nbformat_minor": 5
}
