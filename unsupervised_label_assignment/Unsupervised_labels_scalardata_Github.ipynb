{
 "cells": [
  {
   "cell_type": "markdown",
   "id": "5099a106",
   "metadata": {},
   "source": [
    "# Unsupervised methods : label creation for scalar measures\n",
    "\n",
    "Recently I have been exploring unsupervised labeling methods. There are many ways to construct a label for data based on different criteria : 1) feature space exploration using clustering like kmeans (which is ordering data based on the mode, because distances are chosen based on random organization. Thus, mode values of the data are the predominate clusters regardless of ordering.), 2) labeling based on outliers with respect to the data mean, 3) labeling based on the frequency of the ordered data. Similarly, for time-series or image data, measures like similarity or correlation with respect to a desired pattern (based on PCA, CCA, etc) could be used to assign labels in an unsupervised manner.\n",
    "\n",
    "In this \"practice\", I look at the first three unsupervised methods using the iris sklearn dataset.\n",
    "\n",
    "<img src=\"main_splash.png\" alt=\"Drawing\" style=\"width: 300px;\"/>"
   ]
  },
  {
   "cell_type": "code",
   "execution_count": 3,
   "id": "d9dead75",
   "metadata": {},
   "outputs": [],
   "source": [
    "import numpy as np\n",
    "\n",
    "import sys\n",
    "sys.path.insert(1, 'C:\\\\...')\n",
    "\n",
    "from subfunctions.scikit_functions_binaryclass import *\n",
    "from subfunctions.scikit_functions import *\n",
    "\n",
    "from sklearn import cluster\n",
    "\n",
    "import warnings\n",
    "warnings.filterwarnings('ignore')"
   ]
  },
  {
   "cell_type": "markdown",
   "id": "107804fa",
   "metadata": {},
   "source": [
    "# Toy example : Multi-class case (3 classes)"
   ]
  },
  {
   "cell_type": "code",
   "execution_count": 1,
   "id": "acc4bcb4",
   "metadata": {},
   "outputs": [],
   "source": [
    "# -------------\n",
    "# Toy example : Multi-class case \n",
    "# -------------\n",
    "\n",
    "from sklearn import datasets\n",
    "iris = datasets.load_iris()\n",
    "X = iris.data  # we only take the first two features.\n",
    "y = iris.target\n",
    "# OR\n",
    "X, y = datasets.load_iris(return_X_y=True)\n",
    "\n",
    "X = iris.data[:, :2]  # we only take the first two features to reduct"
   ]
  },
  {
   "cell_type": "markdown",
   "id": "9de29dd5",
   "metadata": {},
   "source": [
    "# Way 0 : clustering"
   ]
  },
  {
   "cell_type": "markdown",
   "id": "b9fa4089",
   "metadata": {},
   "source": [
    "## Clustering with kmeans"
   ]
  },
  {
   "cell_type": "code",
   "execution_count": 2,
   "id": "a224772f",
   "metadata": {},
   "outputs": [],
   "source": [
    "def unsupervised_lab_kmeans_clustering(*arg):\n",
    "    \n",
    "    n_clusters = arg[0]\n",
    "    X = arg[1]\n",
    "    \n",
    "    from sklearn import cluster\n",
    "    \n",
    "    kmeans = cluster.KMeans(n_clusters=n_clusters, init='k-means++',algorithm='elkan', random_state=2)\n",
    "    \n",
    "    # ------------------------------\n",
    "    \n",
    "    # print('shape of X : ', X.shape)\n",
    "    kmeans.fit(X)\n",
    "\n",
    "    # ------------------------------\n",
    "\n",
    "    # Get the prediction of each category : predicted label\n",
    "    label = kmeans.labels_\n",
    "    # print('clusters_out : ' + str(clusters_out))\n",
    "    # OR\n",
    "    label = kmeans.predict(X)\n",
    "    # print('clusters_out : ' + str(clusters_out))\n",
    "    # print('length of clusters_out', len(clusters_out))\n",
    "    \n",
    "    # ------------------------------\n",
    "    \n",
    "    # Centroid values for feature space : this is the center cluster value per feature in X\n",
    "    centroids = kmeans.cluster_centers_\n",
    "    # print('centroids org : ' + str(centroids))\n",
    "\n",
    "    # ------------------------------\n",
    "    \n",
    "    if len(arg) > 2:\n",
    "        y = arg[2]\n",
    "        \n",
    "        # Accuracy percentage : classification\n",
    "        cor = 0\n",
    "        n_samples = y.shape[0]\n",
    "        for i in range(0,n_samples):\n",
    "            if np.sum(label[i] - y[i]) == 0:\n",
    "                cor = cor + 1\n",
    "        print(\"Accuracy between predicted label and true label: \" + str((cor/n_samples)*100) + \"%\")\n",
    "\n",
    "    return kmeans, label, centroids"
   ]
  },
  {
   "cell_type": "code",
   "execution_count": 3,
   "id": "c36a6384",
   "metadata": {},
   "outputs": [
    {
     "ename": "NameError",
     "evalue": "name 'np' is not defined",
     "output_type": "error",
     "traceback": [
      "\u001b[1;31m---------------------------------------------------------------------------\u001b[0m",
      "\u001b[1;31mNameError\u001b[0m                                 Traceback (most recent call last)",
      "\u001b[1;32m~\\AppData\\Local\\Temp/ipykernel_6132/1451370923.py\u001b[0m in \u001b[0;36m<module>\u001b[1;34m\u001b[0m\n\u001b[1;32m----> 1\u001b[1;33m \u001b[0mn_classes\u001b[0m \u001b[1;33m=\u001b[0m \u001b[0mnp\u001b[0m\u001b[1;33m.\u001b[0m\u001b[0munique\u001b[0m\u001b[1;33m(\u001b[0m\u001b[0my\u001b[0m\u001b[1;33m)\u001b[0m\u001b[1;33m\u001b[0m\u001b[1;33m\u001b[0m\u001b[0m\n\u001b[0m\u001b[0;32m      2\u001b[0m \u001b[0mprint\u001b[0m\u001b[1;33m(\u001b[0m\u001b[1;34m'n_classes : '\u001b[0m\u001b[1;33m,\u001b[0m \u001b[0mn_classes\u001b[0m\u001b[1;33m)\u001b[0m\u001b[1;33m\u001b[0m\u001b[1;33m\u001b[0m\u001b[0m\n\u001b[0;32m      3\u001b[0m \u001b[1;33m\u001b[0m\u001b[0m\n\u001b[0;32m      4\u001b[0m \u001b[0mn_clusters\u001b[0m \u001b[1;33m=\u001b[0m \u001b[1;36m3\u001b[0m\u001b[1;33m\u001b[0m\u001b[1;33m\u001b[0m\u001b[0m\n\u001b[0;32m      5\u001b[0m \u001b[0mkmeans\u001b[0m\u001b[1;33m,\u001b[0m \u001b[0mlabel\u001b[0m\u001b[1;33m,\u001b[0m \u001b[0mcentroids\u001b[0m \u001b[1;33m=\u001b[0m \u001b[0munsupervised_lab_kmeans_clustering\u001b[0m\u001b[1;33m(\u001b[0m\u001b[0mn_clusters\u001b[0m\u001b[1;33m,\u001b[0m \u001b[0mX\u001b[0m\u001b[1;33m,\u001b[0m \u001b[0my\u001b[0m\u001b[1;33m)\u001b[0m\u001b[1;33m\u001b[0m\u001b[1;33m\u001b[0m\u001b[0m\n",
      "\u001b[1;31mNameError\u001b[0m: name 'np' is not defined"
     ]
    }
   ],
   "source": [
    "n_classes = np.unique(y)\n",
    "print('n_classes : ', n_classes)\n",
    "\n",
    "n_clusters = 3\n",
    "kmeans, label, centroids = unsupervised_lab_kmeans_clustering(n_clusters, X, y)"
   ]
  },
  {
   "cell_type": "markdown",
   "id": "a78932a5",
   "metadata": {},
   "source": [
    "## 2D visual of clusters"
   ]
  },
  {
   "cell_type": "code",
   "execution_count": 7,
   "id": "e69264e0",
   "metadata": {},
   "outputs": [
    {
     "data": {
      "text/plain": [
       "(1.5, 4.9)"
      ]
     },
     "execution_count": 7,
     "metadata": {},
     "output_type": "execute_result"
    },
    {
     "data": {
      "image/png": "[encoded data removed]",
      "text/plain": [
       "<Figure size 576x432 with 1 Axes>"
      ]
     },
     "metadata": {
      "needs_background": "light"
     },
     "output_type": "display_data"
    }
   ],
   "source": [
    "import matplotlib.pyplot as plt\n",
    "plt.figure(2, figsize=(8, 6))\n",
    "plt.clf()\n",
    "\n",
    "# Can only plot two features at a time : select which 2 to look at\n",
    "n_st_feat = 0\n",
    "n_end_feat = 1\n",
    "\n",
    "x_min, x_max = np.min(X[:,n_st_feat]) - 0.5, np.max(X[:,n_st_feat]) + 0.5\n",
    "y_min, y_max = np.min(X[:,n_end_feat]) - 0.5, np.max(X[:,n_end_feat]) + 0.5\n",
    "\n",
    "\n",
    "# Plot the first two feature\n",
    "plt.scatter(X[:,n_st_feat], X[:,n_end_feat], c=label, cmap=plt.cm.Set1, edgecolor=\"k\")\n",
    "plt.xlabel(\"feature 1\")\n",
    "plt.ylabel(\"feature 2\")\n",
    "\n",
    "# Plot the centroid for each class\n",
    "plt.scatter(centroids[:,n_st_feat], centroids[:,n_end_feat],marker=\"x\", s=169, linewidths=3, color=\"k\", zorder=10)\n",
    "    \n",
    "plt.title(\"K-means clustering\\n\" \"Centroids are marked with black cross\")\n",
    "\n",
    "plt.xlim(x_min, x_max)\n",
    "plt.ylim(y_min, y_max)\n",
    "# plt.xticks(())\n",
    "# plt.yticks(())\n",
    "# plt.show()"
   ]
  },
  {
   "cell_type": "markdown",
   "id": "93253014",
   "metadata": {},
   "source": [
    "# Way 1 : Label the data by significance to population mean : outliers as a detector"
   ]
  },
  {
   "cell_type": "code",
   "execution_count": 22,
   "id": "dbe4a33c",
   "metadata": {},
   "outputs": [],
   "source": [
    "def unsupervised_lab_mean_sig(*arg):\n",
    "    \n",
    "    X = arg[0]\n",
    "    \n",
    "    # Creates a binary label only\n",
    "    \n",
    "    # ------------------------------\n",
    "    num_of_feat = X.shape[1]\n",
    "\n",
    "    datm = np.mean(X)\n",
    "    dat_std = np.std(X)\n",
    "\n",
    "    p_thresh = datm + dat_std\n",
    "    n_thresh = datm - dat_std\n",
    "\n",
    "    # ------------------------------\n",
    "    \n",
    "    import plotly.graph_objects as go\n",
    "    fig = go.Figure()\n",
    "    config = dict({'scrollZoom': True, 'displayModeBar': True, 'editable': True})\n",
    "\n",
    "    # All initial slope estimates\n",
    "    xxORG = list(range(X.shape[0]))\n",
    "    for i in range(X.shape[1]):\n",
    "        fig.add_trace(go.Scatter(x=xxORG, y=X[:,i], name='X', mode='markers', marker=dict(size=10, symbol=5, line=dict(color='black', width=0)), showlegend=True))\n",
    "\n",
    "    mean_line = datm*np.ones((len(xxORG),1))\n",
    "    mean_line = np.ravel(mean_line)\n",
    "    fig.add_trace(go.Scatter(x=xxORG, y=mean_line, name='mean_line', line = dict(color='black', width=1, dash='dash'), showlegend=True))\n",
    "\n",
    "    pos_thresh = p_thresh*np.ones((len(xxORG),1))\n",
    "    pos_thresh = np.ravel(pos_thresh)\n",
    "    fig.add_trace(go.Scatter(x=xxORG, y=pos_thresh, name='pos_thresh', line = dict(color='blue', width=1, dash='dash'), showlegend=True))\n",
    "\n",
    "    neg_thresh = n_thresh*np.ones((len(xxORG),1))\n",
    "    neg_thresh = np.ravel(neg_thresh)\n",
    "    fig.add_trace(go.Scatter(x=xxORG, y=neg_thresh, name='neg_thresh', line = dict(color='blue', width=1, dash='dash'), showlegend=True))\n",
    "    \n",
    "    title_str = 'All data'\n",
    "    fig.update_layout(title=title_str, xaxis_title='data points', yaxis_title='data')\n",
    "    fig.show(config=config)\n",
    "\n",
    "    # ------------------------------\n",
    "\n",
    "    tot = []\n",
    "    for nn in range(num_of_feat):\n",
    "        vv = X[:,nn]\n",
    "        label = []\n",
    "        for i in vv:\n",
    "            if i > p_thresh or i < n_thresh:\n",
    "                label.append(1)  # outlier from mean\n",
    "            else:\n",
    "                label.append(0)  # mean\n",
    "\n",
    "        tot.append(label)\n",
    "\n",
    "    tot = np.transpose(tot)\n",
    "\n",
    "    # ------------------------------\n",
    "    \n",
    "    # If features come from different distributions (NOT statistically similar (distribution, variance))\n",
    "    # You can not stack the data/labels, must decide on which label to choose\n",
    "    tot = np.reshape(tot, (X.shape[0], X.shape[1]))\n",
    "    label_mean = np.floor(np.sum(tot, axis=1)/tot.shape[1])\n",
    "    \n",
    "    # ------------------------------\n",
    "    \n",
    "    # module for counting values in a list\n",
    "    from collections import Counter\n",
    "    c = Counter(label_mean)\n",
    "    \n",
    "    counted_num = []\n",
    "    count = []\n",
    "    for cn, cout in c.most_common(len(c)):\n",
    "        counted_num = counted_num + [cn]\n",
    "        count = count + [cout]\n",
    "    print('counted_num : ' + str(counted_num))\n",
    "    print('count : ' + str(count))\n",
    "    \n",
    "    # ------------------------------\n",
    "    \n",
    "    if len(arg) > 1:\n",
    "        y = arg[1]\n",
    "        \n",
    "        # Accuracy percentage : classification\n",
    "        cor = 0\n",
    "        n_samples = y.shape[0]\n",
    "        for i in range(0,n_samples):\n",
    "            if np.sum(label_mean[i] - y[i]) == 0:\n",
    "                cor = cor + 1\n",
    "        print(\"Accuracy between predicted label and true label: \" + str((cor/n_samples)*100) + \"%\")\n",
    "\n",
    "    \n",
    "    return label_mean"
   ]
  },
  {
   "cell_type": "code",
   "execution_count": 23,
   "id": "59125ef2",
   "metadata": {},
   "outputs": [
    {
     "data": {
      "application/vnd.plotly.v1+json": {
       "config": {
        "displayModeBar": true,
        "editable": true,
        "plotlyServerURL": "https://plot.ly",
        "scrollZoom": true
       },
       "data": [
        {
         "marker": {
          "line": {
           "color": "black",
           "width": 0
          },
          "size": 10,
          "symbol": 5
         },
         "mode": "markers",
         "name": "X",
         "showlegend": true,
         "type": "scatter",
         "x": [
          0,
          1,
          2,
          3,
          4,
          5,
          6,
          7,
          8,
          9,
          10,
          11,
          12,
          13,
          14,
          15,
          16,
          17,
          18,
          19,
          20,
          21,
          22,
          23,
          24,
          25,
          26,
          27,
          28,
          29,
          30,
          31,
          32,
          33,
          34,
          35,
          36,
          37,
          38,
          39,
          40,
          41,
          42,
          43,
          44,
          45,
          46,
          47,
          48,
          49,
          50,
          51,
          52,
          53,
          54,
          55,
          56,
          57,
          58,
          59,
          60,
          61,
          62,
          63,
          64,
          65,
          66,
          67,
          68,
          69,
          70,
          71,
          72,
          73,
          74,
          75,
          76,
          77,
          78,
          79,
          80,
          81,
          82,
          83,
          84,
          85,
          86,
          87,
          88,
          89,
          90,
          91,
          92,
          93,
          94,
          95,
          96,
          97,
          98,
          99,
          100,
          101,
          102,
          103,
          104,
          105,
          106,
          107,
          108,
          109,
          110,
          111,
          112,
          113,
          114,
          115,
          116,
          117,
          118,
          119,
          120,
          121,
          122,
          123,
          124,
          125,
          126,
          127,
          128,
          129,
          130,
          131,
          132,
          133,
          134,
          135,
          136,
          137,
          138,
          139,
          140,
          141,
          142,
          143,
          144,
          145,
          146,
          147,
          148,
          149
         ],
         "y": [
          5.1,
          4.9,
          4.7,
          4.6,
          5,
          5.4,
          4.6,
          5,
          4.4,
          4.9,
          5.4,
          4.8,
          4.8,
          4.3,
          5.8,
          5.7,
          5.4,
          5.1,
          5.7,
          5.1,
          5.4,
          5.1,
          4.6,
          5.1,
          4.8,
          5,
          5,
          5.2,
          5.2,
          4.7,
          4.8,
          5.4,
          5.2,
          5.5,
          4.9,
          5,
          5.5,
          4.9,
          4.4,
          5.1,
          5,
          4.5,
          4.4,
          5,
          5.1,
          4.8,
          5.1,
          4.6,
          5.3,
          5,
          7,
          6.4,
          6.9,
          5.5,
          6.5,
          5.7,
          6.3,
          4.9,
          6.6,
          5.2,
          5,
          5.9,
          6,
          6.1,
          5.6,
          6.7,
          5.6,
          5.8,
          6.2,
          5.6,
          5.9,
          6.1,
          6.3,
          6.1,
          6.4,
          6.6,
          6.8,
          6.7,
          6,
          5.7,
          5.5,
          5.5,
          5.8,
          6,
          5.4,
          6,
          6.7,
          6.3,
          5.6,
          5.5,
          5.5,
          6.1,
          5.8,
          5,
          5.6,
          5.7,
          5.7,
          6.2,
          5.1,
          5.7,
          6.3,
          5.8,
          7.1,
          6.3,
          6.5,
          7.6,
          4.9,
          7.3,
          6.7,
          7.2,
          6.5,
          6.4,
          6.8,
          5.7,
          5.8,
          6.4,
          6.5,
          7.7,
          7.7,
          6,
          6.9,
          5.6,
          7.7,
          6.3,
          6.7,
          7.2,
          6.2,
          6.1,
          6.4,
          7.2,
          7.4,
          7.9,
          6.4,
          6.3,
          6.1,
          7.7,
          6.3,
          6.4,
          6,
          6.9,
          6.7,
          6.9,
          5.8,
          6.8,
          6.7,
          6.7,
          6.3,
          6.5,
          6.2,
          5.9
         ]
        },
        {
         "marker": {
          "line": {
           "color": "black",
           "width": 0
          },
          "size": 10,
          "symbol": 5
         },
         "mode": "markers",
         "name": "X",
         "showlegend": true,
         "type": "scatter",
         "x": [
          0,
          1,
          2,
          3,
          4,
          5,
          6,
          7,
          8,
          9,
          10,
          11,
          12,
          13,
          14,
          15,
          16,
          17,
          18,
          19,
          20,
          21,
          22,
          23,
          24,
          25,
          26,
          27,
          28,
          29,
          30,
          31,
          32,
          33,
          34,
          35,
          36,
          37,
          38,
          39,
          40,
          41,
          42,
          43,
          44,
          45,
          46,
          47,
          48,
          49,
          50,
          51,
          52,
          53,
          54,
          55,
          56,
          57,
          58,
          59,
          60,
          61,
          62,
          63,
          64,
          65,
          66,
          67,
          68,
          69,
          70,
          71,
          72,
          73,
          74,
          75,
          76,
          77,
          78,
          79,
          80,
          81,
          82,
          83,
          84,
          85,
          86,
          87,
          88,
          89,
          90,
          91,
          92,
          93,
          94,
          95,
          96,
          97,
          98,
          99,
          100,
          101,
          102,
          103,
          104,
          105,
          106,
          107,
          108,
          109,
          110,
          111,
          112,
          113,
          114,
          115,
          116,
          117,
          118,
          119,
          120,
          121,
          122,
          123,
          124,
          125,
          126,
          127,
          128,
          129,
          130,
          131,
          132,
          133,
          134,
          135,
          136,
          137,
          138,
          139,
          140,
          141,
          142,
          143,
          144,
          145,
          146,
          147,
          148,
          149
         ],
         "y": [
          3.5,
          3,
          3.2,
          3.1,
          3.6,
          3.9,
          3.4,
          3.4,
          2.9,
          3.1,
          3.7,
          3.4,
          3,
          3,
          4,
          4.4,
          3.9,
          3.5,
          3.8,
          3.8,
          3.4,
          3.7,
          3.6,
          3.3,
          3.4,
          3,
          3.4,
          3.5,
          3.4,
          3.2,
          3.1,
          3.4,
          4.1,
          4.2,
          3.1,
          3.2,
          3.5,
          3.6,
          3,
          3.4,
          3.5,
          2.3,
          3.2,
          3.5,
          3.8,
          3,
          3.8,
          3.2,
          3.7,
          3.3,
          3.2,
          3.2,
          3.1,
          2.3,
          2.8,
          2.8,
          3.3,
          2.4,
          2.9,
          2.7,
          2,
          3,
          2.2,
          2.9,
          2.9,
          3.1,
          3,
          2.7,
          2.2,
          2.5,
          3.2,
          2.8,
          2.5,
          2.8,
          2.9,
          3,
          2.8,
          3,
          2.9,
          2.6,
          2.4,
          2.4,
          2.7,
          2.7,
          3,
          3.4,
          3.1,
          2.3,
          3,
          2.5,
          2.6,
          3,
          2.6,
          2.3,
          2.7,
          3,
          2.9,
          2.9,
          2.5,
          2.8,
          3.3,
          2.7,
          3,
          2.9,
          3,
          3,
          2.5,
          2.9,
          2.5,
          3.6,
          3.2,
          2.7,
          3,
          2.5,
          2.8,
          3.2,
          3,
          3.8,
          2.6,
          2.2,
          3.2,
          2.8,
          2.8,
          2.7,
          3.3,
          3.2,
          2.8,
          3,
          2.8,
          3,
          2.8,
          3.8,
          2.8,
          2.8,
          2.6,
          3,
          3.4,
          3.1,
          3,
          3.1,
          3.1,
          3.1,
          2.7,
          3.2,
          3.3,
          3,
          2.5,
          3,
          3.4,
          3
         ]
        },
        {
         "line": {
          "color": "black",
          "dash": "dash",
          "width": 1
         },
         "name": "mean_line",
         "showlegend": true,
         "type": "scatter",
         "x": [
          0,
          1,
          2,
          3,
          4,
          5,
          6,
          7,
          8,
          9,
          10,
          11,
          12,
          13,
          14,
          15,
          16,
          17,
          18,
          19,
          20,
          21,
          22,
          23,
          24,
          25,
          26,
          27,
          28,
          29,
          30,
          31,
          32,
          33,
          34,
          35,
          36,
          37,
          38,
          39,
          40,
          41,
          42,
          43,
          44,
          45,
          46,
          47,
          48,
          49,
          50,
          51,
          52,
          53,
          54,
          55,
          56,
          57,
          58,
          59,
          60,
          61,
          62,
          63,
          64,
          65,
          66,
          67,
          68,
          69,
          70,
          71,
          72,
          73,
          74,
          75,
          76,
          77,
          78,
          79,
          80,
          81,
          82,
          83,
          84,
          85,
          86,
          87,
          88,
          89,
          90,
          91,
          92,
          93,
          94,
          95,
          96,
          97,
          98,
          99,
          100,
          101,
          102,
          103,
          104,
          105,
          106,
          107,
          108,
          109,
          110,
          111,
          112,
          113,
          114,
          115,
          116,
          117,
          118,
          119,
          120,
          121,
          122,
          123,
          124,
          125,
          126,
          127,
          128,
          129,
          130,
          131,
          132,
          133,
          134,
          135,
          136,
          137,
          138,
          139,
          140,
          141,
          142,
          143,
          144,
          145,
          146,
          147,
          148,
          149
         ],
         "y": [
          4.450333333333334,
          4.450333333333334,
          4.450333333333334,
          4.450333333333334,
          4.450333333333334,
          4.450333333333334,
          4.450333333333334,
          4.450333333333334,
          4.450333333333334,
          4.450333333333334,
          4.450333333333334,
          4.450333333333334,
          4.450333333333334,
          4.450333333333334,
          4.450333333333334,
          4.450333333333334,
          4.450333333333334,
          4.450333333333334,
          4.450333333333334,
          4.450333333333334,
          4.450333333333334,
          4.450333333333334,
          4.450333333333334,
          4.450333333333334,
          4.450333333333334,
          4.450333333333334,
          4.450333333333334,
          4.450333333333334,
          4.450333333333334,
          4.450333333333334,
          4.450333333333334,
          4.450333333333334,
          4.450333333333334,
          4.450333333333334,
          4.450333333333334,
          4.450333333333334,
          4.450333333333334,
          4.450333333333334,
          4.450333333333334,
          4.450333333333334,
          4.450333333333334,
          4.450333333333334,
          4.450333333333334,
          4.450333333333334,
          4.450333333333334,
          4.450333333333334,
          4.450333333333334,
          4.450333333333334,
          4.450333333333334,
          4.450333333333334,
          4.450333333333334,
          4.450333333333334,
          4.450333333333334,
          4.450333333333334,
          4.450333333333334,
          4.450333333333334,
          4.450333333333334,
          4.450333333333334,
          4.450333333333334,
          4.450333333333334,
          4.450333333333334,
          4.450333333333334,
          4.450333333333334,
          4.450333333333334,
          4.450333333333334,
          4.450333333333334,
          4.450333333333334,
          4.450333333333334,
          4.450333333333334,
          4.450333333333334,
          4.450333333333334,
          4.450333333333334,
          4.450333333333334,
          4.450333333333334,
          4.450333333333334,
          4.450333333333334,
          4.450333333333334,
          4.450333333333334,
          4.450333333333334,
          4.450333333333334,
          4.450333333333334,
          4.450333333333334,
          4.450333333333334,
          4.450333333333334,
          4.450333333333334,
          4.450333333333334,
          4.450333333333334,
          4.450333333333334,
          4.450333333333334,
          4.450333333333334,
          4.450333333333334,
          4.450333333333334,
          4.450333333333334,
          4.450333333333334,
          4.450333333333334,
          4.450333333333334,
          4.450333333333334,
          4.450333333333334,
          4.450333333333334,
          4.450333333333334,
          4.450333333333334,
          4.450333333333334,
          4.450333333333334,
          4.450333333333334,
          4.450333333333334,
          4.450333333333334,
          4.450333333333334,
          4.450333333333334,
          4.450333333333334,
          4.450333333333334,
          4.450333333333334,
          4.450333333333334,
          4.450333333333334,
          4.450333333333334,
          4.450333333333334,
          4.450333333333334,
          4.450333333333334,
          4.450333333333334,
          4.450333333333334,
          4.450333333333334,
          4.450333333333334,
          4.450333333333334,
          4.450333333333334,
          4.450333333333334,
          4.450333333333334,
          4.450333333333334,
          4.450333333333334,
          4.450333333333334,
          4.450333333333334,
          4.450333333333334,
          4.450333333333334,
          4.450333333333334,
          4.450333333333334,
          4.450333333333334,
          4.450333333333334,
          4.450333333333334,
          4.450333333333334,
          4.450333333333334,
          4.450333333333334,
          4.450333333333334,
          4.450333333333334,
          4.450333333333334,
          4.450333333333334,
          4.450333333333334,
          4.450333333333334,
          4.450333333333334,
          4.450333333333334,
          4.450333333333334,
          4.450333333333334,
          4.450333333333334
         ]
        },
        {
         "line": {
          "color": "blue",
          "dash": "dash",
          "width": 1
         },
         "name": "pos_thresh",
         "showlegend": true,
         "type": "scatter",
         "x": [
          0,
          1,
          2,
          3,
          4,
          5,
          6,
          7,
          8,
          9,
          10,
          11,
          12,
          13,
          14,
          15,
          16,
          17,
          18,
          19,
          20,
          21,
          22,
          23,
          24,
          25,
          26,
          27,
          28,
          29,
          30,
          31,
          32,
          33,
          34,
          35,
          36,
          37,
          38,
          39,
          40,
          41,
          42,
          43,
          44,
          45,
          46,
          47,
          48,
          49,
          50,
          51,
          52,
          53,
          54,
          55,
          56,
          57,
          58,
          59,
          60,
          61,
          62,
          63,
          64,
          65,
          66,
          67,
          68,
          69,
          70,
          71,
          72,
          73,
          74,
          75,
          76,
          77,
          78,
          79,
          80,
          81,
          82,
          83,
          84,
          85,
          86,
          87,
          88,
          89,
          90,
          91,
          92,
          93,
          94,
          95,
          96,
          97,
          98,
          99,
          100,
          101,
          102,
          103,
          104,
          105,
          106,
          107,
          108,
          109,
          110,
          111,
          112,
          113,
          114,
          115,
          116,
          117,
          118,
          119,
          120,
          121,
          122,
          123,
          124,
          125,
          126,
          127,
          128,
          129,
          130,
          131,
          132,
          133,
          134,
          135,
          136,
          137,
          138,
          139,
          140,
          141,
          142,
          143,
          144,
          145,
          146,
          147,
          148,
          149
         ],
         "y": [
          5.991555755813476,
          5.991555755813476,
          5.991555755813476,
          5.991555755813476,
          5.991555755813476,
          5.991555755813476,
          5.991555755813476,
          5.991555755813476,
          5.991555755813476,
          5.991555755813476,
          5.991555755813476,
          5.991555755813476,
          5.991555755813476,
          5.991555755813476,
          5.991555755813476,
          5.991555755813476,
          5.991555755813476,
          5.991555755813476,
          5.991555755813476,
          5.991555755813476,
          5.991555755813476,
          5.991555755813476,
          5.991555755813476,
          5.991555755813476,
          5.991555755813476,
          5.991555755813476,
          5.991555755813476,
          5.991555755813476,
          5.991555755813476,
          5.991555755813476,
          5.991555755813476,
          5.991555755813476,
          5.991555755813476,
          5.991555755813476,
          5.991555755813476,
          5.991555755813476,
          5.991555755813476,
          5.991555755813476,
          5.991555755813476,
          5.991555755813476,
          5.991555755813476,
          5.991555755813476,
          5.991555755813476,
          5.991555755813476,
          5.991555755813476,
          5.991555755813476,
          5.991555755813476,
          5.991555755813476,
          5.991555755813476,
          5.991555755813476,
          5.991555755813476,
          5.991555755813476,
          5.991555755813476,
          5.991555755813476,
          5.991555755813476,
          5.991555755813476,
          5.991555755813476,
          5.991555755813476,
          5.991555755813476,
          5.991555755813476,
          5.991555755813476,
          5.991555755813476,
          5.991555755813476,
          5.991555755813476,
          5.991555755813476,
          5.991555755813476,
          5.991555755813476,
          5.991555755813476,
          5.991555755813476,
          5.991555755813476,
          5.991555755813476,
          5.991555755813476,
          5.991555755813476,
          5.991555755813476,
          5.991555755813476,
          5.991555755813476,
          5.991555755813476,
          5.991555755813476,
          5.991555755813476,
          5.991555755813476,
          5.991555755813476,
          5.991555755813476,
          5.991555755813476,
          5.991555755813476,
          5.991555755813476,
          5.991555755813476,
          5.991555755813476,
          5.991555755813476,
          5.991555755813476,
          5.991555755813476,
          5.991555755813476,
          5.991555755813476,
          5.991555755813476,
          5.991555755813476,
          5.991555755813476,
          5.991555755813476,
          5.991555755813476,
          5.991555755813476,
          5.991555755813476,
          5.991555755813476,
          5.991555755813476,
          5.991555755813476,
          5.991555755813476,
          5.991555755813476,
          5.991555755813476,
          5.991555755813476,
          5.991555755813476,
          5.991555755813476,
          5.991555755813476,
          5.991555755813476,
          5.991555755813476,
          5.991555755813476,
          5.991555755813476,
          5.991555755813476,
          5.991555755813476,
          5.991555755813476,
          5.991555755813476,
          5.991555755813476,
          5.991555755813476,
          5.991555755813476,
          5.991555755813476,
          5.991555755813476,
          5.991555755813476,
          5.991555755813476,
          5.991555755813476,
          5.991555755813476,
          5.991555755813476,
          5.991555755813476,
          5.991555755813476,
          5.991555755813476,
          5.991555755813476,
          5.991555755813476,
          5.991555755813476,
          5.991555755813476,
          5.991555755813476,
          5.991555755813476,
          5.991555755813476,
          5.991555755813476,
          5.991555755813476,
          5.991555755813476,
          5.991555755813476,
          5.991555755813476,
          5.991555755813476,
          5.991555755813476,
          5.991555755813476,
          5.991555755813476,
          5.991555755813476,
          5.991555755813476,
          5.991555755813476,
          5.991555755813476
         ]
        },
        {
         "line": {
          "color": "blue",
          "dash": "dash",
          "width": 1
         },
         "name": "neg_thresh",
         "showlegend": true,
         "type": "scatter",
         "x": [
          0,
          1,
          2,
          3,
          4,
          5,
          6,
          7,
          8,
          9,
          10,
          11,
          12,
          13,
          14,
          15,
          16,
          17,
          18,
          19,
          20,
          21,
          22,
          23,
          24,
          25,
          26,
          27,
          28,
          29,
          30,
          31,
          32,
          33,
          34,
          35,
          36,
          37,
          38,
          39,
          40,
          41,
          42,
          43,
          44,
          45,
          46,
          47,
          48,
          49,
          50,
          51,
          52,
          53,
          54,
          55,
          56,
          57,
          58,
          59,
          60,
          61,
          62,
          63,
          64,
          65,
          66,
          67,
          68,
          69,
          70,
          71,
          72,
          73,
          74,
          75,
          76,
          77,
          78,
          79,
          80,
          81,
          82,
          83,
          84,
          85,
          86,
          87,
          88,
          89,
          90,
          91,
          92,
          93,
          94,
          95,
          96,
          97,
          98,
          99,
          100,
          101,
          102,
          103,
          104,
          105,
          106,
          107,
          108,
          109,
          110,
          111,
          112,
          113,
          114,
          115,
          116,
          117,
          118,
          119,
          120,
          121,
          122,
          123,
          124,
          125,
          126,
          127,
          128,
          129,
          130,
          131,
          132,
          133,
          134,
          135,
          136,
          137,
          138,
          139,
          140,
          141,
          142,
          143,
          144,
          145,
          146,
          147,
          148,
          149
         ],
         "y": [
          2.9091109108531925,
          2.9091109108531925,
          2.9091109108531925,
          2.9091109108531925,
          2.9091109108531925,
          2.9091109108531925,
          2.9091109108531925,
          2.9091109108531925,
          2.9091109108531925,
          2.9091109108531925,
          2.9091109108531925,
          2.9091109108531925,
          2.9091109108531925,
          2.9091109108531925,
          2.9091109108531925,
          2.9091109108531925,
          2.9091109108531925,
          2.9091109108531925,
          2.9091109108531925,
          2.9091109108531925,
          2.9091109108531925,
          2.9091109108531925,
          2.9091109108531925,
          2.9091109108531925,
          2.9091109108531925,
          2.9091109108531925,
          2.9091109108531925,
          2.9091109108531925,
          2.9091109108531925,
          2.9091109108531925,
          2.9091109108531925,
          2.9091109108531925,
          2.9091109108531925,
          2.9091109108531925,
          2.9091109108531925,
          2.9091109108531925,
          2.9091109108531925,
          2.9091109108531925,
          2.9091109108531925,
          2.9091109108531925,
          2.9091109108531925,
          2.9091109108531925,
          2.9091109108531925,
          2.9091109108531925,
          2.9091109108531925,
          2.9091109108531925,
          2.9091109108531925,
          2.9091109108531925,
          2.9091109108531925,
          2.9091109108531925,
          2.9091109108531925,
          2.9091109108531925,
          2.9091109108531925,
          2.9091109108531925,
          2.9091109108531925,
          2.9091109108531925,
          2.9091109108531925,
          2.9091109108531925,
          2.9091109108531925,
          2.9091109108531925,
          2.9091109108531925,
          2.9091109108531925,
          2.9091109108531925,
          2.9091109108531925,
          2.9091109108531925,
          2.9091109108531925,
          2.9091109108531925,
          2.9091109108531925,
          2.9091109108531925,
          2.9091109108531925,
          2.9091109108531925,
          2.9091109108531925,
          2.9091109108531925,
          2.9091109108531925,
          2.9091109108531925,
          2.9091109108531925,
          2.9091109108531925,
          2.9091109108531925,
          2.9091109108531925,
          2.9091109108531925,
          2.9091109108531925,
          2.9091109108531925,
          2.9091109108531925,
          2.9091109108531925,
          2.9091109108531925,
          2.9091109108531925,
          2.9091109108531925,
          2.9091109108531925,
          2.9091109108531925,
          2.9091109108531925,
          2.9091109108531925,
          2.9091109108531925,
          2.9091109108531925,
          2.9091109108531925,
          2.9091109108531925,
          2.9091109108531925,
          2.9091109108531925,
          2.9091109108531925,
          2.9091109108531925,
          2.9091109108531925,
          2.9091109108531925,
          2.9091109108531925,
          2.9091109108531925,
          2.9091109108531925,
          2.9091109108531925,
          2.9091109108531925,
          2.9091109108531925,
          2.9091109108531925,
          2.9091109108531925,
          2.9091109108531925,
          2.9091109108531925,
          2.9091109108531925,
          2.9091109108531925,
          2.9091109108531925,
          2.9091109108531925,
          2.9091109108531925,
          2.9091109108531925,
          2.9091109108531925,
          2.9091109108531925,
          2.9091109108531925,
          2.9091109108531925,
          2.9091109108531925,
          2.9091109108531925,
          2.9091109108531925,
          2.9091109108531925,
          2.9091109108531925,
          2.9091109108531925,
          2.9091109108531925,
          2.9091109108531925,
          2.9091109108531925,
          2.9091109108531925,
          2.9091109108531925,
          2.9091109108531925,
          2.9091109108531925,
          2.9091109108531925,
          2.9091109108531925,
          2.9091109108531925,
          2.9091109108531925,
          2.9091109108531925,
          2.9091109108531925,
          2.9091109108531925,
          2.9091109108531925,
          2.9091109108531925,
          2.9091109108531925,
          2.9091109108531925,
          2.9091109108531925,
          2.9091109108531925,
          2.9091109108531925,
          2.9091109108531925,
          2.9091109108531925
         ]
        }
       ],
       "layout": {
        "template": {
         "data": {
          "bar": [
           {
            "error_x": {
             "color": "#2a3f5f"
            },
            "error_y": {
             "color": "#2a3f5f"
            },
            "marker": {
             "line": {
              "color": "#E5ECF6",
              "width": 0.5
             },
             "pattern": {
              "fillmode": "overlay",
              "size": 10,
              "solidity": 0.2
             }
            },
            "type": "bar"
           }
          ],
          "barpolar": [
           {
            "marker": {
             "line": {
              "color": "#E5ECF6",
              "width": 0.5
             },
             "pattern": {
              "fillmode": "overlay",
              "size": 10,
              "solidity": 0.2
             }
            },
            "type": "barpolar"
           }
          ],
          "carpet": [
           {
            "aaxis": {
             "endlinecolor": "#2a3f5f",
             "gridcolor": "white",
             "linecolor": "white",
             "minorgridcolor": "white",
             "startlinecolor": "#2a3f5f"
            },
            "baxis": {
             "endlinecolor": "#2a3f5f",
             "gridcolor": "white",
             "linecolor": "white",
             "minorgridcolor": "white",
             "startlinecolor": "#2a3f5f"
            },
            "type": "carpet"
           }
          ],
          "choropleth": [
           {
            "colorbar": {
             "outlinewidth": 0,
             "ticks": ""
            },
            "type": "choropleth"
           }
          ],
          "contour": [
           {
            "colorbar": {
             "outlinewidth": 0,
             "ticks": ""
            },
            "colorscale": [
             [
              0,
              "#0d0887"
             ],
             [
              0.1111111111111111,
              "#46039f"
             ],
             [
              0.2222222222222222,
              "#7201a8"
             ],
             [
              0.3333333333333333,
              "#9c179e"
             ],
             [
              0.4444444444444444,
              "#bd3786"
             ],
             [
              0.5555555555555556,
              "#d8576b"
             ],
             [
              0.6666666666666666,
              "#ed7953"
             ],
             [
              0.7777777777777778,
              "#fb9f3a"
             ],
             [
              0.8888888888888888,
              "#fdca26"
             ],
             [
              1,
              "#f0f921"
             ]
            ],
            "type": "contour"
           }
          ],
          "contourcarpet": [
           {
            "colorbar": {
             "outlinewidth": 0,
             "ticks": ""
            },
            "type": "contourcarpet"
           }
          ],
          "heatmap": [
           {
            "colorbar": {
             "outlinewidth": 0,
             "ticks": ""
            },
            "colorscale": [
             [
              0,
              "#0d0887"
             ],
             [
              0.1111111111111111,
              "#46039f"
             ],
             [
              0.2222222222222222,
              "#7201a8"
             ],
             [
              0.3333333333333333,
              "#9c179e"
             ],
             [
              0.4444444444444444,
              "#bd3786"
             ],
             [
              0.5555555555555556,
              "#d8576b"
             ],
             [
              0.6666666666666666,
              "#ed7953"
             ],
             [
              0.7777777777777778,
              "#fb9f3a"
             ],
             [
              0.8888888888888888,
              "#fdca26"
             ],
             [
              1,
              "#f0f921"
             ]
            ],
            "type": "heatmap"
           }
          ],
          "heatmapgl": [
           {
            "colorbar": {
             "outlinewidth": 0,
             "ticks": ""
            },
            "colorscale": [
             [
              0,
              "#0d0887"
             ],
             [
              0.1111111111111111,
              "#46039f"
             ],
             [
              0.2222222222222222,
              "#7201a8"
             ],
             [
              0.3333333333333333,
              "#9c179e"
             ],
             [
              0.4444444444444444,
              "#bd3786"
             ],
             [
              0.5555555555555556,
              "#d8576b"
             ],
             [
              0.6666666666666666,
              "#ed7953"
             ],
             [
              0.7777777777777778,
              "#fb9f3a"
             ],
             [
              0.8888888888888888,
              "#fdca26"
             ],
             [
              1,
              "#f0f921"
             ]
            ],
            "type": "heatmapgl"
           }
          ],
          "histogram": [
           {
            "marker": {
             "pattern": {
              "fillmode": "overlay",
              "size": 10,
              "solidity": 0.2
             }
            },
            "type": "histogram"
           }
          ],
          "histogram2d": [
           {
            "colorbar": {
             "outlinewidth": 0,
             "ticks": ""
            },
            "colorscale": [
             [
              0,
              "#0d0887"
             ],
             [
              0.1111111111111111,
              "#46039f"
             ],
             [
              0.2222222222222222,
              "#7201a8"
             ],
             [
              0.3333333333333333,
              "#9c179e"
             ],
             [
              0.4444444444444444,
              "#bd3786"
             ],
             [
              0.5555555555555556,
              "#d8576b"
             ],
             [
              0.6666666666666666,
              "#ed7953"
             ],
             [
              0.7777777777777778,
              "#fb9f3a"
             ],
             [
              0.8888888888888888,
              "#fdca26"
             ],
             [
              1,
              "#f0f921"
             ]
            ],
            "type": "histogram2d"
           }
          ],
          "histogram2dcontour": [
           {
            "colorbar": {
             "outlinewidth": 0,
             "ticks": ""
            },
            "colorscale": [
             [
              0,
              "#0d0887"
             ],
             [
              0.1111111111111111,
              "#46039f"
             ],
             [
              0.2222222222222222,
              "#7201a8"
             ],
             [
              0.3333333333333333,
              "#9c179e"
             ],
             [
              0.4444444444444444,
              "#bd3786"
             ],
             [
              0.5555555555555556,
              "#d8576b"
             ],
             [
              0.6666666666666666,
              "#ed7953"
             ],
             [
              0.7777777777777778,
              "#fb9f3a"
             ],
             [
              0.8888888888888888,
              "#fdca26"
             ],
             [
              1,
              "#f0f921"
             ]
            ],
            "type": "histogram2dcontour"
           }
          ],
          "mesh3d": [
           {
            "colorbar": {
             "outlinewidth": 0,
             "ticks": ""
            },
            "type": "mesh3d"
           }
          ],
          "parcoords": [
           {
            "line": {
             "colorbar": {
              "outlinewidth": 0,
              "ticks": ""
             }
            },
            "type": "parcoords"
           }
          ],
          "pie": [
           {
            "automargin": true,
            "type": "pie"
           }
          ],
          "scatter": [
           {
            "marker": {
             "colorbar": {
              "outlinewidth": 0,
              "ticks": ""
             }
            },
            "type": "scatter"
           }
          ],
          "scatter3d": [
           {
            "line": {
             "colorbar": {
              "outlinewidth": 0,
              "ticks": ""
             }
            },
            "marker": {
             "colorbar": {
              "outlinewidth": 0,
              "ticks": ""
             }
            },
            "type": "scatter3d"
           }
          ],
          "scattercarpet": [
           {
            "marker": {
             "colorbar": {
              "outlinewidth": 0,
              "ticks": ""
             }
            },
            "type": "scattercarpet"
           }
          ],
          "scattergeo": [
           {
            "marker": {
             "colorbar": {
              "outlinewidth": 0,
              "ticks": ""
             }
            },
            "type": "scattergeo"
           }
          ],
          "scattergl": [
           {
            "marker": {
             "colorbar": {
              "outlinewidth": 0,
              "ticks": ""
             }
            },
            "type": "scattergl"
           }
          ],
          "scattermapbox": [
           {
            "marker": {
             "colorbar": {
              "outlinewidth": 0,
              "ticks": ""
             }
            },
            "type": "scattermapbox"
           }
          ],
          "scatterpolar": [
           {
            "marker": {
             "colorbar": {
              "outlinewidth": 0,
              "ticks": ""
             }
            },
            "type": "scatterpolar"
           }
          ],
          "scatterpolargl": [
           {
            "marker": {
             "colorbar": {
              "outlinewidth": 0,
              "ticks": ""
             }
            },
            "type": "scatterpolargl"
           }
          ],
          "scatterternary": [
           {
            "marker": {
             "colorbar": {
              "outlinewidth": 0,
              "ticks": ""
             }
            },
            "type": "scatterternary"
           }
          ],
          "surface": [
           {
            "colorbar": {
             "outlinewidth": 0,
             "ticks": ""
            },
            "colorscale": [
             [
              0,
              "#0d0887"
             ],
             [
              0.1111111111111111,
              "#46039f"
             ],
             [
              0.2222222222222222,
              "#7201a8"
             ],
             [
              0.3333333333333333,
              "#9c179e"
             ],
             [
              0.4444444444444444,
              "#bd3786"
             ],
             [
              0.5555555555555556,
              "#d8576b"
             ],
             [
              0.6666666666666666,
              "#ed7953"
             ],
             [
              0.7777777777777778,
              "#fb9f3a"
             ],
             [
              0.8888888888888888,
              "#fdca26"
             ],
             [
              1,
              "#f0f921"
             ]
            ],
            "type": "surface"
           }
          ],
          "table": [
           {
            "cells": {
             "fill": {
              "color": "#EBF0F8"
             },
             "line": {
              "color": "white"
             }
            },
            "header": {
             "fill": {
              "color": "#C8D4E3"
             },
             "line": {
              "color": "white"
             }
            },
            "type": "table"
           }
          ]
         },
         "layout": {
          "annotationdefaults": {
           "arrowcolor": "#2a3f5f",
           "arrowhead": 0,
           "arrowwidth": 1
          },
          "autotypenumbers": "strict",
          "coloraxis": {
           "colorbar": {
            "outlinewidth": 0,
            "ticks": ""
           }
          },
          "colorscale": {
           "diverging": [
            [
             0,
             "#8e0152"
            ],
            [
             0.1,
             "#c51b7d"
            ],
            [
             0.2,
             "#de77ae"
            ],
            [
             0.3,
             "#f1b6da"
            ],
            [
             0.4,
             "#fde0ef"
            ],
            [
             0.5,
             "#f7f7f7"
            ],
            [
             0.6,
             "#e6f5d0"
            ],
            [
             0.7,
             "#b8e186"
            ],
            [
             0.8,
             "#7fbc41"
            ],
            [
             0.9,
             "#4d9221"
            ],
            [
             1,
             "#276419"
            ]
           ],
           "sequential": [
            [
             0,
             "#0d0887"
            ],
            [
             0.1111111111111111,
             "#46039f"
            ],
            [
             0.2222222222222222,
             "#7201a8"
            ],
            [
             0.3333333333333333,
             "#9c179e"
            ],
            [
             0.4444444444444444,
             "#bd3786"
            ],
            [
             0.5555555555555556,
             "#d8576b"
            ],
            [
             0.6666666666666666,
             "#ed7953"
            ],
            [
             0.7777777777777778,
             "#fb9f3a"
            ],
            [
             0.8888888888888888,
             "#fdca26"
            ],
            [
             1,
             "#f0f921"
            ]
           ],
           "sequentialminus": [
            [
             0,
             "#0d0887"
            ],
            [
             0.1111111111111111,
             "#46039f"
            ],
            [
             0.2222222222222222,
             "#7201a8"
            ],
            [
             0.3333333333333333,
             "#9c179e"
            ],
            [
             0.4444444444444444,
             "#bd3786"
            ],
            [
             0.5555555555555556,
             "#d8576b"
            ],
            [
             0.6666666666666666,
             "#ed7953"
            ],
            [
             0.7777777777777778,
             "#fb9f3a"
            ],
            [
             0.8888888888888888,
             "#fdca26"
            ],
            [
             1,
             "#f0f921"
            ]
           ]
          },
          "colorway": [
           "#636efa",
           "#EF553B",
           "#00cc96",
           "#ab63fa",
           "#FFA15A",
           "#19d3f3",
           "#FF6692",
           "#B6E880",
           "#FF97FF",
           "#FECB52"
          ],
          "font": {
           "color": "#2a3f5f"
          },
          "geo": {
           "bgcolor": "white",
           "lakecolor": "white",
           "landcolor": "#E5ECF6",
           "showlakes": true,
           "showland": true,
           "subunitcolor": "white"
          },
          "hoverlabel": {
           "align": "left"
          },
          "hovermode": "closest",
          "mapbox": {
           "style": "light"
          },
          "paper_bgcolor": "white",
          "plot_bgcolor": "#E5ECF6",
          "polar": {
           "angularaxis": {
            "gridcolor": "white",
            "linecolor": "white",
            "ticks": ""
           },
           "bgcolor": "#E5ECF6",
           "radialaxis": {
            "gridcolor": "white",
            "linecolor": "white",
            "ticks": ""
           }
          },
          "scene": {
           "xaxis": {
            "backgroundcolor": "#E5ECF6",
            "gridcolor": "white",
            "gridwidth": 2,
            "linecolor": "white",
            "showbackground": true,
            "ticks": "",
            "zerolinecolor": "white"
           },
           "yaxis": {
            "backgroundcolor": "#E5ECF6",
            "gridcolor": "white",
            "gridwidth": 2,
            "linecolor": "white",
            "showbackground": true,
            "ticks": "",
            "zerolinecolor": "white"
           },
           "zaxis": {
            "backgroundcolor": "#E5ECF6",
            "gridcolor": "white",
            "gridwidth": 2,
            "linecolor": "white",
            "showbackground": true,
            "ticks": "",
            "zerolinecolor": "white"
           }
          },
          "shapedefaults": {
           "line": {
            "color": "#2a3f5f"
           }
          },
          "ternary": {
           "aaxis": {
            "gridcolor": "white",
            "linecolor": "white",
            "ticks": ""
           },
           "baxis": {
            "gridcolor": "white",
            "linecolor": "white",
            "ticks": ""
           },
           "bgcolor": "#E5ECF6",
           "caxis": {
            "gridcolor": "white",
            "linecolor": "white",
            "ticks": ""
           }
          },
          "title": {
           "x": 0.05
          },
          "xaxis": {
           "automargin": true,
           "gridcolor": "white",
           "linecolor": "white",
           "ticks": "",
           "title": {
            "standoff": 15
           },
           "zerolinecolor": "white",
           "zerolinewidth": 2
          },
          "yaxis": {
           "automargin": true,
           "gridcolor": "white",
           "linecolor": "white",
           "ticks": "",
           "title": {
            "standoff": 15
           },
           "zerolinecolor": "white",
           "zerolinewidth": 2
          }
         }
        },
        "title": {
         "text": "All data"
        },
        "xaxis": {
         "title": {
          "text": "data points"
         }
        },
        "yaxis": {
         "title": {
          "text": "data"
         }
        }
       }
      },
      "text/html": [
       "<div>                            <div id=\"46389fd1-3342-494c-a61b-5eb7945639d4\" class=\"plotly-graph-div\" style=\"height:525px; width:100%;\"></div>            <script type=\"text/javascript\">                require([\"plotly\"], function(Plotly) {                    window.PLOTLYENV=window.PLOTLYENV || {};                                    if (document.getElementById(\"46389fd1-3342-494c-a61b-5eb7945639d4\")) {                    Plotly.newPlot(                        \"46389fd1-3342-494c-a61b-5eb7945639d4\",                        [{\"marker\":{\"line\":{\"color\":\"black\",\"width\":0},\"size\":10,\"symbol\":5},\"mode\":\"markers\",\"name\":\"X\",\"showlegend\":true,\"type\":\"scatter\",\"x\":[0,1,2,3,4,5,6,7,8,9,10,11,12,13,14,15,16,17,18,19,20,21,22,23,24,25,26,27,28,29,30,31,32,33,34,35,36,37,38,39,40,41,42,43,44,45,46,47,48,49,50,51,52,53,54,55,56,57,58,59,60,61,62,63,64,65,66,67,68,69,70,71,72,73,74,75,76,77,78,79,80,81,82,83,84,85,86,87,88,89,90,91,92,93,94,95,96,97,98,99,100,101,102,103,104,105,106,107,108,109,110,111,112,113,114,115,116,117,118,119,120,121,122,123,124,125,126,127,128,129,130,131,132,133,134,135,136,137,138,139,140,141,142,143,144,145,146,147,148,149],\"y\":[5.1,4.9,4.7,4.6,5.0,5.4,4.6,5.0,4.4,4.9,5.4,4.8,4.8,4.3,5.8,5.7,5.4,5.1,5.7,5.1,5.4,5.1,4.6,5.1,4.8,5.0,5.0,5.2,5.2,4.7,4.8,5.4,5.2,5.5,4.9,5.0,5.5,4.9,4.4,5.1,5.0,4.5,4.4,5.0,5.1,4.8,5.1,4.6,5.3,5.0,7.0,6.4,6.9,5.5,6.5,5.7,6.3,4.9,6.6,5.2,5.0,5.9,6.0,6.1,5.6,6.7,5.6,5.8,6.2,5.6,5.9,6.1,6.3,6.1,6.4,6.6,6.8,6.7,6.0,5.7,5.5,5.5,5.8,6.0,5.4,6.0,6.7,6.3,5.6,5.5,5.5,6.1,5.8,5.0,5.6,5.7,5.7,6.2,5.1,5.7,6.3,5.8,7.1,6.3,6.5,7.6,4.9,7.3,6.7,7.2,6.5,6.4,6.8,5.7,5.8,6.4,6.5,7.7,7.7,6.0,6.9,5.6,7.7,6.3,6.7,7.2,6.2,6.1,6.4,7.2,7.4,7.9,6.4,6.3,6.1,7.7,6.3,6.4,6.0,6.9,6.7,6.9,5.8,6.8,6.7,6.7,6.3,6.5,6.2,5.9]},{\"marker\":{\"line\":{\"color\":\"black\",\"width\":0},\"size\":10,\"symbol\":5},\"mode\":\"markers\",\"name\":\"X\",\"showlegend\":true,\"type\":\"scatter\",\"x\":[0,1,2,3,4,5,6,7,8,9,10,11,12,13,14,15,16,17,18,19,20,21,22,23,24,25,26,27,28,29,30,31,32,33,34,35,36,37,38,39,40,41,42,43,44,45,46,47,48,49,50,51,52,53,54,55,56,57,58,59,60,61,62,63,64,65,66,67,68,69,70,71,72,73,74,75,76,77,78,79,80,81,82,83,84,85,86,87,88,89,90,91,92,93,94,95,96,97,98,99,100,101,102,103,104,105,106,107,108,109,110,111,112,113,114,115,116,117,118,119,120,121,122,123,124,125,126,127,128,129,130,131,132,133,134,135,136,137,138,139,140,141,142,143,144,145,146,147,148,149],\"y\":[3.5,3.0,3.2,3.1,3.6,3.9,3.4,3.4,2.9,3.1,3.7,3.4,3.0,3.0,4.0,4.4,3.9,3.5,3.8,3.8,3.4,3.7,3.6,3.3,3.4,3.0,3.4,3.5,3.4,3.2,3.1,3.4,4.1,4.2,3.1,3.2,3.5,3.6,3.0,3.4,3.5,2.3,3.2,3.5,3.8,3.0,3.8,3.2,3.7,3.3,3.2,3.2,3.1,2.3,2.8,2.8,3.3,2.4,2.9,2.7,2.0,3.0,2.2,2.9,2.9,3.1,3.0,2.7,2.2,2.5,3.2,2.8,2.5,2.8,2.9,3.0,2.8,3.0,2.9,2.6,2.4,2.4,2.7,2.7,3.0,3.4,3.1,2.3,3.0,2.5,2.6,3.0,2.6,2.3,2.7,3.0,2.9,2.9,2.5,2.8,3.3,2.7,3.0,2.9,3.0,3.0,2.5,2.9,2.5,3.6,3.2,2.7,3.0,2.5,2.8,3.2,3.0,3.8,2.6,2.2,3.2,2.8,2.8,2.7,3.3,3.2,2.8,3.0,2.8,3.0,2.8,3.8,2.8,2.8,2.6,3.0,3.4,3.1,3.0,3.1,3.1,3.1,2.7,3.2,3.3,3.0,2.5,3.0,3.4,3.0]},{\"line\":{\"color\":\"black\",\"dash\":\"dash\",\"width\":1},\"name\":\"mean_line\",\"showlegend\":true,\"type\":\"scatter\",\"x\":[0,1,2,3,4,5,6,7,8,9,10,11,12,13,14,15,16,17,18,19,20,21,22,23,24,25,26,27,28,29,30,31,32,33,34,35,36,37,38,39,40,41,42,43,44,45,46,47,48,49,50,51,52,53,54,55,56,57,58,59,60,61,62,63,64,65,66,67,68,69,70,71,72,73,74,75,76,77,78,79,80,81,82,83,84,85,86,87,88,89,90,91,92,93,94,95,96,97,98,99,100,101,102,103,104,105,106,107,108,109,110,111,112,113,114,115,116,117,118,119,120,121,122,123,124,125,126,127,128,129,130,131,132,133,134,135,136,137,138,139,140,141,142,143,144,145,146,147,148,149],\"y\":[4.450333333333334,4.450333333333334,4.450333333333334,4.450333333333334,4.450333333333334,4.450333333333334,4.450333333333334,4.450333333333334,4.450333333333334,4.450333333333334,4.450333333333334,4.450333333333334,4.450333333333334,4.450333333333334,4.450333333333334,4.450333333333334,4.450333333333334,4.450333333333334,4.450333333333334,4.450333333333334,4.450333333333334,4.450333333333334,4.450333333333334,4.450333333333334,4.450333333333334,4.450333333333334,4.450333333333334,4.450333333333334,4.450333333333334,4.450333333333334,4.450333333333334,4.450333333333334,4.450333333333334,4.450333333333334,4.450333333333334,4.450333333333334,4.450333333333334,4.450333333333334,4.450333333333334,4.450333333333334,4.450333333333334,4.450333333333334,4.450333333333334,4.450333333333334,4.450333333333334,4.450333333333334,4.450333333333334,4.450333333333334,4.450333333333334,4.450333333333334,4.450333333333334,4.450333333333334,4.450333333333334,4.450333333333334,4.450333333333334,4.450333333333334,4.450333333333334,4.450333333333334,4.450333333333334,4.450333333333334,4.450333333333334,4.450333333333334,4.450333333333334,4.450333333333334,4.450333333333334,4.450333333333334,4.450333333333334,4.450333333333334,4.450333333333334,4.450333333333334,4.450333333333334,4.450333333333334,4.450333333333334,4.450333333333334,4.450333333333334,4.450333333333334,4.450333333333334,4.450333333333334,4.450333333333334,4.450333333333334,4.450333333333334,4.450333333333334,4.450333333333334,4.450333333333334,4.450333333333334,4.450333333333334,4.450333333333334,4.450333333333334,4.450333333333334,4.450333333333334,4.450333333333334,4.450333333333334,4.450333333333334,4.450333333333334,4.450333333333334,4.450333333333334,4.450333333333334,4.450333333333334,4.450333333333334,4.450333333333334,4.450333333333334,4.450333333333334,4.450333333333334,4.450333333333334,4.450333333333334,4.450333333333334,4.450333333333334,4.450333333333334,4.450333333333334,4.450333333333334,4.450333333333334,4.450333333333334,4.450333333333334,4.450333333333334,4.450333333333334,4.450333333333334,4.450333333333334,4.450333333333334,4.450333333333334,4.450333333333334,4.450333333333334,4.450333333333334,4.450333333333334,4.450333333333334,4.450333333333334,4.450333333333334,4.450333333333334,4.450333333333334,4.450333333333334,4.450333333333334,4.450333333333334,4.450333333333334,4.450333333333334,4.450333333333334,4.450333333333334,4.450333333333334,4.450333333333334,4.450333333333334,4.450333333333334,4.450333333333334,4.450333333333334,4.450333333333334,4.450333333333334,4.450333333333334,4.450333333333334,4.450333333333334,4.450333333333334,4.450333333333334,4.450333333333334,4.450333333333334]},{\"line\":{\"color\":\"blue\",\"dash\":\"dash\",\"width\":1},\"name\":\"pos_thresh\",\"showlegend\":true,\"type\":\"scatter\",\"x\":[0,1,2,3,4,5,6,7,8,9,10,11,12,13,14,15,16,17,18,19,20,21,22,23,24,25,26,27,28,29,30,31,32,33,34,35,36,37,38,39,40,41,42,43,44,45,46,47,48,49,50,51,52,53,54,55,56,57,58,59,60,61,62,63,64,65,66,67,68,69,70,71,72,73,74,75,76,77,78,79,80,81,82,83,84,85,86,87,88,89,90,91,92,93,94,95,96,97,98,99,100,101,102,103,104,105,106,107,108,109,110,111,112,113,114,115,116,117,118,119,120,121,122,123,124,125,126,127,128,129,130,131,132,133,134,135,136,137,138,139,140,141,142,143,144,145,146,147,148,149],\"y\":[5.991555755813476,5.991555755813476,5.991555755813476,5.991555755813476,5.991555755813476,5.991555755813476,5.991555755813476,5.991555755813476,5.991555755813476,5.991555755813476,5.991555755813476,5.991555755813476,5.991555755813476,5.991555755813476,5.991555755813476,5.991555755813476,5.991555755813476,5.991555755813476,5.991555755813476,5.991555755813476,5.991555755813476,5.991555755813476,5.991555755813476,5.991555755813476,5.991555755813476,5.991555755813476,5.991555755813476,5.991555755813476,5.991555755813476,5.991555755813476,5.991555755813476,5.991555755813476,5.991555755813476,5.991555755813476,5.991555755813476,5.991555755813476,5.991555755813476,5.991555755813476,5.991555755813476,5.991555755813476,5.991555755813476,5.991555755813476,5.991555755813476,5.991555755813476,5.991555755813476,5.991555755813476,5.991555755813476,5.991555755813476,5.991555755813476,5.991555755813476,5.991555755813476,5.991555755813476,5.991555755813476,5.991555755813476,5.991555755813476,5.991555755813476,5.991555755813476,5.991555755813476,5.991555755813476,5.991555755813476,5.991555755813476,5.991555755813476,5.991555755813476,5.991555755813476,5.991555755813476,5.991555755813476,5.991555755813476,5.991555755813476,5.991555755813476,5.991555755813476,5.991555755813476,5.991555755813476,5.991555755813476,5.991555755813476,5.991555755813476,5.991555755813476,5.991555755813476,5.991555755813476,5.991555755813476,5.991555755813476,5.991555755813476,5.991555755813476,5.991555755813476,5.991555755813476,5.991555755813476,5.991555755813476,5.991555755813476,5.991555755813476,5.991555755813476,5.991555755813476,5.991555755813476,5.991555755813476,5.991555755813476,5.991555755813476,5.991555755813476,5.991555755813476,5.991555755813476,5.991555755813476,5.991555755813476,5.991555755813476,5.991555755813476,5.991555755813476,5.991555755813476,5.991555755813476,5.991555755813476,5.991555755813476,5.991555755813476,5.991555755813476,5.991555755813476,5.991555755813476,5.991555755813476,5.991555755813476,5.991555755813476,5.991555755813476,5.991555755813476,5.991555755813476,5.991555755813476,5.991555755813476,5.991555755813476,5.991555755813476,5.991555755813476,5.991555755813476,5.991555755813476,5.991555755813476,5.991555755813476,5.991555755813476,5.991555755813476,5.991555755813476,5.991555755813476,5.991555755813476,5.991555755813476,5.991555755813476,5.991555755813476,5.991555755813476,5.991555755813476,5.991555755813476,5.991555755813476,5.991555755813476,5.991555755813476,5.991555755813476,5.991555755813476,5.991555755813476,5.991555755813476,5.991555755813476,5.991555755813476,5.991555755813476,5.991555755813476,5.991555755813476,5.991555755813476,5.991555755813476]},{\"line\":{\"color\":\"blue\",\"dash\":\"dash\",\"width\":1},\"name\":\"neg_thresh\",\"showlegend\":true,\"type\":\"scatter\",\"x\":[0,1,2,3,4,5,6,7,8,9,10,11,12,13,14,15,16,17,18,19,20,21,22,23,24,25,26,27,28,29,30,31,32,33,34,35,36,37,38,39,40,41,42,43,44,45,46,47,48,49,50,51,52,53,54,55,56,57,58,59,60,61,62,63,64,65,66,67,68,69,70,71,72,73,74,75,76,77,78,79,80,81,82,83,84,85,86,87,88,89,90,91,92,93,94,95,96,97,98,99,100,101,102,103,104,105,106,107,108,109,110,111,112,113,114,115,116,117,118,119,120,121,122,123,124,125,126,127,128,129,130,131,132,133,134,135,136,137,138,139,140,141,142,143,144,145,146,147,148,149],\"y\":[2.9091109108531925,2.9091109108531925,2.9091109108531925,2.9091109108531925,2.9091109108531925,2.9091109108531925,2.9091109108531925,2.9091109108531925,2.9091109108531925,2.9091109108531925,2.9091109108531925,2.9091109108531925,2.9091109108531925,2.9091109108531925,2.9091109108531925,2.9091109108531925,2.9091109108531925,2.9091109108531925,2.9091109108531925,2.9091109108531925,2.9091109108531925,2.9091109108531925,2.9091109108531925,2.9091109108531925,2.9091109108531925,2.9091109108531925,2.9091109108531925,2.9091109108531925,2.9091109108531925,2.9091109108531925,2.9091109108531925,2.9091109108531925,2.9091109108531925,2.9091109108531925,2.9091109108531925,2.9091109108531925,2.9091109108531925,2.9091109108531925,2.9091109108531925,2.9091109108531925,2.9091109108531925,2.9091109108531925,2.9091109108531925,2.9091109108531925,2.9091109108531925,2.9091109108531925,2.9091109108531925,2.9091109108531925,2.9091109108531925,2.9091109108531925,2.9091109108531925,2.9091109108531925,2.9091109108531925,2.9091109108531925,2.9091109108531925,2.9091109108531925,2.9091109108531925,2.9091109108531925,2.9091109108531925,2.9091109108531925,2.9091109108531925,2.9091109108531925,2.9091109108531925,2.9091109108531925,2.9091109108531925,2.9091109108531925,2.9091109108531925,2.9091109108531925,2.9091109108531925,2.9091109108531925,2.9091109108531925,2.9091109108531925,2.9091109108531925,2.9091109108531925,2.9091109108531925,2.9091109108531925,2.9091109108531925,2.9091109108531925,2.9091109108531925,2.9091109108531925,2.9091109108531925,2.9091109108531925,2.9091109108531925,2.9091109108531925,2.9091109108531925,2.9091109108531925,2.9091109108531925,2.9091109108531925,2.9091109108531925,2.9091109108531925,2.9091109108531925,2.9091109108531925,2.9091109108531925,2.9091109108531925,2.9091109108531925,2.9091109108531925,2.9091109108531925,2.9091109108531925,2.9091109108531925,2.9091109108531925,2.9091109108531925,2.9091109108531925,2.9091109108531925,2.9091109108531925,2.9091109108531925,2.9091109108531925,2.9091109108531925,2.9091109108531925,2.9091109108531925,2.9091109108531925,2.9091109108531925,2.9091109108531925,2.9091109108531925,2.9091109108531925,2.9091109108531925,2.9091109108531925,2.9091109108531925,2.9091109108531925,2.9091109108531925,2.9091109108531925,2.9091109108531925,2.9091109108531925,2.9091109108531925,2.9091109108531925,2.9091109108531925,2.9091109108531925,2.9091109108531925,2.9091109108531925,2.9091109108531925,2.9091109108531925,2.9091109108531925,2.9091109108531925,2.9091109108531925,2.9091109108531925,2.9091109108531925,2.9091109108531925,2.9091109108531925,2.9091109108531925,2.9091109108531925,2.9091109108531925,2.9091109108531925,2.9091109108531925,2.9091109108531925,2.9091109108531925,2.9091109108531925,2.9091109108531925,2.9091109108531925,2.9091109108531925,2.9091109108531925,2.9091109108531925]}],                        {\"template\":{\"data\":{\"bar\":[{\"error_x\":{\"color\":\"#2a3f5f\"},\"error_y\":{\"color\":\"#2a3f5f\"},\"marker\":{\"line\":{\"color\":\"#E5ECF6\",\"width\":0.5},\"pattern\":{\"fillmode\":\"overlay\",\"size\":10,\"solidity\":0.2}},\"type\":\"bar\"}],\"barpolar\":[{\"marker\":{\"line\":{\"color\":\"#E5ECF6\",\"width\":0.5},\"pattern\":{\"fillmode\":\"overlay\",\"size\":10,\"solidity\":0.2}},\"type\":\"barpolar\"}],\"carpet\":[{\"aaxis\":{\"endlinecolor\":\"#2a3f5f\",\"gridcolor\":\"white\",\"linecolor\":\"white\",\"minorgridcolor\":\"white\",\"startlinecolor\":\"#2a3f5f\"},\"baxis\":{\"endlinecolor\":\"#2a3f5f\",\"gridcolor\":\"white\",\"linecolor\":\"white\",\"minorgridcolor\":\"white\",\"startlinecolor\":\"#2a3f5f\"},\"type\":\"carpet\"}],\"choropleth\":[{\"colorbar\":{\"outlinewidth\":0,\"ticks\":\"\"},\"type\":\"choropleth\"}],\"contour\":[{\"colorbar\":{\"outlinewidth\":0,\"ticks\":\"\"},\"colorscale\":[[0.0,\"#0d0887\"],[0.1111111111111111,\"#46039f\"],[0.2222222222222222,\"#7201a8\"],[0.3333333333333333,\"#9c179e\"],[0.4444444444444444,\"#bd3786\"],[0.5555555555555556,\"#d8576b\"],[0.6666666666666666,\"#ed7953\"],[0.7777777777777778,\"#fb9f3a\"],[0.8888888888888888,\"#fdca26\"],[1.0,\"#f0f921\"]],\"type\":\"contour\"}],\"contourcarpet\":[{\"colorbar\":{\"outlinewidth\":0,\"ticks\":\"\"},\"type\":\"contourcarpet\"}],\"heatmap\":[{\"colorbar\":{\"outlinewidth\":0,\"ticks\":\"\"},\"colorscale\":[[0.0,\"#0d0887\"],[0.1111111111111111,\"#46039f\"],[0.2222222222222222,\"#7201a8\"],[0.3333333333333333,\"#9c179e\"],[0.4444444444444444,\"#bd3786\"],[0.5555555555555556,\"#d8576b\"],[0.6666666666666666,\"#ed7953\"],[0.7777777777777778,\"#fb9f3a\"],[0.8888888888888888,\"#fdca26\"],[1.0,\"#f0f921\"]],\"type\":\"heatmap\"}],\"heatmapgl\":[{\"colorbar\":{\"outlinewidth\":0,\"ticks\":\"\"},\"colorscale\":[[0.0,\"#0d0887\"],[0.1111111111111111,\"#46039f\"],[0.2222222222222222,\"#7201a8\"],[0.3333333333333333,\"#9c179e\"],[0.4444444444444444,\"#bd3786\"],[0.5555555555555556,\"#d8576b\"],[0.6666666666666666,\"#ed7953\"],[0.7777777777777778,\"#fb9f3a\"],[0.8888888888888888,\"#fdca26\"],[1.0,\"#f0f921\"]],\"type\":\"heatmapgl\"}],\"histogram\":[{\"marker\":{\"pattern\":{\"fillmode\":\"overlay\",\"size\":10,\"solidity\":0.2}},\"type\":\"histogram\"}],\"histogram2d\":[{\"colorbar\":{\"outlinewidth\":0,\"ticks\":\"\"},\"colorscale\":[[0.0,\"#0d0887\"],[0.1111111111111111,\"#46039f\"],[0.2222222222222222,\"#7201a8\"],[0.3333333333333333,\"#9c179e\"],[0.4444444444444444,\"#bd3786\"],[0.5555555555555556,\"#d8576b\"],[0.6666666666666666,\"#ed7953\"],[0.7777777777777778,\"#fb9f3a\"],[0.8888888888888888,\"#fdca26\"],[1.0,\"#f0f921\"]],\"type\":\"histogram2d\"}],\"histogram2dcontour\":[{\"colorbar\":{\"outlinewidth\":0,\"ticks\":\"\"},\"colorscale\":[[0.0,\"#0d0887\"],[0.1111111111111111,\"#46039f\"],[0.2222222222222222,\"#7201a8\"],[0.3333333333333333,\"#9c179e\"],[0.4444444444444444,\"#bd3786\"],[0.5555555555555556,\"#d8576b\"],[0.6666666666666666,\"#ed7953\"],[0.7777777777777778,\"#fb9f3a\"],[0.8888888888888888,\"#fdca26\"],[1.0,\"#f0f921\"]],\"type\":\"histogram2dcontour\"}],\"mesh3d\":[{\"colorbar\":{\"outlinewidth\":0,\"ticks\":\"\"},\"type\":\"mesh3d\"}],\"parcoords\":[{\"line\":{\"colorbar\":{\"outlinewidth\":0,\"ticks\":\"\"}},\"type\":\"parcoords\"}],\"pie\":[{\"automargin\":true,\"type\":\"pie\"}],\"scatter\":[{\"marker\":{\"colorbar\":{\"outlinewidth\":0,\"ticks\":\"\"}},\"type\":\"scatter\"}],\"scatter3d\":[{\"line\":{\"colorbar\":{\"outlinewidth\":0,\"ticks\":\"\"}},\"marker\":{\"colorbar\":{\"outlinewidth\":0,\"ticks\":\"\"}},\"type\":\"scatter3d\"}],\"scattercarpet\":[{\"marker\":{\"colorbar\":{\"outlinewidth\":0,\"ticks\":\"\"}},\"type\":\"scattercarpet\"}],\"scattergeo\":[{\"marker\":{\"colorbar\":{\"outlinewidth\":0,\"ticks\":\"\"}},\"type\":\"scattergeo\"}],\"scattergl\":[{\"marker\":{\"colorbar\":{\"outlinewidth\":0,\"ticks\":\"\"}},\"type\":\"scattergl\"}],\"scattermapbox\":[{\"marker\":{\"colorbar\":{\"outlinewidth\":0,\"ticks\":\"\"}},\"type\":\"scattermapbox\"}],\"scatterpolar\":[{\"marker\":{\"colorbar\":{\"outlinewidth\":0,\"ticks\":\"\"}},\"type\":\"scatterpolar\"}],\"scatterpolargl\":[{\"marker\":{\"colorbar\":{\"outlinewidth\":0,\"ticks\":\"\"}},\"type\":\"scatterpolargl\"}],\"scatterternary\":[{\"marker\":{\"colorbar\":{\"outlinewidth\":0,\"ticks\":\"\"}},\"type\":\"scatterternary\"}],\"surface\":[{\"colorbar\":{\"outlinewidth\":0,\"ticks\":\"\"},\"colorscale\":[[0.0,\"#0d0887\"],[0.1111111111111111,\"#46039f\"],[0.2222222222222222,\"#7201a8\"],[0.3333333333333333,\"#9c179e\"],[0.4444444444444444,\"#bd3786\"],[0.5555555555555556,\"#d8576b\"],[0.6666666666666666,\"#ed7953\"],[0.7777777777777778,\"#fb9f3a\"],[0.8888888888888888,\"#fdca26\"],[1.0,\"#f0f921\"]],\"type\":\"surface\"}],\"table\":[{\"cells\":{\"fill\":{\"color\":\"#EBF0F8\"},\"line\":{\"color\":\"white\"}},\"header\":{\"fill\":{\"color\":\"#C8D4E3\"},\"line\":{\"color\":\"white\"}},\"type\":\"table\"}]},\"layout\":{\"annotationdefaults\":{\"arrowcolor\":\"#2a3f5f\",\"arrowhead\":0,\"arrowwidth\":1},\"autotypenumbers\":\"strict\",\"coloraxis\":{\"colorbar\":{\"outlinewidth\":0,\"ticks\":\"\"}},\"colorscale\":{\"diverging\":[[0,\"#8e0152\"],[0.1,\"#c51b7d\"],[0.2,\"#de77ae\"],[0.3,\"#f1b6da\"],[0.4,\"#fde0ef\"],[0.5,\"#f7f7f7\"],[0.6,\"#e6f5d0\"],[0.7,\"#b8e186\"],[0.8,\"#7fbc41\"],[0.9,\"#4d9221\"],[1,\"#276419\"]],\"sequential\":[[0.0,\"#0d0887\"],[0.1111111111111111,\"#46039f\"],[0.2222222222222222,\"#7201a8\"],[0.3333333333333333,\"#9c179e\"],[0.4444444444444444,\"#bd3786\"],[0.5555555555555556,\"#d8576b\"],[0.6666666666666666,\"#ed7953\"],[0.7777777777777778,\"#fb9f3a\"],[0.8888888888888888,\"#fdca26\"],[1.0,\"#f0f921\"]],\"sequentialminus\":[[0.0,\"#0d0887\"],[0.1111111111111111,\"#46039f\"],[0.2222222222222222,\"#7201a8\"],[0.3333333333333333,\"#9c179e\"],[0.4444444444444444,\"#bd3786\"],[0.5555555555555556,\"#d8576b\"],[0.6666666666666666,\"#ed7953\"],[0.7777777777777778,\"#fb9f3a\"],[0.8888888888888888,\"#fdca26\"],[1.0,\"#f0f921\"]]},\"colorway\":[\"#636efa\",\"#EF553B\",\"#00cc96\",\"#ab63fa\",\"#FFA15A\",\"#19d3f3\",\"#FF6692\",\"#B6E880\",\"#FF97FF\",\"#FECB52\"],\"font\":{\"color\":\"#2a3f5f\"},\"geo\":{\"bgcolor\":\"white\",\"lakecolor\":\"white\",\"landcolor\":\"#E5ECF6\",\"showlakes\":true,\"showland\":true,\"subunitcolor\":\"white\"},\"hoverlabel\":{\"align\":\"left\"},\"hovermode\":\"closest\",\"mapbox\":{\"style\":\"light\"},\"paper_bgcolor\":\"white\",\"plot_bgcolor\":\"#E5ECF6\",\"polar\":{\"angularaxis\":{\"gridcolor\":\"white\",\"linecolor\":\"white\",\"ticks\":\"\"},\"bgcolor\":\"#E5ECF6\",\"radialaxis\":{\"gridcolor\":\"white\",\"linecolor\":\"white\",\"ticks\":\"\"}},\"scene\":{\"xaxis\":{\"backgroundcolor\":\"#E5ECF6\",\"gridcolor\":\"white\",\"gridwidth\":2,\"linecolor\":\"white\",\"showbackground\":true,\"ticks\":\"\",\"zerolinecolor\":\"white\"},\"yaxis\":{\"backgroundcolor\":\"#E5ECF6\",\"gridcolor\":\"white\",\"gridwidth\":2,\"linecolor\":\"white\",\"showbackground\":true,\"ticks\":\"\",\"zerolinecolor\":\"white\"},\"zaxis\":{\"backgroundcolor\":\"#E5ECF6\",\"gridcolor\":\"white\",\"gridwidth\":2,\"linecolor\":\"white\",\"showbackground\":true,\"ticks\":\"\",\"zerolinecolor\":\"white\"}},\"shapedefaults\":{\"line\":{\"color\":\"#2a3f5f\"}},\"ternary\":{\"aaxis\":{\"gridcolor\":\"white\",\"linecolor\":\"white\",\"ticks\":\"\"},\"baxis\":{\"gridcolor\":\"white\",\"linecolor\":\"white\",\"ticks\":\"\"},\"bgcolor\":\"#E5ECF6\",\"caxis\":{\"gridcolor\":\"white\",\"linecolor\":\"white\",\"ticks\":\"\"}},\"title\":{\"x\":0.05},\"xaxis\":{\"automargin\":true,\"gridcolor\":\"white\",\"linecolor\":\"white\",\"ticks\":\"\",\"title\":{\"standoff\":15},\"zerolinecolor\":\"white\",\"zerolinewidth\":2},\"yaxis\":{\"automargin\":true,\"gridcolor\":\"white\",\"linecolor\":\"white\",\"ticks\":\"\",\"title\":{\"standoff\":15},\"zerolinecolor\":\"white\",\"zerolinewidth\":2}}},\"title\":{\"text\":\"All data\"},\"xaxis\":{\"title\":{\"text\":\"data points\"}},\"yaxis\":{\"title\":{\"text\":\"data\"}}},                        {\"scrollZoom\": true, \"displayModeBar\": true, \"editable\": true, \"responsive\": true}                    ).then(function(){\n",
       "                            \n",
       "var gd = document.getElementById('46389fd1-3342-494c-a61b-5eb7945639d4');\n",
       "var x = new MutationObserver(function (mutations, observer) {{\n",
       "        var display = window.getComputedStyle(gd).display;\n",
       "        if (!display || display === 'none') {{\n",
       "            console.log([gd, 'removed!']);\n",
       "            Plotly.purge(gd);\n",
       "            observer.disconnect();\n",
       "        }}\n",
       "}});\n",
       "\n",
       "// Listen for the removal of the full notebook cells\n",
       "var notebookContainer = gd.closest('#notebook-container');\n",
       "if (notebookContainer) {{\n",
       "    x.observe(notebookContainer, {childList: true});\n",
       "}}\n",
       "\n",
       "// Listen for the clearing of the current output cell\n",
       "var outputEl = gd.closest('.output');\n",
       "if (outputEl) {{\n",
       "    x.observe(outputEl, {childList: true});\n",
       "}}\n",
       "\n",
       "                        })                };                });            </script>        </div>"
      ]
     },
     "metadata": {},
     "output_type": "display_data"
    },
    {
     "name": "stdout",
     "output_type": "stream",
     "text": [
      "counted_num : [0.0, 1.0]\n",
      "count : [121, 29]\n",
      "Accuracy between predicted label and true label: 42.66666666666667%\n"
     ]
    }
   ],
   "source": [
    "label_mean = unsupervised_lab_mean_sig(X, y)"
   ]
  },
  {
   "cell_type": "markdown",
   "id": "207fd2df",
   "metadata": {},
   "source": [
    "# Way 2 : Regression fit the data to get cyclical pattern - label the data based on the periodic cycle"
   ]
  },
  {
   "cell_type": "code",
   "execution_count": 26,
   "id": "e7f98aac",
   "metadata": {},
   "outputs": [],
   "source": [
    "def unsupervised_lab_filter_cyclical(*arg):\n",
    "    \n",
    "    X = arg[0]\n",
    "    \n",
    "    # ------------------------------\n",
    "    \n",
    "    # Smoothing the data reduces the number of unique classes\n",
    "    from scipy import signal\n",
    "    bin_filtsig = []\n",
    "    for i in range(X.shape[1]):\n",
    "        n = 3   # filter order\n",
    "        fs = 250 # data sampling frequency (Hz)\n",
    "        fc = 5  # Cut-off frequency of the filter , if you want a binary class label fc=1, 3-class label fc=5\n",
    "        w = fc / (fs / 2) # Normalize the frequency\n",
    "        b, a = signal.butter(n, w, 'low')  # 3rd order\n",
    "        filtsig = signal.filtfilt(b, a, X[:,i])\n",
    "\n",
    "        bin_filtsig.append(np.floor(filtsig))\n",
    "\n",
    "    # ------------------------------\n",
    "    \n",
    "    # Shift the binary signals vertically to have the same starting point\n",
    "    bin_filtsig_shift = []\n",
    "    for i in range(X.shape[1]):\n",
    "        bin_filtsig_shift.append(bin_filtsig[i] - bin_filtsig[i][0])\n",
    "    \n",
    "    # ------------------------------\n",
    "    \n",
    "    # If features come from different distributions (NOT statistically similar (distribution, variance))\n",
    "    # You can not stack the data/labels, must decide on which label to choose\n",
    "    tot = np.reshape(bin_filtsig_shift, (X.shape[0], X.shape[1]))\n",
    "    label_mean = np.floor(np.sum(tot, axis=1)/tot.shape[1])\n",
    "    \n",
    "    print('unique values : ', np.unique(label_mean))\n",
    "    # ------------------------------\n",
    "    \n",
    "    # module for counting values in a list\n",
    "    from collections import Counter\n",
    "    c = Counter(label_mean)\n",
    "    \n",
    "    counted_num = []\n",
    "    count = []\n",
    "    for cn, cout in c.most_common(len(c)):\n",
    "        counted_num = counted_num + [cn]\n",
    "        count = count + [cout]\n",
    "    print('counted_num : ' + str(counted_num))\n",
    "    print('count : ' + str(count))\n",
    "    \n",
    "    # ------------------------------\n",
    "    \n",
    "    if len(arg) > 1:\n",
    "        y = arg[1]\n",
    "        \n",
    "        # Accuracy percentage : classification\n",
    "        cor = 0\n",
    "        n_samples = y.shape[0]\n",
    "        for i in range(0,n_samples):\n",
    "            if np.sum(label_mean[i] - y[i]) == 0:\n",
    "                cor = cor + 1\n",
    "        print(\"Accuracy between predicted label and true label: \" + str((cor/n_samples)*100) + \"%\")\n",
    "\n",
    "    return label_mean, bin_filtsig"
   ]
  },
  {
   "cell_type": "code",
   "execution_count": 27,
   "id": "b6d4b5c6",
   "metadata": {},
   "outputs": [
    {
     "name": "stdout",
     "output_type": "stream",
     "text": [
      "unique values :  [-1.  0.  1.]\n",
      "counted_num : [0.0, -1.0, 1.0]\n",
      "count : [76, 44, 30]\n",
      "Accuracy between predicted label and true label: 44.666666666666664%\n"
     ]
    }
   ],
   "source": [
    "label_filt_cyc, bin_filtsig = unsupervised_lab_filter_cyclical(X, y)"
   ]
  },
  {
   "cell_type": "markdown",
   "id": "07b6c40c",
   "metadata": {},
   "source": [
    "# Visualization of data and labels"
   ]
  },
  {
   "cell_type": "code",
   "execution_count": 15,
   "id": "cbe3a5a1",
   "metadata": {},
   "outputs": [
    {
     "data": {
      "application/vnd.plotly.v1+json": {
       "config": {
        "displayModeBar": true,
        "editable": true,
        "plotlyServerURL": "https://plot.ly",
        "scrollZoom": true
       },
       "data": [
        {
         "line": {
          "width": 1
         },
         "name": "X[:,0]",
         "showlegend": true,
         "type": "scatter",
         "x": [
          0,
          1,
          2,
          3,
          4,
          5,
          6,
          7,
          8,
          9,
          10,
          11,
          12,
          13,
          14,
          15,
          16,
          17,
          18,
          19,
          20,
          21,
          22,
          23,
          24,
          25,
          26,
          27,
          28,
          29,
          30,
          31,
          32,
          33,
          34,
          35,
          36,
          37,
          38,
          39,
          40,
          41,
          42,
          43,
          44,
          45,
          46,
          47,
          48,
          49,
          50,
          51,
          52,
          53,
          54,
          55,
          56,
          57,
          58,
          59,
          60,
          61,
          62,
          63,
          64,
          65,
          66,
          67,
          68,
          69,
          70,
          71,
          72,
          73,
          74,
          75,
          76,
          77,
          78,
          79,
          80,
          81,
          82,
          83,
          84,
          85,
          86,
          87,
          88,
          89,
          90,
          91,
          92,
          93,
          94,
          95,
          96,
          97,
          98,
          99,
          100,
          101,
          102,
          103,
          104,
          105,
          106,
          107,
          108,
          109,
          110,
          111,
          112,
          113,
          114,
          115,
          116,
          117,
          118,
          119,
          120,
          121,
          122,
          123,
          124,
          125,
          126,
          127,
          128,
          129,
          130,
          131,
          132,
          133,
          134,
          135,
          136,
          137,
          138,
          139,
          140,
          141,
          142,
          143,
          144,
          145,
          146,
          147,
          148,
          149
         ],
         "y": [
          5.1,
          4.9,
          4.7,
          4.6,
          5,
          5.4,
          4.6,
          5,
          4.4,
          4.9,
          5.4,
          4.8,
          4.8,
          4.3,
          5.8,
          5.7,
          5.4,
          5.1,
          5.7,
          5.1,
          5.4,
          5.1,
          4.6,
          5.1,
          4.8,
          5,
          5,
          5.2,
          5.2,
          4.7,
          4.8,
          5.4,
          5.2,
          5.5,
          4.9,
          5,
          5.5,
          4.9,
          4.4,
          5.1,
          5,
          4.5,
          4.4,
          5,
          5.1,
          4.8,
          5.1,
          4.6,
          5.3,
          5,
          7,
          6.4,
          6.9,
          5.5,
          6.5,
          5.7,
          6.3,
          4.9,
          6.6,
          5.2,
          5,
          5.9,
          6,
          6.1,
          5.6,
          6.7,
          5.6,
          5.8,
          6.2,
          5.6,
          5.9,
          6.1,
          6.3,
          6.1,
          6.4,
          6.6,
          6.8,
          6.7,
          6,
          5.7,
          5.5,
          5.5,
          5.8,
          6,
          5.4,
          6,
          6.7,
          6.3,
          5.6,
          5.5,
          5.5,
          6.1,
          5.8,
          5,
          5.6,
          5.7,
          5.7,
          6.2,
          5.1,
          5.7,
          6.3,
          5.8,
          7.1,
          6.3,
          6.5,
          7.6,
          4.9,
          7.3,
          6.7,
          7.2,
          6.5,
          6.4,
          6.8,
          5.7,
          5.8,
          6.4,
          6.5,
          7.7,
          7.7,
          6,
          6.9,
          5.6,
          7.7,
          6.3,
          6.7,
          7.2,
          6.2,
          6.1,
          6.4,
          7.2,
          7.4,
          7.9,
          6.4,
          6.3,
          6.1,
          7.7,
          6.3,
          6.4,
          6,
          6.9,
          6.7,
          6.9,
          5.8,
          6.8,
          6.7,
          6.7,
          6.3,
          6.5,
          6.2,
          5.9
         ]
        },
        {
         "line": {
          "color": "yellow",
          "width": 1
         },
         "name": "filtsig0",
         "showlegend": true,
         "type": "scatter",
         "x": [
          0,
          1,
          2,
          3,
          4,
          5,
          6,
          7,
          8,
          9,
          10,
          11,
          12,
          13,
          14,
          15,
          16,
          17,
          18,
          19,
          20,
          21,
          22,
          23,
          24,
          25,
          26,
          27,
          28,
          29,
          30,
          31,
          32,
          33,
          34,
          35,
          36,
          37,
          38,
          39,
          40,
          41,
          42,
          43,
          44,
          45,
          46,
          47,
          48,
          49,
          50,
          51,
          52,
          53,
          54,
          55,
          56,
          57,
          58,
          59,
          60,
          61,
          62,
          63,
          64,
          65,
          66,
          67,
          68,
          69,
          70,
          71,
          72,
          73,
          74,
          75,
          76,
          77,
          78,
          79,
          80,
          81,
          82,
          83,
          84,
          85,
          86,
          87,
          88,
          89,
          90,
          91,
          92,
          93,
          94,
          95,
          96,
          97,
          98,
          99,
          100,
          101,
          102,
          103,
          104,
          105,
          106,
          107,
          108,
          109,
          110,
          111,
          112,
          113,
          114,
          115,
          116,
          117,
          118,
          119,
          120,
          121,
          122,
          123,
          124,
          125,
          126,
          127,
          128,
          129,
          130,
          131,
          132,
          133,
          134,
          135,
          136,
          137,
          138,
          139,
          140,
          141,
          142,
          143,
          144,
          145,
          146,
          147,
          148,
          149
         ],
         "y": [
          5,
          5,
          5,
          5,
          5,
          5,
          5,
          5,
          5,
          5,
          5,
          5,
          5,
          5,
          5,
          5,
          5,
          5,
          5,
          5,
          5,
          5,
          5,
          5,
          4,
          4,
          4,
          4,
          4,
          5,
          5,
          5,
          5,
          5,
          5,
          5,
          5,
          5,
          5,
          5,
          5,
          5,
          5,
          5,
          5,
          5,
          5,
          5,
          5,
          5,
          5,
          5,
          5,
          5,
          5,
          5,
          5,
          5,
          5,
          5,
          5,
          5,
          5,
          5,
          5,
          5,
          5,
          6,
          6,
          6,
          6,
          6,
          6,
          6,
          6,
          6,
          5,
          5,
          5,
          5,
          5,
          5,
          5,
          5,
          5,
          5,
          5,
          5,
          5,
          5,
          5,
          5,
          5,
          5,
          5,
          5,
          5,
          6,
          6,
          6,
          6,
          6,
          6,
          6,
          6,
          6,
          6,
          6,
          6,
          6,
          6,
          6,
          6,
          6,
          6,
          6,
          6,
          6,
          6,
          6,
          6,
          6,
          6,
          6,
          6,
          6,
          6,
          6,
          6,
          6,
          6,
          6,
          6,
          6,
          6,
          6,
          6,
          6,
          6,
          6,
          6,
          6,
          6,
          6,
          6,
          6,
          6,
          6,
          6,
          6
         ]
        },
        {
         "line": {
          "width": 1
         },
         "name": "X[:,1]",
         "showlegend": true,
         "type": "scatter",
         "x": [
          0,
          1,
          2,
          3,
          4,
          5,
          6,
          7,
          8,
          9,
          10,
          11,
          12,
          13,
          14,
          15,
          16,
          17,
          18,
          19,
          20,
          21,
          22,
          23,
          24,
          25,
          26,
          27,
          28,
          29,
          30,
          31,
          32,
          33,
          34,
          35,
          36,
          37,
          38,
          39,
          40,
          41,
          42,
          43,
          44,
          45,
          46,
          47,
          48,
          49,
          50,
          51,
          52,
          53,
          54,
          55,
          56,
          57,
          58,
          59,
          60,
          61,
          62,
          63,
          64,
          65,
          66,
          67,
          68,
          69,
          70,
          71,
          72,
          73,
          74,
          75,
          76,
          77,
          78,
          79,
          80,
          81,
          82,
          83,
          84,
          85,
          86,
          87,
          88,
          89,
          90,
          91,
          92,
          93,
          94,
          95,
          96,
          97,
          98,
          99,
          100,
          101,
          102,
          103,
          104,
          105,
          106,
          107,
          108,
          109,
          110,
          111,
          112,
          113,
          114,
          115,
          116,
          117,
          118,
          119,
          120,
          121,
          122,
          123,
          124,
          125,
          126,
          127,
          128,
          129,
          130,
          131,
          132,
          133,
          134,
          135,
          136,
          137,
          138,
          139,
          140,
          141,
          142,
          143,
          144,
          145,
          146,
          147,
          148,
          149
         ],
         "y": [
          3.5,
          3,
          3.2,
          3.1,
          3.6,
          3.9,
          3.4,
          3.4,
          2.9,
          3.1,
          3.7,
          3.4,
          3,
          3,
          4,
          4.4,
          3.9,
          3.5,
          3.8,
          3.8,
          3.4,
          3.7,
          3.6,
          3.3,
          3.4,
          3,
          3.4,
          3.5,
          3.4,
          3.2,
          3.1,
          3.4,
          4.1,
          4.2,
          3.1,
          3.2,
          3.5,
          3.6,
          3,
          3.4,
          3.5,
          2.3,
          3.2,
          3.5,
          3.8,
          3,
          3.8,
          3.2,
          3.7,
          3.3,
          3.2,
          3.2,
          3.1,
          2.3,
          2.8,
          2.8,
          3.3,
          2.4,
          2.9,
          2.7,
          2,
          3,
          2.2,
          2.9,
          2.9,
          3.1,
          3,
          2.7,
          2.2,
          2.5,
          3.2,
          2.8,
          2.5,
          2.8,
          2.9,
          3,
          2.8,
          3,
          2.9,
          2.6,
          2.4,
          2.4,
          2.7,
          2.7,
          3,
          3.4,
          3.1,
          2.3,
          3,
          2.5,
          2.6,
          3,
          2.6,
          2.3,
          2.7,
          3,
          2.9,
          2.9,
          2.5,
          2.8,
          3.3,
          2.7,
          3,
          2.9,
          3,
          3,
          2.5,
          2.9,
          2.5,
          3.6,
          3.2,
          2.7,
          3,
          2.5,
          2.8,
          3.2,
          3,
          3.8,
          2.6,
          2.2,
          3.2,
          2.8,
          2.8,
          2.7,
          3.3,
          3.2,
          2.8,
          3,
          2.8,
          3,
          2.8,
          3.8,
          2.8,
          2.8,
          2.6,
          3,
          3.4,
          3.1,
          3,
          3.1,
          3.1,
          3.1,
          2.7,
          3.2,
          3.3,
          3,
          2.5,
          3,
          3.4,
          3
         ]
        },
        {
         "line": {
          "color": "yellow",
          "width": 1
         },
         "name": "filtsig0",
         "showlegend": true,
         "type": "scatter",
         "x": [
          0,
          1,
          2,
          3,
          4,
          5,
          6,
          7,
          8,
          9,
          10,
          11,
          12,
          13,
          14,
          15,
          16,
          17,
          18,
          19,
          20,
          21,
          22,
          23,
          24,
          25,
          26,
          27,
          28,
          29,
          30,
          31,
          32,
          33,
          34,
          35,
          36,
          37,
          38,
          39,
          40,
          41,
          42,
          43,
          44,
          45,
          46,
          47,
          48,
          49,
          50,
          51,
          52,
          53,
          54,
          55,
          56,
          57,
          58,
          59,
          60,
          61,
          62,
          63,
          64,
          65,
          66,
          67,
          68,
          69,
          70,
          71,
          72,
          73,
          74,
          75,
          76,
          77,
          78,
          79,
          80,
          81,
          82,
          83,
          84,
          85,
          86,
          87,
          88,
          89,
          90,
          91,
          92,
          93,
          94,
          95,
          96,
          97,
          98,
          99,
          100,
          101,
          102,
          103,
          104,
          105,
          106,
          107,
          108,
          109,
          110,
          111,
          112,
          113,
          114,
          115,
          116,
          117,
          118,
          119,
          120,
          121,
          122,
          123,
          124,
          125,
          126,
          127,
          128,
          129,
          130,
          131,
          132,
          133,
          134,
          135,
          136,
          137,
          138,
          139,
          140,
          141,
          142,
          143,
          144,
          145,
          146,
          147,
          148,
          149
         ],
         "y": [
          3,
          3,
          3,
          3,
          3,
          3,
          3,
          3,
          3,
          3,
          3,
          3,
          3,
          3,
          3,
          3,
          3,
          3,
          3,
          3,
          3,
          3,
          3,
          3,
          3,
          3,
          3,
          3,
          3,
          3,
          3,
          3,
          3,
          3,
          3,
          3,
          3,
          3,
          3,
          3,
          3,
          3,
          3,
          3,
          3,
          3,
          3,
          3,
          3,
          3,
          3,
          3,
          3,
          2,
          2,
          2,
          2,
          2,
          2,
          2,
          2,
          2,
          2,
          2,
          2,
          2,
          2,
          2,
          2,
          2,
          2,
          2,
          2,
          2,
          2,
          2,
          2,
          2,
          2,
          2,
          2,
          2,
          2,
          2,
          2,
          2,
          2,
          2,
          2,
          2,
          2,
          2,
          2,
          2,
          2,
          2,
          2,
          2,
          2,
          2,
          2,
          2,
          2,
          2,
          2,
          2,
          2,
          2,
          2,
          2,
          2,
          2,
          2,
          2,
          2,
          2,
          2,
          2,
          2,
          2,
          2,
          2,
          2,
          2,
          2,
          2,
          2,
          2,
          2,
          2,
          2,
          2,
          2,
          3,
          3,
          3,
          3,
          3,
          3,
          3,
          3,
          3,
          3,
          3,
          3,
          3,
          3,
          3,
          3,
          3
         ]
        },
        {
         "line": {
          "color": "blue",
          "width": 1
         },
         "name": "label",
         "showlegend": true,
         "type": "scatter",
         "x": [
          0,
          1,
          2,
          3,
          4,
          5,
          6,
          7,
          8,
          9,
          10,
          11,
          12,
          13,
          14,
          15,
          16,
          17,
          18,
          19,
          20,
          21,
          22,
          23,
          24,
          25,
          26,
          27,
          28,
          29,
          30,
          31,
          32,
          33,
          34,
          35,
          36,
          37,
          38,
          39,
          40,
          41,
          42,
          43,
          44,
          45,
          46,
          47,
          48,
          49,
          50,
          51,
          52,
          53,
          54,
          55,
          56,
          57,
          58,
          59,
          60,
          61,
          62,
          63,
          64,
          65,
          66,
          67,
          68,
          69,
          70,
          71,
          72,
          73,
          74,
          75,
          76,
          77,
          78,
          79,
          80,
          81,
          82,
          83,
          84,
          85,
          86,
          87,
          88,
          89,
          90,
          91,
          92,
          93,
          94,
          95,
          96,
          97,
          98,
          99,
          100,
          101,
          102,
          103,
          104,
          105,
          106,
          107,
          108,
          109,
          110,
          111,
          112,
          113,
          114,
          115,
          116,
          117,
          118,
          119,
          120,
          121,
          122,
          123,
          124,
          125,
          126,
          127,
          128,
          129,
          130,
          131,
          132,
          133,
          134,
          135,
          136,
          137,
          138,
          139,
          140,
          141,
          142,
          143,
          144,
          145,
          146,
          147,
          148,
          149
         ],
         "y": [
          0,
          0,
          0,
          0,
          0,
          0,
          0,
          0,
          0,
          0,
          0,
          0,
          0,
          0,
          0,
          0,
          0,
          0,
          0,
          0,
          0,
          0,
          0,
          0,
          0,
          0,
          0,
          0,
          0,
          0,
          0,
          0,
          0,
          0,
          0,
          0,
          0,
          0,
          0,
          0,
          0,
          0,
          0,
          0,
          0,
          0,
          0,
          0,
          0,
          0,
          2,
          2,
          2,
          1,
          2,
          1,
          2,
          1,
          2,
          1,
          1,
          1,
          1,
          1,
          1,
          2,
          1,
          1,
          1,
          1,
          1,
          1,
          1,
          1,
          2,
          2,
          2,
          2,
          1,
          1,
          1,
          1,
          1,
          1,
          1,
          1,
          2,
          1,
          1,
          1,
          1,
          1,
          1,
          1,
          1,
          1,
          1,
          1,
          1,
          1,
          2,
          1,
          2,
          2,
          2,
          2,
          1,
          2,
          2,
          2,
          2,
          2,
          2,
          1,
          1,
          2,
          2,
          2,
          2,
          1,
          2,
          1,
          2,
          1,
          2,
          2,
          1,
          1,
          2,
          2,
          2,
          2,
          2,
          1,
          1,
          2,
          2,
          2,
          1,
          2,
          2,
          2,
          1,
          2,
          2,
          2,
          1,
          2,
          2,
          1
         ]
        },
        {
         "line": {
          "color": "green",
          "width": 1
         },
         "name": "label_mean",
         "showlegend": true,
         "type": "scatter",
         "x": [
          0,
          1,
          2,
          3,
          4,
          5,
          6,
          7,
          8,
          9,
          10,
          11,
          12,
          13,
          14,
          15,
          16,
          17,
          18,
          19,
          20,
          21,
          22,
          23,
          24,
          25,
          26,
          27,
          28,
          29,
          30,
          31,
          32,
          33,
          34,
          35,
          36,
          37,
          38,
          39,
          40,
          41,
          42,
          43,
          44,
          45,
          46,
          47,
          48,
          49,
          50,
          51,
          52,
          53,
          54,
          55,
          56,
          57,
          58,
          59,
          60,
          61,
          62,
          63,
          64,
          65,
          66,
          67,
          68,
          69,
          70,
          71,
          72,
          73,
          74,
          75,
          76,
          77,
          78,
          79,
          80,
          81,
          82,
          83,
          84,
          85,
          86,
          87,
          88,
          89,
          90,
          91,
          92,
          93,
          94,
          95,
          96,
          97,
          98,
          99,
          100,
          101,
          102,
          103,
          104,
          105,
          106,
          107,
          108,
          109,
          110,
          111,
          112,
          113,
          114,
          115,
          116,
          117,
          118,
          119,
          120,
          121,
          122,
          123,
          124,
          125,
          126,
          127,
          128,
          129,
          130,
          131,
          132,
          133,
          134,
          135,
          136,
          137,
          138,
          139,
          140,
          141,
          142,
          143,
          144,
          145,
          146,
          147,
          148,
          149
         ],
         "y": [
          0,
          0,
          0,
          0,
          0,
          0,
          0,
          0,
          0,
          0,
          0,
          0,
          0,
          0,
          0,
          0,
          0,
          0,
          0,
          0,
          0,
          0,
          0,
          0,
          0,
          0,
          0,
          0,
          0,
          0,
          0,
          0,
          0,
          0,
          0,
          0,
          0,
          0,
          0,
          0,
          0,
          0,
          0,
          0,
          0,
          0,
          0,
          0,
          0,
          0,
          0,
          0,
          0,
          0,
          1,
          0,
          0,
          0,
          1,
          0,
          0,
          0,
          1,
          1,
          0,
          0,
          0,
          0,
          1,
          0,
          0,
          1,
          1,
          1,
          1,
          0,
          1,
          0,
          1,
          0,
          0,
          0,
          0,
          1,
          0,
          0,
          0,
          1,
          0,
          0,
          0,
          0,
          0,
          0,
          0,
          0,
          0,
          1,
          0,
          0,
          0,
          0,
          0,
          1,
          0,
          0,
          0,
          1,
          1,
          0,
          0,
          1,
          0,
          0,
          0,
          0,
          0,
          0,
          1,
          1,
          0,
          0,
          1,
          1,
          0,
          0,
          1,
          0,
          1,
          0,
          1,
          0,
          1,
          1,
          1,
          0,
          0,
          0,
          0,
          0,
          0,
          0,
          0,
          0,
          0,
          0,
          1,
          0,
          0,
          0
         ]
        },
        {
         "line": {
          "color": "magenta",
          "width": 1
         },
         "name": "label_filt_cyc",
         "showlegend": true,
         "type": "scatter",
         "x": [
          0,
          1,
          2,
          3,
          4,
          5,
          6,
          7,
          8,
          9,
          10,
          11,
          12,
          13,
          14,
          15,
          16,
          17,
          18,
          19,
          20,
          21,
          22,
          23,
          24,
          25,
          26,
          27,
          28,
          29,
          30,
          31,
          32,
          33,
          34,
          35,
          36,
          37,
          38,
          39,
          40,
          41,
          42,
          43,
          44,
          45,
          46,
          47,
          48,
          49,
          50,
          51,
          52,
          53,
          54,
          55,
          56,
          57,
          58,
          59,
          60,
          61,
          62,
          63,
          64,
          65,
          66,
          67,
          68,
          69,
          70,
          71,
          72,
          73,
          74,
          75,
          76,
          77,
          78,
          79,
          80,
          81,
          82,
          83,
          84,
          85,
          86,
          87,
          88,
          89,
          90,
          91,
          92,
          93,
          94,
          95,
          96,
          97,
          98,
          99,
          100,
          101,
          102,
          103,
          104,
          105,
          106,
          107,
          108,
          109,
          110,
          111,
          112,
          113,
          114,
          115,
          116,
          117,
          118,
          119,
          120,
          121,
          122,
          123,
          124,
          125,
          126,
          127,
          128,
          129,
          130,
          131,
          132,
          133,
          134,
          135,
          136,
          137,
          138,
          139,
          140,
          141,
          142,
          143,
          144,
          145,
          146,
          147,
          148,
          149
         ],
         "y": [
          0,
          0,
          0,
          0,
          0,
          0,
          0,
          0,
          0,
          0,
          0,
          0,
          -1,
          -1,
          -1,
          0,
          0,
          0,
          0,
          0,
          0,
          0,
          0,
          0,
          0,
          0,
          0,
          0,
          0,
          0,
          0,
          0,
          0,
          0,
          1,
          1,
          1,
          1,
          0,
          0,
          0,
          0,
          0,
          0,
          0,
          0,
          0,
          0,
          0,
          1,
          1,
          1,
          1,
          1,
          1,
          1,
          1,
          1,
          1,
          1,
          1,
          1,
          1,
          1,
          1,
          1,
          1,
          1,
          1,
          1,
          1,
          1,
          1,
          1,
          1,
          0,
          0,
          0,
          0,
          0,
          0,
          0,
          0,
          0,
          0,
          0,
          0,
          0,
          0,
          0,
          0,
          0,
          0,
          0,
          0,
          0,
          0,
          0,
          0,
          0,
          0,
          -1,
          -1,
          -1,
          -1,
          -1,
          -1,
          -1,
          -1,
          -1,
          -1,
          -1,
          -1,
          -1,
          -1,
          -1,
          -1,
          -1,
          -1,
          -1,
          -1,
          -1,
          -1,
          -1,
          -1,
          -1,
          -1,
          -1,
          -1,
          -1,
          -1,
          -1,
          -1,
          -1,
          -1,
          -1,
          -1,
          -1,
          -1,
          -1,
          -1,
          -1,
          0,
          0,
          0,
          0,
          0,
          0,
          0,
          0
         ]
        }
       ],
       "layout": {
        "template": {
         "data": {
          "bar": [
           {
            "error_x": {
             "color": "#2a3f5f"
            },
            "error_y": {
             "color": "#2a3f5f"
            },
            "marker": {
             "line": {
              "color": "#E5ECF6",
              "width": 0.5
             },
             "pattern": {
              "fillmode": "overlay",
              "size": 10,
              "solidity": 0.2
             }
            },
            "type": "bar"
           }
          ],
          "barpolar": [
           {
            "marker": {
             "line": {
              "color": "#E5ECF6",
              "width": 0.5
             },
             "pattern": {
              "fillmode": "overlay",
              "size": 10,
              "solidity": 0.2
             }
            },
            "type": "barpolar"
           }
          ],
          "carpet": [
           {
            "aaxis": {
             "endlinecolor": "#2a3f5f",
             "gridcolor": "white",
             "linecolor": "white",
             "minorgridcolor": "white",
             "startlinecolor": "#2a3f5f"
            },
            "baxis": {
             "endlinecolor": "#2a3f5f",
             "gridcolor": "white",
             "linecolor": "white",
             "minorgridcolor": "white",
             "startlinecolor": "#2a3f5f"
            },
            "type": "carpet"
           }
          ],
          "choropleth": [
           {
            "colorbar": {
             "outlinewidth": 0,
             "ticks": ""
            },
            "type": "choropleth"
           }
          ],
          "contour": [
           {
            "colorbar": {
             "outlinewidth": 0,
             "ticks": ""
            },
            "colorscale": [
             [
              0,
              "#0d0887"
             ],
             [
              0.1111111111111111,
              "#46039f"
             ],
             [
              0.2222222222222222,
              "#7201a8"
             ],
             [
              0.3333333333333333,
              "#9c179e"
             ],
             [
              0.4444444444444444,
              "#bd3786"
             ],
             [
              0.5555555555555556,
              "#d8576b"
             ],
             [
              0.6666666666666666,
              "#ed7953"
             ],
             [
              0.7777777777777778,
              "#fb9f3a"
             ],
             [
              0.8888888888888888,
              "#fdca26"
             ],
             [
              1,
              "#f0f921"
             ]
            ],
            "type": "contour"
           }
          ],
          "contourcarpet": [
           {
            "colorbar": {
             "outlinewidth": 0,
             "ticks": ""
            },
            "type": "contourcarpet"
           }
          ],
          "heatmap": [
           {
            "colorbar": {
             "outlinewidth": 0,
             "ticks": ""
            },
            "colorscale": [
             [
              0,
              "#0d0887"
             ],
             [
              0.1111111111111111,
              "#46039f"
             ],
             [
              0.2222222222222222,
              "#7201a8"
             ],
             [
              0.3333333333333333,
              "#9c179e"
             ],
             [
              0.4444444444444444,
              "#bd3786"
             ],
             [
              0.5555555555555556,
              "#d8576b"
             ],
             [
              0.6666666666666666,
              "#ed7953"
             ],
             [
              0.7777777777777778,
              "#fb9f3a"
             ],
             [
              0.8888888888888888,
              "#fdca26"
             ],
             [
              1,
              "#f0f921"
             ]
            ],
            "type": "heatmap"
           }
          ],
          "heatmapgl": [
           {
            "colorbar": {
             "outlinewidth": 0,
             "ticks": ""
            },
            "colorscale": [
             [
              0,
              "#0d0887"
             ],
             [
              0.1111111111111111,
              "#46039f"
             ],
             [
              0.2222222222222222,
              "#7201a8"
             ],
             [
              0.3333333333333333,
              "#9c179e"
             ],
             [
              0.4444444444444444,
              "#bd3786"
             ],
             [
              0.5555555555555556,
              "#d8576b"
             ],
             [
              0.6666666666666666,
              "#ed7953"
             ],
             [
              0.7777777777777778,
              "#fb9f3a"
             ],
             [
              0.8888888888888888,
              "#fdca26"
             ],
             [
              1,
              "#f0f921"
             ]
            ],
            "type": "heatmapgl"
           }
          ],
          "histogram": [
           {
            "marker": {
             "pattern": {
              "fillmode": "overlay",
              "size": 10,
              "solidity": 0.2
             }
            },
            "type": "histogram"
           }
          ],
          "histogram2d": [
           {
            "colorbar": {
             "outlinewidth": 0,
             "ticks": ""
            },
            "colorscale": [
             [
              0,
              "#0d0887"
             ],
             [
              0.1111111111111111,
              "#46039f"
             ],
             [
              0.2222222222222222,
              "#7201a8"
             ],
             [
              0.3333333333333333,
              "#9c179e"
             ],
             [
              0.4444444444444444,
              "#bd3786"
             ],
             [
              0.5555555555555556,
              "#d8576b"
             ],
             [
              0.6666666666666666,
              "#ed7953"
             ],
             [
              0.7777777777777778,
              "#fb9f3a"
             ],
             [
              0.8888888888888888,
              "#fdca26"
             ],
             [
              1,
              "#f0f921"
             ]
            ],
            "type": "histogram2d"
           }
          ],
          "histogram2dcontour": [
           {
            "colorbar": {
             "outlinewidth": 0,
             "ticks": ""
            },
            "colorscale": [
             [
              0,
              "#0d0887"
             ],
             [
              0.1111111111111111,
              "#46039f"
             ],
             [
              0.2222222222222222,
              "#7201a8"
             ],
             [
              0.3333333333333333,
              "#9c179e"
             ],
             [
              0.4444444444444444,
              "#bd3786"
             ],
             [
              0.5555555555555556,
              "#d8576b"
             ],
             [
              0.6666666666666666,
              "#ed7953"
             ],
             [
              0.7777777777777778,
              "#fb9f3a"
             ],
             [
              0.8888888888888888,
              "#fdca26"
             ],
             [
              1,
              "#f0f921"
             ]
            ],
            "type": "histogram2dcontour"
           }
          ],
          "mesh3d": [
           {
            "colorbar": {
             "outlinewidth": 0,
             "ticks": ""
            },
            "type": "mesh3d"
           }
          ],
          "parcoords": [
           {
            "line": {
             "colorbar": {
              "outlinewidth": 0,
              "ticks": ""
             }
            },
            "type": "parcoords"
           }
          ],
          "pie": [
           {
            "automargin": true,
            "type": "pie"
           }
          ],
          "scatter": [
           {
            "marker": {
             "colorbar": {
              "outlinewidth": 0,
              "ticks": ""
             }
            },
            "type": "scatter"
           }
          ],
          "scatter3d": [
           {
            "line": {
             "colorbar": {
              "outlinewidth": 0,
              "ticks": ""
             }
            },
            "marker": {
             "colorbar": {
              "outlinewidth": 0,
              "ticks": ""
             }
            },
            "type": "scatter3d"
           }
          ],
          "scattercarpet": [
           {
            "marker": {
             "colorbar": {
              "outlinewidth": 0,
              "ticks": ""
             }
            },
            "type": "scattercarpet"
           }
          ],
          "scattergeo": [
           {
            "marker": {
             "colorbar": {
              "outlinewidth": 0,
              "ticks": ""
             }
            },
            "type": "scattergeo"
           }
          ],
          "scattergl": [
           {
            "marker": {
             "colorbar": {
              "outlinewidth": 0,
              "ticks": ""
             }
            },
            "type": "scattergl"
           }
          ],
          "scattermapbox": [
           {
            "marker": {
             "colorbar": {
              "outlinewidth": 0,
              "ticks": ""
             }
            },
            "type": "scattermapbox"
           }
          ],
          "scatterpolar": [
           {
            "marker": {
             "colorbar": {
              "outlinewidth": 0,
              "ticks": ""
             }
            },
            "type": "scatterpolar"
           }
          ],
          "scatterpolargl": [
           {
            "marker": {
             "colorbar": {
              "outlinewidth": 0,
              "ticks": ""
             }
            },
            "type": "scatterpolargl"
           }
          ],
          "scatterternary": [
           {
            "marker": {
             "colorbar": {
              "outlinewidth": 0,
              "ticks": ""
             }
            },
            "type": "scatterternary"
           }
          ],
          "surface": [
           {
            "colorbar": {
             "outlinewidth": 0,
             "ticks": ""
            },
            "colorscale": [
             [
              0,
              "#0d0887"
             ],
             [
              0.1111111111111111,
              "#46039f"
             ],
             [
              0.2222222222222222,
              "#7201a8"
             ],
             [
              0.3333333333333333,
              "#9c179e"
             ],
             [
              0.4444444444444444,
              "#bd3786"
             ],
             [
              0.5555555555555556,
              "#d8576b"
             ],
             [
              0.6666666666666666,
              "#ed7953"
             ],
             [
              0.7777777777777778,
              "#fb9f3a"
             ],
             [
              0.8888888888888888,
              "#fdca26"
             ],
             [
              1,
              "#f0f921"
             ]
            ],
            "type": "surface"
           }
          ],
          "table": [
           {
            "cells": {
             "fill": {
              "color": "#EBF0F8"
             },
             "line": {
              "color": "white"
             }
            },
            "header": {
             "fill": {
              "color": "#C8D4E3"
             },
             "line": {
              "color": "white"
             }
            },
            "type": "table"
           }
          ]
         },
         "layout": {
          "annotationdefaults": {
           "arrowcolor": "#2a3f5f",
           "arrowhead": 0,
           "arrowwidth": 1
          },
          "autotypenumbers": "strict",
          "coloraxis": {
           "colorbar": {
            "outlinewidth": 0,
            "ticks": ""
           }
          },
          "colorscale": {
           "diverging": [
            [
             0,
             "#8e0152"
            ],
            [
             0.1,
             "#c51b7d"
            ],
            [
             0.2,
             "#de77ae"
            ],
            [
             0.3,
             "#f1b6da"
            ],
            [
             0.4,
             "#fde0ef"
            ],
            [
             0.5,
             "#f7f7f7"
            ],
            [
             0.6,
             "#e6f5d0"
            ],
            [
             0.7,
             "#b8e186"
            ],
            [
             0.8,
             "#7fbc41"
            ],
            [
             0.9,
             "#4d9221"
            ],
            [
             1,
             "#276419"
            ]
           ],
           "sequential": [
            [
             0,
             "#0d0887"
            ],
            [
             0.1111111111111111,
             "#46039f"
            ],
            [
             0.2222222222222222,
             "#7201a8"
            ],
            [
             0.3333333333333333,
             "#9c179e"
            ],
            [
             0.4444444444444444,
             "#bd3786"
            ],
            [
             0.5555555555555556,
             "#d8576b"
            ],
            [
             0.6666666666666666,
             "#ed7953"
            ],
            [
             0.7777777777777778,
             "#fb9f3a"
            ],
            [
             0.8888888888888888,
             "#fdca26"
            ],
            [
             1,
             "#f0f921"
            ]
           ],
           "sequentialminus": [
            [
             0,
             "#0d0887"
            ],
            [
             0.1111111111111111,
             "#46039f"
            ],
            [
             0.2222222222222222,
             "#7201a8"
            ],
            [
             0.3333333333333333,
             "#9c179e"
            ],
            [
             0.4444444444444444,
             "#bd3786"
            ],
            [
             0.5555555555555556,
             "#d8576b"
            ],
            [
             0.6666666666666666,
             "#ed7953"
            ],
            [
             0.7777777777777778,
             "#fb9f3a"
            ],
            [
             0.8888888888888888,
             "#fdca26"
            ],
            [
             1,
             "#f0f921"
            ]
           ]
          },
          "colorway": [
           "#636efa",
           "#EF553B",
           "#00cc96",
           "#ab63fa",
           "#FFA15A",
           "#19d3f3",
           "#FF6692",
           "#B6E880",
           "#FF97FF",
           "#FECB52"
          ],
          "font": {
           "color": "#2a3f5f"
          },
          "geo": {
           "bgcolor": "white",
           "lakecolor": "white",
           "landcolor": "#E5ECF6",
           "showlakes": true,
           "showland": true,
           "subunitcolor": "white"
          },
          "hoverlabel": {
           "align": "left"
          },
          "hovermode": "closest",
          "mapbox": {
           "style": "light"
          },
          "paper_bgcolor": "white",
          "plot_bgcolor": "#E5ECF6",
          "polar": {
           "angularaxis": {
            "gridcolor": "white",
            "linecolor": "white",
            "ticks": ""
           },
           "bgcolor": "#E5ECF6",
           "radialaxis": {
            "gridcolor": "white",
            "linecolor": "white",
            "ticks": ""
           }
          },
          "scene": {
           "xaxis": {
            "backgroundcolor": "#E5ECF6",
            "gridcolor": "white",
            "gridwidth": 2,
            "linecolor": "white",
            "showbackground": true,
            "ticks": "",
            "zerolinecolor": "white"
           },
           "yaxis": {
            "backgroundcolor": "#E5ECF6",
            "gridcolor": "white",
            "gridwidth": 2,
            "linecolor": "white",
            "showbackground": true,
            "ticks": "",
            "zerolinecolor": "white"
           },
           "zaxis": {
            "backgroundcolor": "#E5ECF6",
            "gridcolor": "white",
            "gridwidth": 2,
            "linecolor": "white",
            "showbackground": true,
            "ticks": "",
            "zerolinecolor": "white"
           }
          },
          "shapedefaults": {
           "line": {
            "color": "#2a3f5f"
           }
          },
          "ternary": {
           "aaxis": {
            "gridcolor": "white",
            "linecolor": "white",
            "ticks": ""
           },
           "baxis": {
            "gridcolor": "white",
            "linecolor": "white",
            "ticks": ""
           },
           "bgcolor": "#E5ECF6",
           "caxis": {
            "gridcolor": "white",
            "linecolor": "white",
            "ticks": ""
           }
          },
          "title": {
           "x": 0.05
          },
          "xaxis": {
           "automargin": true,
           "gridcolor": "white",
           "linecolor": "white",
           "ticks": "",
           "title": {
            "standoff": 15
           },
           "zerolinecolor": "white",
           "zerolinewidth": 2
          },
          "yaxis": {
           "automargin": true,
           "gridcolor": "white",
           "linecolor": "white",
           "ticks": "",
           "title": {
            "standoff": 15
           },
           "zerolinecolor": "white",
           "zerolinewidth": 2
          }
         }
        },
        "title": {
         "text": "All data"
        },
        "xaxis": {
         "title": {
          "text": "data points"
         }
        },
        "yaxis": {
         "title": {
          "text": "data"
         }
        }
       }
      },
      "text/html": [
       "<div>                            <div id=\"5ab35ea5-aa6a-4dd8-92f6-11977c74b515\" class=\"plotly-graph-div\" style=\"height:525px; width:100%;\"></div>            <script type=\"text/javascript\">                require([\"plotly\"], function(Plotly) {                    window.PLOTLYENV=window.PLOTLYENV || {};                                    if (document.getElementById(\"5ab35ea5-aa6a-4dd8-92f6-11977c74b515\")) {                    Plotly.newPlot(                        \"5ab35ea5-aa6a-4dd8-92f6-11977c74b515\",                        [{\"line\":{\"width\":1},\"name\":\"X[:,0]\",\"showlegend\":true,\"type\":\"scatter\",\"x\":[0,1,2,3,4,5,6,7,8,9,10,11,12,13,14,15,16,17,18,19,20,21,22,23,24,25,26,27,28,29,30,31,32,33,34,35,36,37,38,39,40,41,42,43,44,45,46,47,48,49,50,51,52,53,54,55,56,57,58,59,60,61,62,63,64,65,66,67,68,69,70,71,72,73,74,75,76,77,78,79,80,81,82,83,84,85,86,87,88,89,90,91,92,93,94,95,96,97,98,99,100,101,102,103,104,105,106,107,108,109,110,111,112,113,114,115,116,117,118,119,120,121,122,123,124,125,126,127,128,129,130,131,132,133,134,135,136,137,138,139,140,141,142,143,144,145,146,147,148,149],\"y\":[5.1,4.9,4.7,4.6,5.0,5.4,4.6,5.0,4.4,4.9,5.4,4.8,4.8,4.3,5.8,5.7,5.4,5.1,5.7,5.1,5.4,5.1,4.6,5.1,4.8,5.0,5.0,5.2,5.2,4.7,4.8,5.4,5.2,5.5,4.9,5.0,5.5,4.9,4.4,5.1,5.0,4.5,4.4,5.0,5.1,4.8,5.1,4.6,5.3,5.0,7.0,6.4,6.9,5.5,6.5,5.7,6.3,4.9,6.6,5.2,5.0,5.9,6.0,6.1,5.6,6.7,5.6,5.8,6.2,5.6,5.9,6.1,6.3,6.1,6.4,6.6,6.8,6.7,6.0,5.7,5.5,5.5,5.8,6.0,5.4,6.0,6.7,6.3,5.6,5.5,5.5,6.1,5.8,5.0,5.6,5.7,5.7,6.2,5.1,5.7,6.3,5.8,7.1,6.3,6.5,7.6,4.9,7.3,6.7,7.2,6.5,6.4,6.8,5.7,5.8,6.4,6.5,7.7,7.7,6.0,6.9,5.6,7.7,6.3,6.7,7.2,6.2,6.1,6.4,7.2,7.4,7.9,6.4,6.3,6.1,7.7,6.3,6.4,6.0,6.9,6.7,6.9,5.8,6.8,6.7,6.7,6.3,6.5,6.2,5.9]},{\"line\":{\"color\":\"yellow\",\"width\":1},\"name\":\"filtsig0\",\"showlegend\":true,\"type\":\"scatter\",\"x\":[0,1,2,3,4,5,6,7,8,9,10,11,12,13,14,15,16,17,18,19,20,21,22,23,24,25,26,27,28,29,30,31,32,33,34,35,36,37,38,39,40,41,42,43,44,45,46,47,48,49,50,51,52,53,54,55,56,57,58,59,60,61,62,63,64,65,66,67,68,69,70,71,72,73,74,75,76,77,78,79,80,81,82,83,84,85,86,87,88,89,90,91,92,93,94,95,96,97,98,99,100,101,102,103,104,105,106,107,108,109,110,111,112,113,114,115,116,117,118,119,120,121,122,123,124,125,126,127,128,129,130,131,132,133,134,135,136,137,138,139,140,141,142,143,144,145,146,147,148,149],\"y\":[5.0,5.0,5.0,5.0,5.0,5.0,5.0,5.0,5.0,5.0,5.0,5.0,5.0,5.0,5.0,5.0,5.0,5.0,5.0,5.0,5.0,5.0,5.0,5.0,4.0,4.0,4.0,4.0,4.0,5.0,5.0,5.0,5.0,5.0,5.0,5.0,5.0,5.0,5.0,5.0,5.0,5.0,5.0,5.0,5.0,5.0,5.0,5.0,5.0,5.0,5.0,5.0,5.0,5.0,5.0,5.0,5.0,5.0,5.0,5.0,5.0,5.0,5.0,5.0,5.0,5.0,5.0,6.0,6.0,6.0,6.0,6.0,6.0,6.0,6.0,6.0,5.0,5.0,5.0,5.0,5.0,5.0,5.0,5.0,5.0,5.0,5.0,5.0,5.0,5.0,5.0,5.0,5.0,5.0,5.0,5.0,5.0,6.0,6.0,6.0,6.0,6.0,6.0,6.0,6.0,6.0,6.0,6.0,6.0,6.0,6.0,6.0,6.0,6.0,6.0,6.0,6.0,6.0,6.0,6.0,6.0,6.0,6.0,6.0,6.0,6.0,6.0,6.0,6.0,6.0,6.0,6.0,6.0,6.0,6.0,6.0,6.0,6.0,6.0,6.0,6.0,6.0,6.0,6.0,6.0,6.0,6.0,6.0,6.0,6.0]},{\"line\":{\"width\":1},\"name\":\"X[:,1]\",\"showlegend\":true,\"type\":\"scatter\",\"x\":[0,1,2,3,4,5,6,7,8,9,10,11,12,13,14,15,16,17,18,19,20,21,22,23,24,25,26,27,28,29,30,31,32,33,34,35,36,37,38,39,40,41,42,43,44,45,46,47,48,49,50,51,52,53,54,55,56,57,58,59,60,61,62,63,64,65,66,67,68,69,70,71,72,73,74,75,76,77,78,79,80,81,82,83,84,85,86,87,88,89,90,91,92,93,94,95,96,97,98,99,100,101,102,103,104,105,106,107,108,109,110,111,112,113,114,115,116,117,118,119,120,121,122,123,124,125,126,127,128,129,130,131,132,133,134,135,136,137,138,139,140,141,142,143,144,145,146,147,148,149],\"y\":[3.5,3.0,3.2,3.1,3.6,3.9,3.4,3.4,2.9,3.1,3.7,3.4,3.0,3.0,4.0,4.4,3.9,3.5,3.8,3.8,3.4,3.7,3.6,3.3,3.4,3.0,3.4,3.5,3.4,3.2,3.1,3.4,4.1,4.2,3.1,3.2,3.5,3.6,3.0,3.4,3.5,2.3,3.2,3.5,3.8,3.0,3.8,3.2,3.7,3.3,3.2,3.2,3.1,2.3,2.8,2.8,3.3,2.4,2.9,2.7,2.0,3.0,2.2,2.9,2.9,3.1,3.0,2.7,2.2,2.5,3.2,2.8,2.5,2.8,2.9,3.0,2.8,3.0,2.9,2.6,2.4,2.4,2.7,2.7,3.0,3.4,3.1,2.3,3.0,2.5,2.6,3.0,2.6,2.3,2.7,3.0,2.9,2.9,2.5,2.8,3.3,2.7,3.0,2.9,3.0,3.0,2.5,2.9,2.5,3.6,3.2,2.7,3.0,2.5,2.8,3.2,3.0,3.8,2.6,2.2,3.2,2.8,2.8,2.7,3.3,3.2,2.8,3.0,2.8,3.0,2.8,3.8,2.8,2.8,2.6,3.0,3.4,3.1,3.0,3.1,3.1,3.1,2.7,3.2,3.3,3.0,2.5,3.0,3.4,3.0]},{\"line\":{\"color\":\"yellow\",\"width\":1},\"name\":\"filtsig0\",\"showlegend\":true,\"type\":\"scatter\",\"x\":[0,1,2,3,4,5,6,7,8,9,10,11,12,13,14,15,16,17,18,19,20,21,22,23,24,25,26,27,28,29,30,31,32,33,34,35,36,37,38,39,40,41,42,43,44,45,46,47,48,49,50,51,52,53,54,55,56,57,58,59,60,61,62,63,64,65,66,67,68,69,70,71,72,73,74,75,76,77,78,79,80,81,82,83,84,85,86,87,88,89,90,91,92,93,94,95,96,97,98,99,100,101,102,103,104,105,106,107,108,109,110,111,112,113,114,115,116,117,118,119,120,121,122,123,124,125,126,127,128,129,130,131,132,133,134,135,136,137,138,139,140,141,142,143,144,145,146,147,148,149],\"y\":[3.0,3.0,3.0,3.0,3.0,3.0,3.0,3.0,3.0,3.0,3.0,3.0,3.0,3.0,3.0,3.0,3.0,3.0,3.0,3.0,3.0,3.0,3.0,3.0,3.0,3.0,3.0,3.0,3.0,3.0,3.0,3.0,3.0,3.0,3.0,3.0,3.0,3.0,3.0,3.0,3.0,3.0,3.0,3.0,3.0,3.0,3.0,3.0,3.0,3.0,3.0,3.0,3.0,2.0,2.0,2.0,2.0,2.0,2.0,2.0,2.0,2.0,2.0,2.0,2.0,2.0,2.0,2.0,2.0,2.0,2.0,2.0,2.0,2.0,2.0,2.0,2.0,2.0,2.0,2.0,2.0,2.0,2.0,2.0,2.0,2.0,2.0,2.0,2.0,2.0,2.0,2.0,2.0,2.0,2.0,2.0,2.0,2.0,2.0,2.0,2.0,2.0,2.0,2.0,2.0,2.0,2.0,2.0,2.0,2.0,2.0,2.0,2.0,2.0,2.0,2.0,2.0,2.0,2.0,2.0,2.0,2.0,2.0,2.0,2.0,2.0,2.0,2.0,2.0,2.0,2.0,2.0,2.0,3.0,3.0,3.0,3.0,3.0,3.0,3.0,3.0,3.0,3.0,3.0,3.0,3.0,3.0,3.0,3.0,3.0]},{\"line\":{\"color\":\"blue\",\"width\":1},\"name\":\"label\",\"showlegend\":true,\"type\":\"scatter\",\"x\":[0,1,2,3,4,5,6,7,8,9,10,11,12,13,14,15,16,17,18,19,20,21,22,23,24,25,26,27,28,29,30,31,32,33,34,35,36,37,38,39,40,41,42,43,44,45,46,47,48,49,50,51,52,53,54,55,56,57,58,59,60,61,62,63,64,65,66,67,68,69,70,71,72,73,74,75,76,77,78,79,80,81,82,83,84,85,86,87,88,89,90,91,92,93,94,95,96,97,98,99,100,101,102,103,104,105,106,107,108,109,110,111,112,113,114,115,116,117,118,119,120,121,122,123,124,125,126,127,128,129,130,131,132,133,134,135,136,137,138,139,140,141,142,143,144,145,146,147,148,149],\"y\":[0,0,0,0,0,0,0,0,0,0,0,0,0,0,0,0,0,0,0,0,0,0,0,0,0,0,0,0,0,0,0,0,0,0,0,0,0,0,0,0,0,0,0,0,0,0,0,0,0,0,2,2,2,1,2,1,2,1,2,1,1,1,1,1,1,2,1,1,1,1,1,1,1,1,2,2,2,2,1,1,1,1,1,1,1,1,2,1,1,1,1,1,1,1,1,1,1,1,1,1,2,1,2,2,2,2,1,2,2,2,2,2,2,1,1,2,2,2,2,1,2,1,2,1,2,2,1,1,2,2,2,2,2,1,1,2,2,2,1,2,2,2,1,2,2,2,1,2,2,1]},{\"line\":{\"color\":\"green\",\"width\":1},\"name\":\"label_mean\",\"showlegend\":true,\"type\":\"scatter\",\"x\":[0,1,2,3,4,5,6,7,8,9,10,11,12,13,14,15,16,17,18,19,20,21,22,23,24,25,26,27,28,29,30,31,32,33,34,35,36,37,38,39,40,41,42,43,44,45,46,47,48,49,50,51,52,53,54,55,56,57,58,59,60,61,62,63,64,65,66,67,68,69,70,71,72,73,74,75,76,77,78,79,80,81,82,83,84,85,86,87,88,89,90,91,92,93,94,95,96,97,98,99,100,101,102,103,104,105,106,107,108,109,110,111,112,113,114,115,116,117,118,119,120,121,122,123,124,125,126,127,128,129,130,131,132,133,134,135,136,137,138,139,140,141,142,143,144,145,146,147,148,149],\"y\":[0.0,0.0,0.0,0.0,0.0,0.0,0.0,0.0,0.0,0.0,0.0,0.0,0.0,0.0,0.0,0.0,0.0,0.0,0.0,0.0,0.0,0.0,0.0,0.0,0.0,0.0,0.0,0.0,0.0,0.0,0.0,0.0,0.0,0.0,0.0,0.0,0.0,0.0,0.0,0.0,0.0,0.0,0.0,0.0,0.0,0.0,0.0,0.0,0.0,0.0,0.0,0.0,0.0,0.0,1.0,0.0,0.0,0.0,1.0,0.0,0.0,0.0,1.0,1.0,0.0,0.0,0.0,0.0,1.0,0.0,0.0,1.0,1.0,1.0,1.0,0.0,1.0,0.0,1.0,0.0,0.0,0.0,0.0,1.0,0.0,0.0,0.0,1.0,0.0,0.0,0.0,0.0,0.0,0.0,0.0,0.0,0.0,1.0,0.0,0.0,0.0,0.0,0.0,1.0,0.0,0.0,0.0,1.0,1.0,0.0,0.0,1.0,0.0,0.0,0.0,0.0,0.0,0.0,1.0,1.0,0.0,0.0,1.0,1.0,0.0,0.0,1.0,0.0,1.0,0.0,1.0,0.0,1.0,1.0,1.0,0.0,0.0,0.0,0.0,0.0,0.0,0.0,0.0,0.0,0.0,0.0,1.0,0.0,0.0,0.0]},{\"line\":{\"color\":\"magenta\",\"width\":1},\"name\":\"label_filt_cyc\",\"showlegend\":true,\"type\":\"scatter\",\"x\":[0,1,2,3,4,5,6,7,8,9,10,11,12,13,14,15,16,17,18,19,20,21,22,23,24,25,26,27,28,29,30,31,32,33,34,35,36,37,38,39,40,41,42,43,44,45,46,47,48,49,50,51,52,53,54,55,56,57,58,59,60,61,62,63,64,65,66,67,68,69,70,71,72,73,74,75,76,77,78,79,80,81,82,83,84,85,86,87,88,89,90,91,92,93,94,95,96,97,98,99,100,101,102,103,104,105,106,107,108,109,110,111,112,113,114,115,116,117,118,119,120,121,122,123,124,125,126,127,128,129,130,131,132,133,134,135,136,137,138,139,140,141,142,143,144,145,146,147,148,149],\"y\":[0.0,0.0,0.0,0.0,0.0,0.0,0.0,0.0,0.0,0.0,0.0,0.0,-1.0,-1.0,-1.0,0.0,0.0,0.0,0.0,0.0,0.0,0.0,0.0,0.0,0.0,0.0,0.0,0.0,0.0,0.0,0.0,0.0,0.0,0.0,1.0,1.0,1.0,1.0,0.0,0.0,0.0,0.0,0.0,0.0,0.0,0.0,0.0,0.0,0.0,1.0,1.0,1.0,1.0,1.0,1.0,1.0,1.0,1.0,1.0,1.0,1.0,1.0,1.0,1.0,1.0,1.0,1.0,1.0,1.0,1.0,1.0,1.0,1.0,1.0,1.0,0.0,0.0,0.0,0.0,0.0,0.0,0.0,0.0,0.0,0.0,0.0,0.0,0.0,0.0,0.0,0.0,0.0,0.0,0.0,0.0,0.0,0.0,0.0,0.0,0.0,0.0,-1.0,-1.0,-1.0,-1.0,-1.0,-1.0,-1.0,-1.0,-1.0,-1.0,-1.0,-1.0,-1.0,-1.0,-1.0,-1.0,-1.0,-1.0,-1.0,-1.0,-1.0,-1.0,-1.0,-1.0,-1.0,-1.0,-1.0,-1.0,-1.0,-1.0,-1.0,-1.0,-1.0,-1.0,-1.0,-1.0,-1.0,-1.0,-1.0,-1.0,-1.0,0.0,0.0,0.0,0.0,0.0,0.0,0.0,0.0]}],                        {\"template\":{\"data\":{\"bar\":[{\"error_x\":{\"color\":\"#2a3f5f\"},\"error_y\":{\"color\":\"#2a3f5f\"},\"marker\":{\"line\":{\"color\":\"#E5ECF6\",\"width\":0.5},\"pattern\":{\"fillmode\":\"overlay\",\"size\":10,\"solidity\":0.2}},\"type\":\"bar\"}],\"barpolar\":[{\"marker\":{\"line\":{\"color\":\"#E5ECF6\",\"width\":0.5},\"pattern\":{\"fillmode\":\"overlay\",\"size\":10,\"solidity\":0.2}},\"type\":\"barpolar\"}],\"carpet\":[{\"aaxis\":{\"endlinecolor\":\"#2a3f5f\",\"gridcolor\":\"white\",\"linecolor\":\"white\",\"minorgridcolor\":\"white\",\"startlinecolor\":\"#2a3f5f\"},\"baxis\":{\"endlinecolor\":\"#2a3f5f\",\"gridcolor\":\"white\",\"linecolor\":\"white\",\"minorgridcolor\":\"white\",\"startlinecolor\":\"#2a3f5f\"},\"type\":\"carpet\"}],\"choropleth\":[{\"colorbar\":{\"outlinewidth\":0,\"ticks\":\"\"},\"type\":\"choropleth\"}],\"contour\":[{\"colorbar\":{\"outlinewidth\":0,\"ticks\":\"\"},\"colorscale\":[[0.0,\"#0d0887\"],[0.1111111111111111,\"#46039f\"],[0.2222222222222222,\"#7201a8\"],[0.3333333333333333,\"#9c179e\"],[0.4444444444444444,\"#bd3786\"],[0.5555555555555556,\"#d8576b\"],[0.6666666666666666,\"#ed7953\"],[0.7777777777777778,\"#fb9f3a\"],[0.8888888888888888,\"#fdca26\"],[1.0,\"#f0f921\"]],\"type\":\"contour\"}],\"contourcarpet\":[{\"colorbar\":{\"outlinewidth\":0,\"ticks\":\"\"},\"type\":\"contourcarpet\"}],\"heatmap\":[{\"colorbar\":{\"outlinewidth\":0,\"ticks\":\"\"},\"colorscale\":[[0.0,\"#0d0887\"],[0.1111111111111111,\"#46039f\"],[0.2222222222222222,\"#7201a8\"],[0.3333333333333333,\"#9c179e\"],[0.4444444444444444,\"#bd3786\"],[0.5555555555555556,\"#d8576b\"],[0.6666666666666666,\"#ed7953\"],[0.7777777777777778,\"#fb9f3a\"],[0.8888888888888888,\"#fdca26\"],[1.0,\"#f0f921\"]],\"type\":\"heatmap\"}],\"heatmapgl\":[{\"colorbar\":{\"outlinewidth\":0,\"ticks\":\"\"},\"colorscale\":[[0.0,\"#0d0887\"],[0.1111111111111111,\"#46039f\"],[0.2222222222222222,\"#7201a8\"],[0.3333333333333333,\"#9c179e\"],[0.4444444444444444,\"#bd3786\"],[0.5555555555555556,\"#d8576b\"],[0.6666666666666666,\"#ed7953\"],[0.7777777777777778,\"#fb9f3a\"],[0.8888888888888888,\"#fdca26\"],[1.0,\"#f0f921\"]],\"type\":\"heatmapgl\"}],\"histogram\":[{\"marker\":{\"pattern\":{\"fillmode\":\"overlay\",\"size\":10,\"solidity\":0.2}},\"type\":\"histogram\"}],\"histogram2d\":[{\"colorbar\":{\"outlinewidth\":0,\"ticks\":\"\"},\"colorscale\":[[0.0,\"#0d0887\"],[0.1111111111111111,\"#46039f\"],[0.2222222222222222,\"#7201a8\"],[0.3333333333333333,\"#9c179e\"],[0.4444444444444444,\"#bd3786\"],[0.5555555555555556,\"#d8576b\"],[0.6666666666666666,\"#ed7953\"],[0.7777777777777778,\"#fb9f3a\"],[0.8888888888888888,\"#fdca26\"],[1.0,\"#f0f921\"]],\"type\":\"histogram2d\"}],\"histogram2dcontour\":[{\"colorbar\":{\"outlinewidth\":0,\"ticks\":\"\"},\"colorscale\":[[0.0,\"#0d0887\"],[0.1111111111111111,\"#46039f\"],[0.2222222222222222,\"#7201a8\"],[0.3333333333333333,\"#9c179e\"],[0.4444444444444444,\"#bd3786\"],[0.5555555555555556,\"#d8576b\"],[0.6666666666666666,\"#ed7953\"],[0.7777777777777778,\"#fb9f3a\"],[0.8888888888888888,\"#fdca26\"],[1.0,\"#f0f921\"]],\"type\":\"histogram2dcontour\"}],\"mesh3d\":[{\"colorbar\":{\"outlinewidth\":0,\"ticks\":\"\"},\"type\":\"mesh3d\"}],\"parcoords\":[{\"line\":{\"colorbar\":{\"outlinewidth\":0,\"ticks\":\"\"}},\"type\":\"parcoords\"}],\"pie\":[{\"automargin\":true,\"type\":\"pie\"}],\"scatter\":[{\"marker\":{\"colorbar\":{\"outlinewidth\":0,\"ticks\":\"\"}},\"type\":\"scatter\"}],\"scatter3d\":[{\"line\":{\"colorbar\":{\"outlinewidth\":0,\"ticks\":\"\"}},\"marker\":{\"colorbar\":{\"outlinewidth\":0,\"ticks\":\"\"}},\"type\":\"scatter3d\"}],\"scattercarpet\":[{\"marker\":{\"colorbar\":{\"outlinewidth\":0,\"ticks\":\"\"}},\"type\":\"scattercarpet\"}],\"scattergeo\":[{\"marker\":{\"colorbar\":{\"outlinewidth\":0,\"ticks\":\"\"}},\"type\":\"scattergeo\"}],\"scattergl\":[{\"marker\":{\"colorbar\":{\"outlinewidth\":0,\"ticks\":\"\"}},\"type\":\"scattergl\"}],\"scattermapbox\":[{\"marker\":{\"colorbar\":{\"outlinewidth\":0,\"ticks\":\"\"}},\"type\":\"scattermapbox\"}],\"scatterpolar\":[{\"marker\":{\"colorbar\":{\"outlinewidth\":0,\"ticks\":\"\"}},\"type\":\"scatterpolar\"}],\"scatterpolargl\":[{\"marker\":{\"colorbar\":{\"outlinewidth\":0,\"ticks\":\"\"}},\"type\":\"scatterpolargl\"}],\"scatterternary\":[{\"marker\":{\"colorbar\":{\"outlinewidth\":0,\"ticks\":\"\"}},\"type\":\"scatterternary\"}],\"surface\":[{\"colorbar\":{\"outlinewidth\":0,\"ticks\":\"\"},\"colorscale\":[[0.0,\"#0d0887\"],[0.1111111111111111,\"#46039f\"],[0.2222222222222222,\"#7201a8\"],[0.3333333333333333,\"#9c179e\"],[0.4444444444444444,\"#bd3786\"],[0.5555555555555556,\"#d8576b\"],[0.6666666666666666,\"#ed7953\"],[0.7777777777777778,\"#fb9f3a\"],[0.8888888888888888,\"#fdca26\"],[1.0,\"#f0f921\"]],\"type\":\"surface\"}],\"table\":[{\"cells\":{\"fill\":{\"color\":\"#EBF0F8\"},\"line\":{\"color\":\"white\"}},\"header\":{\"fill\":{\"color\":\"#C8D4E3\"},\"line\":{\"color\":\"white\"}},\"type\":\"table\"}]},\"layout\":{\"annotationdefaults\":{\"arrowcolor\":\"#2a3f5f\",\"arrowhead\":0,\"arrowwidth\":1},\"autotypenumbers\":\"strict\",\"coloraxis\":{\"colorbar\":{\"outlinewidth\":0,\"ticks\":\"\"}},\"colorscale\":{\"diverging\":[[0,\"#8e0152\"],[0.1,\"#c51b7d\"],[0.2,\"#de77ae\"],[0.3,\"#f1b6da\"],[0.4,\"#fde0ef\"],[0.5,\"#f7f7f7\"],[0.6,\"#e6f5d0\"],[0.7,\"#b8e186\"],[0.8,\"#7fbc41\"],[0.9,\"#4d9221\"],[1,\"#276419\"]],\"sequential\":[[0.0,\"#0d0887\"],[0.1111111111111111,\"#46039f\"],[0.2222222222222222,\"#7201a8\"],[0.3333333333333333,\"#9c179e\"],[0.4444444444444444,\"#bd3786\"],[0.5555555555555556,\"#d8576b\"],[0.6666666666666666,\"#ed7953\"],[0.7777777777777778,\"#fb9f3a\"],[0.8888888888888888,\"#fdca26\"],[1.0,\"#f0f921\"]],\"sequentialminus\":[[0.0,\"#0d0887\"],[0.1111111111111111,\"#46039f\"],[0.2222222222222222,\"#7201a8\"],[0.3333333333333333,\"#9c179e\"],[0.4444444444444444,\"#bd3786\"],[0.5555555555555556,\"#d8576b\"],[0.6666666666666666,\"#ed7953\"],[0.7777777777777778,\"#fb9f3a\"],[0.8888888888888888,\"#fdca26\"],[1.0,\"#f0f921\"]]},\"colorway\":[\"#636efa\",\"#EF553B\",\"#00cc96\",\"#ab63fa\",\"#FFA15A\",\"#19d3f3\",\"#FF6692\",\"#B6E880\",\"#FF97FF\",\"#FECB52\"],\"font\":{\"color\":\"#2a3f5f\"},\"geo\":{\"bgcolor\":\"white\",\"lakecolor\":\"white\",\"landcolor\":\"#E5ECF6\",\"showlakes\":true,\"showland\":true,\"subunitcolor\":\"white\"},\"hoverlabel\":{\"align\":\"left\"},\"hovermode\":\"closest\",\"mapbox\":{\"style\":\"light\"},\"paper_bgcolor\":\"white\",\"plot_bgcolor\":\"#E5ECF6\",\"polar\":{\"angularaxis\":{\"gridcolor\":\"white\",\"linecolor\":\"white\",\"ticks\":\"\"},\"bgcolor\":\"#E5ECF6\",\"radialaxis\":{\"gridcolor\":\"white\",\"linecolor\":\"white\",\"ticks\":\"\"}},\"scene\":{\"xaxis\":{\"backgroundcolor\":\"#E5ECF6\",\"gridcolor\":\"white\",\"gridwidth\":2,\"linecolor\":\"white\",\"showbackground\":true,\"ticks\":\"\",\"zerolinecolor\":\"white\"},\"yaxis\":{\"backgroundcolor\":\"#E5ECF6\",\"gridcolor\":\"white\",\"gridwidth\":2,\"linecolor\":\"white\",\"showbackground\":true,\"ticks\":\"\",\"zerolinecolor\":\"white\"},\"zaxis\":{\"backgroundcolor\":\"#E5ECF6\",\"gridcolor\":\"white\",\"gridwidth\":2,\"linecolor\":\"white\",\"showbackground\":true,\"ticks\":\"\",\"zerolinecolor\":\"white\"}},\"shapedefaults\":{\"line\":{\"color\":\"#2a3f5f\"}},\"ternary\":{\"aaxis\":{\"gridcolor\":\"white\",\"linecolor\":\"white\",\"ticks\":\"\"},\"baxis\":{\"gridcolor\":\"white\",\"linecolor\":\"white\",\"ticks\":\"\"},\"bgcolor\":\"#E5ECF6\",\"caxis\":{\"gridcolor\":\"white\",\"linecolor\":\"white\",\"ticks\":\"\"}},\"title\":{\"x\":0.05},\"xaxis\":{\"automargin\":true,\"gridcolor\":\"white\",\"linecolor\":\"white\",\"ticks\":\"\",\"title\":{\"standoff\":15},\"zerolinecolor\":\"white\",\"zerolinewidth\":2},\"yaxis\":{\"automargin\":true,\"gridcolor\":\"white\",\"linecolor\":\"white\",\"ticks\":\"\",\"title\":{\"standoff\":15},\"zerolinecolor\":\"white\",\"zerolinewidth\":2}}},\"title\":{\"text\":\"All data\"},\"xaxis\":{\"title\":{\"text\":\"data points\"}},\"yaxis\":{\"title\":{\"text\":\"data\"}}},                        {\"scrollZoom\": true, \"displayModeBar\": true, \"editable\": true, \"responsive\": true}                    ).then(function(){\n",
       "                            \n",
       "var gd = document.getElementById('5ab35ea5-aa6a-4dd8-92f6-11977c74b515');\n",
       "var x = new MutationObserver(function (mutations, observer) {{\n",
       "        var display = window.getComputedStyle(gd).display;\n",
       "        if (!display || display === 'none') {{\n",
       "            console.log([gd, 'removed!']);\n",
       "            Plotly.purge(gd);\n",
       "            observer.disconnect();\n",
       "        }}\n",
       "}});\n",
       "\n",
       "// Listen for the removal of the full notebook cells\n",
       "var notebookContainer = gd.closest('#notebook-container');\n",
       "if (notebookContainer) {{\n",
       "    x.observe(notebookContainer, {childList: true});\n",
       "}}\n",
       "\n",
       "// Listen for the clearing of the current output cell\n",
       "var outputEl = gd.closest('.output');\n",
       "if (outputEl) {{\n",
       "    x.observe(outputEl, {childList: true});\n",
       "}}\n",
       "\n",
       "                        })                };                });            </script>        </div>"
      ]
     },
     "metadata": {},
     "output_type": "display_data"
    }
   ],
   "source": [
    "import plotly.graph_objects as go\n",
    "fig = go.Figure()\n",
    "config = dict({'scrollZoom': True, 'displayModeBar': True, 'editable': True})\n",
    "\n",
    "xxORG = list(range(X.shape[0]))\n",
    "for i in range(X.shape[1]):\n",
    "    fig.add_trace(go.Scatter(x=xxORG, y=X[:,i], name='X[:,%d]' % i,  line=dict(width=1), showlegend=True))\n",
    "    fig.add_trace(go.Scatter(x=xxORG, y=bin_filtsig[i], name='filtsig0',  line=dict(color='yellow', width=1), showlegend=True))\n",
    "\n",
    "# Plot unsupervised labels\n",
    "fig.add_trace(go.Scatter(x=xxORG, y=label, name='label',  line=dict(color='blue', width=1), showlegend=True))\n",
    "fig.add_trace(go.Scatter(x=xxORG, y=label_mean, name='label_mean',  line=dict(color='green', width=1), showlegend=True))\n",
    "fig.add_trace(go.Scatter(x=xxORG, y=label_filt_cyc, name='label_filt_cyc',  line=dict(color='magenta', width=1), showlegend=True))\n",
    "\n",
    "title_str = 'All data'\n",
    "fig.update_layout(title=title_str, xaxis_title='data points', yaxis_title='data')\n",
    "fig.show(config=config)"
   ]
  },
  {
   "cell_type": "markdown",
   "id": "96b55166",
   "metadata": {},
   "source": [
    "# Prediction with real/ground-truth label"
   ]
  },
  {
   "cell_type": "markdown",
   "id": "530f8fd4",
   "metadata": {},
   "source": [
    "## True label"
   ]
  },
  {
   "cell_type": "code",
   "execution_count": 12,
   "id": "245b2610",
   "metadata": {},
   "outputs": [
    {
     "name": "stdout",
     "output_type": "stream",
     "text": [
      "shape of X_train :  (112, 2)\n",
      "shape of Y_train_1D :  (112,)\n",
      "shape of X_test :  (38, 2)\n",
      "shape of Y_test_1D :  (38,)\n"
     ]
    },
    {
     "data": {
      "image/png": "[encoded data removed]",
      "text/plain": [
       "<Figure size 432x288 with 1 Axes>"
      ]
     },
     "metadata": {
      "needs_background": "light"
     },
     "output_type": "display_data"
    },
    {
     "name": "stdout",
     "output_type": "stream",
     "text": [
      "shape of Y_train_bin_pp :  (112, 3)\n",
      "shape of Y_test_bin_pp :  (38, 3)\n",
      "shape of Y_train_bin_score :  (112, 3)\n",
      "shape of Y_test_bin_score :  (38, 3)\n",
      "shape of Y_bin :  (112, 3)\n",
      "shape of Y_bin :  (112, 3)\n",
      "shape of Y_bin :  (112, 3)\n",
      "shape of Y_bin_predict :  (112, 3)\n",
      "prec_recall_f_dircalc :  (0.8303571428571429, 0.8303571428571429, 0.8303571428571429, None)\n",
      "value_pack_train :  {'acc_crossval': array([0.82608696, 0.60869565, 0.68181818, 0.54545455, 0.72727273]), 'prec_crossval': array([nan, nan, nan, nan, nan]), 'recall_crossval': array([nan, nan, nan, nan, nan]), 'rocauc_ovo_crossval': array([nan, nan, nan, nan, nan]), 'roc_auc_ovo_weighted_crossval': array([nan, nan, nan, nan, nan]), 'acc_dircalc': 0.8303571428571429, 'prec_dircalc': 0.8303571428571429, 'recall_dircalc': 0.8303571428571429, 'f1_dircalc': 0.8303571428571429, 'fbeta_dircalc': 0.8303571428571429, 'prec_recall_f_dircalc': (0.8303571428571429, 0.8303571428571429, 0.8303571428571429, None), 'rocauc_pp_dircalc': 0.9281728316326531, 'rocauc_df_dircalc': 0.9281728316326531}\n",
      "shape of Y_bin :  (38, 3)\n",
      "shape of Y_bin :  (38, 3)\n",
      "shape of Y_bin :  (38, 3)\n",
      "shape of Y_bin_predict :  (38, 3)\n",
      "prec_recall_f_dircalc :  (0.6578947368421053, 0.6578947368421053, 0.6578947368421053, None)\n",
      "value_pack_test :  {'acc_crossval': array([0.75      , 0.75      , 0.5       , 0.57142857, 0.85714286]), 'prec_crossval': array([nan, nan, nan, nan, nan]), 'recall_crossval': array([nan, nan, nan, nan, nan]), 'rocauc_ovo_crossval': array([nan, nan, nan, nan, nan]), 'roc_auc_ovo_weighted_crossval': array([nan, nan, nan, nan, nan]), 'acc_dircalc': 0.6578947368421053, 'prec_dircalc': 0.6578947368421053, 'recall_dircalc': 0.6578947368421053, 'f1_dircalc': 0.6578947368421053, 'fbeta_dircalc': 0.6578947368421053, 'prec_recall_f_dircalc': (0.6578947368421053, 0.6578947368421053, 0.6578947368421053, None), 'rocauc_pp_dircalc': 0.8981994459833795, 'rocauc_df_dircalc': 0.8981994459833795}\n"
     ]
    }
   ],
   "source": [
    "# Multi-class case : \n",
    "X_train, X_test, Y_train_1D, Y_test_1D = do_train_test_split(X, y)\n",
    "\n",
    "check_if_Y_1D_is_correct(Y_test_1D)\n",
    "\n",
    "# multi-class Stochastic Gradient Descent\n",
    "model, Y_train_1D_predict, Y_test_1D_predict, Y_train_bin_pp, Y_test_bin_pp, Y_train_bin_score, Y_test_bin_score = multiclass_stochastic_gradient_descent(X_train, X_test, Y_train_1D, Y_test_1D)\n",
    "\n",
    "value_pack_train = evaluation_methods_multi_class_1D(model, X_train, Y_train_1D, Y_train_1D_predict, Y_train_bin_pp, Y_train_bin_score)\n",
    "print('value_pack_train : ', value_pack_train)\n",
    "\n",
    "value_pack_test = evaluation_methods_multi_class_1D(model, X_test, Y_test_1D, Y_test_1D_predict, Y_test_bin_pp, Y_test_bin_score)\n",
    "print('value_pack_test : ', value_pack_test)"
   ]
  },
  {
   "cell_type": "markdown",
   "id": "f7dfcc11",
   "metadata": {},
   "source": [
    "## Clustering label"
   ]
  },
  {
   "cell_type": "code",
   "execution_count": 13,
   "id": "f08f6c24",
   "metadata": {},
   "outputs": [
    {
     "name": "stdout",
     "output_type": "stream",
     "text": [
      "shape of X_train :  (112, 2)\n",
      "shape of Y_train_1D :  (112,)\n",
      "shape of X_test :  (38, 2)\n",
      "shape of Y_test_1D :  (38,)\n"
     ]
    },
    {
     "data": {
      "image/png": "[encoded data removed]",
      "text/plain": [
       "<Figure size 432x288 with 1 Axes>"
      ]
     },
     "metadata": {
      "needs_background": "light"
     },
     "output_type": "display_data"
    },
    {
     "name": "stdout",
     "output_type": "stream",
     "text": [
      "shape of Y_train_bin_pp :  (112, 3)\n",
      "shape of Y_test_bin_pp :  (38, 3)\n",
      "shape of Y_train_bin_score :  (112, 3)\n",
      "shape of Y_test_bin_score :  (38, 3)\n",
      "shape of Y_bin :  (112, 3)\n",
      "shape of Y_bin :  (112, 3)\n",
      "shape of Y_bin :  (112, 3)\n",
      "shape of Y_bin_predict :  (112, 3)\n",
      "prec_recall_f_dircalc :  (0.9553571428571429, 0.9553571428571429, 0.955357142857143, None)\n",
      "value_pack_train :  {'acc_crossval': array([0.69565217, 0.91304348, 0.72727273, 0.68181818, 0.59090909]), 'prec_crossval': array([nan, nan, nan, nan, nan]), 'recall_crossval': array([nan, nan, nan, nan, nan]), 'rocauc_ovo_crossval': array([nan, nan, nan, nan, nan]), 'roc_auc_ovo_weighted_crossval': array([nan, nan, nan, nan, nan]), 'acc_dircalc': 0.9553571428571429, 'prec_dircalc': 0.9553571428571429, 'recall_dircalc': 0.9553571428571429, 'f1_dircalc': 0.9553571428571429, 'fbeta_dircalc': 0.955357142857143, 'prec_recall_f_dircalc': (0.9553571428571429, 0.9553571428571429, 0.955357142857143, None), 'rocauc_pp_dircalc': 0.9167330994897959, 'rocauc_df_dircalc': 0.9167330994897959}\n",
      "shape of Y_bin :  (38, 3)\n",
      "shape of Y_bin :  (38, 3)\n",
      "shape of Y_bin :  (38, 3)\n",
      "shape of Y_bin_predict :  (38, 3)\n",
      "prec_recall_f_dircalc :  (0.9210526315789473, 0.9210526315789473, 0.9210526315789472, None)\n",
      "value_pack_test :  {'acc_crossval': array([0.5       , 0.75      , 0.625     , 0.57142857, 0.42857143]), 'prec_crossval': array([nan, nan, nan, nan, nan]), 'recall_crossval': array([nan, nan, nan, nan, nan]), 'rocauc_ovo_crossval': array([nan, nan, nan, nan, nan]), 'roc_auc_ovo_weighted_crossval': array([nan, nan, nan, nan, nan]), 'acc_dircalc': 0.9210526315789473, 'prec_dircalc': 0.9210526315789473, 'recall_dircalc': 0.9210526315789473, 'f1_dircalc': 0.9210526315789473, 'fbeta_dircalc': 0.9210526315789472, 'prec_recall_f_dircalc': (0.9210526315789473, 0.9210526315789473, 0.9210526315789472, None), 'rocauc_pp_dircalc': 0.9511772853185596, 'rocauc_df_dircalc': 0.9511772853185596}\n"
     ]
    }
   ],
   "source": [
    "# Multi-class case : \n",
    "X_train, X_test, Y_train_1D, Y_test_1D = do_train_test_split(X, label)\n",
    "\n",
    "check_if_Y_1D_is_correct(Y_test_1D)\n",
    "\n",
    "# multi-class Stochastic Gradient Descent\n",
    "model, Y_train_1D_predict, Y_test_1D_predict, Y_train_bin_pp, Y_test_bin_pp, Y_train_bin_score, Y_test_bin_score = multiclass_stochastic_gradient_descent(X_train, X_test, Y_train_1D, Y_test_1D)\n",
    "\n",
    "value_pack_train = evaluation_methods_multi_class_1D(model, X_train, Y_train_1D, Y_train_1D_predict, Y_train_bin_pp, Y_train_bin_score)\n",
    "print('value_pack_train : ', value_pack_train)\n",
    "\n",
    "value_pack_test = evaluation_methods_multi_class_1D(model, X_test, Y_test_1D, Y_test_1D_predict, Y_test_bin_pp, Y_test_bin_score)\n",
    "print('value_pack_test : ', value_pack_test)"
   ]
  },
  {
   "cell_type": "markdown",
   "id": "9f250430",
   "metadata": {},
   "source": [
    "## Mean significance label"
   ]
  },
  {
   "cell_type": "code",
   "execution_count": 15,
   "id": "9c6e60bd",
   "metadata": {
    "scrolled": false
   },
   "outputs": [
    {
     "name": "stdout",
     "output_type": "stream",
     "text": [
      "shape of X_train :  (112, 2)\n",
      "shape of Y_train_1D :  (112,)\n",
      "shape of X_test :  (38, 2)\n",
      "shape of Y_test_1D :  (38,)\n"
     ]
    },
    {
     "data": {
      "image/png": "[encoded data removed]",
      "text/plain": [
       "<Figure size 432x288 with 1 Axes>"
      ]
     },
     "metadata": {
      "needs_background": "light"
     },
     "output_type": "display_data"
    },
    {
     "name": "stdout",
     "output_type": "stream",
     "text": [
      "shape of Y_train_bin_pp :  (112, 2)\n",
      "shape of Y_test_bin_pp :  (38, 2)\n",
      "shape of Y_train_1D_score :  (112,)\n",
      "shape of Y_test_1D_score :  (38,)\n",
      "acc_crossval :  [0.91304348 0.69565217 0.90909091 0.95454545 0.86363636]\n",
      "prec_crossval :  [0.   0.25 1.   0.   1.  ]\n",
      "recall_crossval :  [0.         1.         0.33333333 0.         0.        ]\n",
      "rocauc_crossval :  [0.93333333 0.96052632 0.87719298 1.         0.9122807 ]\n",
      "matrix_of_counts :  [[94  2]\n",
      " [ 7  9]]\n",
      "matrix_normalized :  [[0.83928571 0.01785714]\n",
      " [0.0625     0.08035714]]\n",
      "acc_dircalc :  0.9196428571428571\n",
      "prec_dircalc :  0.9196428571428571\n",
      "recall_dircalc :  0.9196428571428571\n",
      "f1_dircalc :  0.9196428571428571\n",
      "fbeta_dircalc :  0.9196428571428571\n",
      "prec_recall_f_dircalc :  (0.9196428571428571, 0.9196428571428571, 0.9196428571428571, None)\n",
      "shape of Y_1D :  (112,)\n",
      "shape of Y_1D_pp :  (112,)\n",
      "rocauc_pp_dircalc :  0.06510416666666667\n",
      "rocauc_df_dircalc :  0.9407552083333334\n",
      "value_pack_train :  {'acc_crossval': array([0.91304348, 0.69565217, 0.90909091, 0.95454545, 0.86363636]), 'prec_crossval': array([0.  , 0.25, 1.  , 0.  , 1.  ]), 'recall_crossval': array([0.        , 1.        , 0.33333333, 0.        , 0.        ]), 'rocauc_crossval': array([0.93333333, 0.96052632, 0.87719298, 1.        , 0.9122807 ]), 'tn': 0.8392857142857143, 'fp': 0.017857142857142856, 'fn': 0.0625, 'tp': 0.08035714285714286, 'acc_dircalc': 0.9196428571428571, 'prec_dircalc': 0.9196428571428571, 'recall_dircalc': 0.9196428571428571, 'f1_dircalc': 0.9196428571428571, 'fbeta_dircalc': 0.9196428571428571, 'prec_recall_f_dircalc': (0.9196428571428571, 0.9196428571428571, 0.9196428571428571, None), 'rocauc_pp_dircalc': 0.06510416666666667, 'rocauc_df_dircalc': 0.9407552083333334}\n",
      "acc_crossval :  [1.         0.75       0.75       0.71428571 1.        ]\n",
      "prec_crossval :  [0.  0.5 0.  1.  0. ]\n",
      "recall_crossval :  [1.         0.33333333 0.         0.         0.        ]\n",
      "rocauc_crossval :  [1.         0.86666667 1.         1.         1.        ]\n",
      "matrix_of_counts :  [[25  0]\n",
      " [11  2]]\n",
      "matrix_normalized :  [[0.65789474 0.        ]\n",
      " [0.28947368 0.05263158]]\n",
      "acc_dircalc :  0.7105263157894737\n",
      "prec_dircalc :  0.7105263157894737\n",
      "recall_dircalc :  0.7105263157894737\n",
      "f1_dircalc :  0.7105263157894737\n",
      "fbeta_dircalc :  0.7105263157894737\n",
      "prec_recall_f_dircalc :  (0.7105263157894737, 0.7105263157894737, 0.7105263157894737, None)\n",
      "shape of Y_1D :  (38,)\n",
      "shape of Y_1D_pp :  (38,)\n",
      "rocauc_pp_dircalc :  0.0\n",
      "rocauc_df_dircalc :  0.9723076923076923\n",
      "value_pack_test :  {'acc_crossval': array([1.        , 0.75      , 0.75      , 0.71428571, 1.        ]), 'prec_crossval': array([0. , 0.5, 0. , 1. , 0. ]), 'recall_crossval': array([1.        , 0.33333333, 0.        , 0.        , 0.        ]), 'rocauc_crossval': array([1.        , 0.86666667, 1.        , 1.        , 1.        ]), 'tn': 0.6578947368421053, 'fp': 0.0, 'fn': 0.2894736842105263, 'tp': 0.05263157894736842, 'acc_dircalc': 0.7105263157894737, 'prec_dircalc': 0.7105263157894737, 'recall_dircalc': 0.7105263157894737, 'f1_dircalc': 0.7105263157894737, 'fbeta_dircalc': 0.7105263157894737, 'prec_recall_f_dircalc': (0.7105263157894737, 0.7105263157894737, 0.7105263157894737, None), 'rocauc_pp_dircalc': 0.0, 'rocauc_df_dircalc': 0.9723076923076923}\n"
     ]
    }
   ],
   "source": [
    "# Multi-class case : \n",
    "X_train, X_test, Y_train_1D, Y_test_1D = do_train_test_split(X, label_mean)\n",
    "\n",
    "check_if_Y_1D_is_correct(Y_test_1D)\n",
    "\n",
    "# 5) 2-class Stochastic Gradient Descent\n",
    "model, Y_train_1D_predict, Y_test_1D_predict, Y_train_bin_pp, Y_test_bin_pp, Y_train_1D_score, Y_test_1D_score = binary_stochastic_gradient_descent(X_train, X_test, Y_train_1D, Y_test_1D)\n",
    "\n",
    "value_pack_train = evaluation_methods_binary_class(model, X_train, Y_train_1D, Y_train_1D_predict, Y_train_bin_pp, Y_train_1D_score)\n",
    "print('value_pack_train : ', value_pack_train)\n",
    "\n",
    "value_pack_test = evaluation_methods_binary_class(model, X_test, Y_test_1D, Y_test_1D_predict, Y_test_bin_pp, Y_test_1D_score)\n",
    "print('value_pack_test : ', value_pack_test)"
   ]
  },
  {
   "cell_type": "markdown",
   "id": "80f7811e",
   "metadata": {},
   "source": [
    "## Filter cyclical label"
   ]
  },
  {
   "cell_type": "code",
   "execution_count": 40,
   "id": "cfa1c168",
   "metadata": {
    "scrolled": false
   },
   "outputs": [
    {
     "name": "stdout",
     "output_type": "stream",
     "text": [
      "shape of X_train :  (112, 2)\n",
      "shape of Y_train_1D :  (112,)\n",
      "shape of X_test :  (38, 2)\n",
      "shape of Y_test_1D :  (38,)\n"
     ]
    },
    {
     "data": {
      "image/png": "[encoded data removed]",
      "text/plain": [
       "<Figure size 432x288 with 1 Axes>"
      ]
     },
     "metadata": {
      "needs_background": "light"
     },
     "output_type": "display_data"
    },
    {
     "name": "stdout",
     "output_type": "stream",
     "text": [
      "shape of Y_train_bin_pp :  (112, 3)\n",
      "shape of Y_test_bin_pp :  (38, 3)\n",
      "shape of Y_train_bin_score :  (112, 3)\n",
      "shape of Y_test_bin_score :  (38, 3)\n",
      "shape of Y_bin :  (112, 3)\n",
      "shape of Y_bin :  (112, 2)\n",
      "shape of Y_bin :  (112, 3)\n",
      "shape of Y_bin_predict :  (112, 2)\n",
      "prec_recall_f_dircalc :  (0.6696428571428571, 0.6696428571428571, 0.6696428571428571, None)\n",
      "value_pack_train :  {'acc_crossval': array([0.52173913, 0.52173913, 0.27272727, 0.5       , 0.54545455]), 'prec_crossval': array([nan, nan, nan, nan, nan]), 'recall_crossval': array([nan, nan, nan, nan, nan]), 'rocauc_ovo_crossval': array([nan, nan, nan, nan, nan]), 'roc_auc_ovo_weighted_crossval': array([nan, nan, nan, nan, nan]), 'acc_dircalc': 0.6696428571428571, 'prec_dircalc': 0.6696428571428571, 'recall_dircalc': 0.6696428571428571, 'f1_dircalc': 0.6696428571428571, 'fbeta_dircalc': 0.6696428571428571, 'prec_recall_f_dircalc': (0.6696428571428571, 0.6696428571428571, 0.6696428571428571, None), 'rocauc_pp_dircalc': 0.7444993622448979, 'rocauc_df_dircalc': 0.7444993622448979}\n",
      "shape of Y_bin :  (38, 3)\n",
      "shape of Y_bin :  (38, 2)\n",
      "shape of Y_bin :  (38, 3)\n",
      "shape of Y_bin_predict :  (38, 2)\n",
      "prec_recall_f_dircalc :  (0.6052631578947368, 0.6052631578947368, 0.6052631578947368, None)\n",
      "value_pack_test :  {'acc_crossval': array([0.5       , 0.25      , 0.75      , 0.42857143, 0.57142857]), 'prec_crossval': array([nan, nan, nan, nan, nan]), 'recall_crossval': array([nan, nan, nan, nan, nan]), 'rocauc_ovo_crossval': array([nan, nan, nan, nan, nan]), 'roc_auc_ovo_weighted_crossval': array([nan, nan, nan, nan, nan]), 'acc_dircalc': 0.6052631578947368, 'prec_dircalc': 0.6052631578947368, 'recall_dircalc': 0.6052631578947368, 'f1_dircalc': 0.6052631578947368, 'fbeta_dircalc': 0.6052631578947368, 'prec_recall_f_dircalc': (0.6052631578947368, 0.6052631578947368, 0.6052631578947368, None), 'rocauc_pp_dircalc': 0.7313019390581718, 'rocauc_df_dircalc': 0.7313019390581718}\n"
     ]
    }
   ],
   "source": [
    "# Multi-class case : \n",
    "X_train, X_test, Y_train_1D, Y_test_1D = do_train_test_split(X, label_filt_cyc)\n",
    "\n",
    "check_if_Y_1D_is_correct(Y_test_1D)\n",
    "\n",
    "# multi-class Stochastic Gradient Descent\n",
    "model, Y_train_1D_predict, Y_test_1D_predict, Y_train_bin_pp, Y_test_bin_pp, Y_train_bin_score, Y_test_bin_score = multiclass_stochastic_gradient_descent(X_train, X_test, Y_train_1D, Y_test_1D)\n",
    "\n",
    "value_pack_train = evaluation_methods_multi_class_1D(model, X_train, Y_train_1D, Y_train_1D_predict, Y_train_bin_pp, Y_train_bin_score)\n",
    "print('value_pack_train : ', value_pack_train)\n",
    "\n",
    "value_pack_test = evaluation_methods_multi_class_1D(model, X_test, Y_test_1D, Y_test_1D_predict, Y_test_bin_pp, Y_test_bin_score)\n",
    "print('value_pack_test : ', value_pack_test)"
   ]
  },
  {
   "cell_type": "code",
   "execution_count": null,
   "id": "a3cd391e",
   "metadata": {},
   "outputs": [],
   "source": []
  }
 ],
 "metadata": {
  "kernelspec": {
   "display_name": "Python 3 (ipykernel)",
   "language": "python",
   "name": "python3"
  },
  "language_info": {
   "codemirror_mode": {
    "name": "ipython",
    "version": 3
   },
   "file_extension": ".py",
   "mimetype": "text/x-python",
   "name": "python",
   "nbconvert_exporter": "python",
   "pygments_lexer": "ipython3",
   "version": "3.9.6"
  }
 },
 "nbformat": 4,
 "nbformat_minor": 5
}
