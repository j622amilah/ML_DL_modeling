{
 "cells": [
  {
   "cell_type": "markdown",
   "id": "a8311d7c",
   "metadata": {},
   "source": [
    "# To collect data there is a SCHDULE to follow, and a Data Logger program\n",
    "\n",
    "The schdule is for telling me when to do what task, and the data logger is a program that is used to report when I exactly did the task.\n",
    "\n",
    "Each mineral stimuli needs to be worn in periods of 4 hours, in between periods of control\n",
    "[stimuli, control 1, stimuli, control 2]"
   ]
  },
  {
   "cell_type": "code",
   "execution_count": 1,
   "id": "abb5cf8d",
   "metadata": {},
   "outputs": [],
   "source": [
    "import numpy as np"
   ]
  },
  {
   "cell_type": "code",
   "execution_count": 36,
   "id": "11230bb6",
   "metadata": {},
   "outputs": [
    {
     "name": "stdout",
     "output_type": "stream",
     "text": [
      "out1 : [ 9 13 17 21]\n",
      "[[ 1.  0.  9. 13.  1. 13. 17.  1. 17. 21.  0. 21. 24.]\n",
      " [ 2.  0.  9. 13.  1. 13. 17.  0. 17. 21.  1. 21. 24.]\n",
      " [ 3.  0.  9. 13.  1. 13. 17.  0. 17. 21.  0. 21. 24.]\n",
      " [ 4.  1.  9. 13.  0. 13. 17.  0. 17. 21.  1. 21. 24.]\n",
      " [ 5.  1.  9. 13.  1. 13. 17.  1. 17. 21.  1. 21. 24.]\n",
      " [ 6.  1.  9. 13.  1. 13. 17.  0. 17. 21.  1. 21. 24.]\n",
      " [ 7.  1.  9. 13.  1. 13. 17.  0. 17. 21.  0. 21. 24.]\n",
      " [ 8.  0.  9. 13.  1. 13. 17.  1. 17. 21.  1. 21. 24.]\n",
      " [ 9.  1.  9. 13.  0. 13. 17.  1. 17. 21.  0. 21. 24.]\n",
      " [10.  0.  9. 13.  0. 13. 17.  1. 17. 21.  1. 21. 24.]\n",
      " [11.  0.  9. 13.  0. 13. 17.  1. 17. 21.  0. 21. 24.]\n",
      " [12.  0.  9. 13.  0. 13. 17.  1. 17. 21.  1. 21. 24.]\n",
      " [13.  1.  9. 13.  1. 13. 17.  0. 17. 21.  1. 21. 24.]\n",
      " [14.  0.  9. 13.  0. 13. 17.  0. 17. 21.  1. 21. 24.]\n",
      " [15.  0.  9. 13.  0. 13. 17.  0. 17. 21.  1. 21. 24.]\n",
      " [16.  0.  9. 13.  1. 13. 17.  0. 17. 21.  1. 21. 24.]\n",
      " [17.  1.  9. 13.  0. 13. 17.  0. 17. 21.  0. 21. 24.]\n",
      " [18.  1.  9. 13.  1. 13. 17.  1. 17. 21.  0. 21. 24.]\n",
      " [19.  0.  9. 13.  1. 13. 17.  1. 17. 21.  0. 21. 24.]\n",
      " [20.  1.  9. 13.  0. 13. 17.  0. 17. 21.  0. 21. 24.]\n",
      " [21.  1.  9. 13.  1. 13. 17.  0. 17. 21.  0. 21. 24.]\n",
      " [22.  0.  9. 13.  0. 13. 17.  0. 17. 21.  0. 21. 24.]\n",
      " [23.  1.  9. 13.  0. 13. 17.  1. 17. 21.  1. 21. 24.]\n",
      " [24.  1.  9. 13.  0. 13. 17.  1. 17. 21.  1. 21. 24.]\n",
      " [25.  1.  9. 13.  0. 13. 17.  1. 17. 21.  0. 21. 24.]\n",
      " [26.  1.  9. 13.  1. 13. 17.  1. 17. 21.  1. 21. 24.]\n",
      " [27.  0.  9. 13.  0. 13. 17.  1. 17. 21.  0. 21. 24.]\n",
      " [28.  1.  9. 13.  1. 13. 17.  1. 17. 21.  1. 21. 24.]\n",
      " [29.  1.  9. 13.  1. 13. 17.  1. 17. 21.  1. 21. 24.]\n",
      " [30.  1.  9. 13.  1. 13. 17.  1. 17. 21.  0. 21. 24.]]\n"
     ]
    }
   ],
   "source": [
    "start_hour = 9  \n",
    "end_hour = 24  # do not want it to go past this value, but don't care if the last value is 20\n",
    "interval = 4  #interval\n",
    "\n",
    "out1 = np.array(range(start_hour, end_hour, interval))\n",
    "print('out1 : ' + str(out1))\n",
    "\n",
    "days = 30\n",
    "mat = np.zeros((days, 13))\n",
    "for i in range(days):\n",
    "    stim1 = np.random.permutation(2)  # [0=rose quartz, 1=howlite]\n",
    "    ctrl1 = np.random.permutation(2)  # [0=no bracelet, 1=normal metal bracelet]\n",
    "    stim2 = np.random.permutation(2)\n",
    "    ctrl2 = np.random.permutation(2)\n",
    "    mat[i,:] = [i+1, stim1[0], out1[0], out1[1], ctrl1[0], out1[1], out1[2], stim2[0], out1[2], out1[3], ctrl2[0], out1[3], end_hour]\n",
    "print(mat)"
   ]
  },
  {
   "cell_type": "code",
   "execution_count": 41,
   "id": "1eb36d63",
   "metadata": {},
   "outputs": [],
   "source": [
    "np.savetxt(\"schedule_30days_juin.txt\", np.array(mat), fmt=\"%s\")"
   ]
  },
  {
   "cell_type": "markdown",
   "id": "695050d4",
   "metadata": {},
   "source": [
    "# Data Logger program"
   ]
  },
  {
   "cell_type": "code",
   "execution_count": null,
   "id": "a208d746",
   "metadata": {},
   "outputs": [],
   "source": [
    "# Created datalogger_gui.py to conveniently log the event data"
   ]
  },
  {
   "cell_type": "code",
   "execution_count": null,
   "id": "0e8c1f8c",
   "metadata": {},
   "outputs": [],
   "source": [
    "# Convert the .py file to a .exe file, so it is easier to access - DID NOT WORK\n",
    "# There are less files using the --onefile option \n",
    "\"C:\\Users\\HP EliteBook\\AppData\\Roaming\\Python\\Python39\\Scripts\\pyinstaller.exe\" --onefile datalogger_gui.py\n",
    "# a .exe file is created in the FullPathOfFile\\dist"
   ]
  },
  {
   "cell_type": "markdown",
   "id": "94fbc12e",
   "metadata": {},
   "source": [
    "# Temperature Logger\n",
    "https://create.arduino.cc/projecthub/yanvaf/arduino-and-tmp102-temperature-sensor-11bd94\n"
   ]
  },
  {
   "cell_type": "markdown",
   "id": "e4746abb",
   "metadata": {},
   "source": [
    "# Estimating breathing from HR"
   ]
  },
  {
   "cell_type": "code",
   "execution_count": null,
   "id": "5bda1c30",
   "metadata": {},
   "outputs": [],
   "source": []
  }
 ],
 "metadata": {
  "kernelspec": {
   "display_name": "Python 3",
   "language": "python",
   "name": "python3"
  },
  "language_info": {
   "codemirror_mode": {
    "name": "ipython",
    "version": 3
   },
   "file_extension": ".py",
   "mimetype": "text/x-python",
   "name": "python",
   "nbconvert_exporter": "python",
   "pygments_lexer": "ipython3",
   "version": "3.9.5"
  }
 },
 "nbformat": 4,
 "nbformat_minor": 5
}
